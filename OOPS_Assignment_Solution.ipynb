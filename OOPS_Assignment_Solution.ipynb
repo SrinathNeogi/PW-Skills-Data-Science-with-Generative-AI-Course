{
  "nbformat": 4,
  "nbformat_minor": 0,
  "metadata": {
    "colab": {
      "provenance": [],
      "authorship_tag": "ABX9TyNqnOWR+qes7EUoSML9tZKK",
      "include_colab_link": true
    },
    "kernelspec": {
      "name": "python3",
      "display_name": "Python 3"
    },
    "language_info": {
      "name": "python"
    }
  },
  "cells": [
    {
      "cell_type": "markdown",
      "metadata": {
        "id": "view-in-github",
        "colab_type": "text"
      },
      "source": [
        "<a href=\"https://colab.research.google.com/github/SrinathNeogi/PW-Skills-Data-Science-with-Generative-AI-Course/blob/main/OOPS_Assignment_Solution.ipynb\" target=\"_parent\"><img src=\"https://colab.research.google.com/assets/colab-badge.svg\" alt=\"Open In Colab\"/></a>"
      ]
    },
    {
      "cell_type": "code",
      "execution_count": null,
      "metadata": {
        "id": "oeH6nJh0K4ch"
      },
      "outputs": [],
      "source": [
        "#Q1\n",
        "# Importance of Function => 1.Simplifying task 2.Reusability 3.Organised and compact code"
      ]
    },
    {
      "cell_type": "code",
      "source": [
        "#Q2\n",
        "def greet_students(name):\n",
        "    print(f\"Hello {name}\")\n",
        "greet_students(\"Srinath\")"
      ],
      "metadata": {
        "colab": {
          "base_uri": "https://localhost:8080/"
        },
        "id": "9562WI1sJMzs",
        "outputId": "e8aa6eab-56bf-4d7a-89e5-761ae330dee3"
      },
      "execution_count": null,
      "outputs": [
        {
          "output_type": "stream",
          "name": "stdout",
          "text": [
            "Hello Srinath\n"
          ]
        }
      ]
    },
    {
      "cell_type": "code",
      "source": [
        "#Q3\n",
        "# print statement display the programmer defined line to the user and print does not ternimate the program by itself\n",
        "# return statement return the value to the caller function , it can terminate a program by itself"
      ],
      "metadata": {
        "id": "RvK8rwhwKE3y"
      },
      "execution_count": null,
      "outputs": []
    },
    {
      "cell_type": "code",
      "source": [
        "#Q4\n",
        "# *args and **kwargs are the VARIABLE LENGTH ARGUMENTS. Which is essential to take variable numbers of arguments in a function.\n",
        "# *args takes variable number of positional arguments.\n",
        "# **kwargs takes variable number of keyword arguments.(key,value pair)"
      ],
      "metadata": {
        "id": "65huHrJzKqbm"
      },
      "execution_count": null,
      "outputs": []
    },
    {
      "cell_type": "code",
      "source": [
        "#Q5\n",
        "# iterator function => iter() => is the function which makes an iterable objetc to be iterated over.\n",
        "str1 = \"PW Skills\"\n",
        "str_iter = iter(str1)\n",
        "for i in range(len(str1)):\n",
        "    print(next(str_iter))"
      ],
      "metadata": {
        "colab": {
          "base_uri": "https://localhost:8080/"
        },
        "id": "PkrZfKmmLNgu",
        "outputId": "0dfc9ef6-8e7b-402a-b8ff-fb84c09ec7fe"
      },
      "execution_count": null,
      "outputs": [
        {
          "output_type": "stream",
          "name": "stdout",
          "text": [
            "P\n",
            "W\n",
            " \n",
            "S\n",
            "k\n",
            "i\n",
            "l\n",
            "l\n",
            "s\n"
          ]
        }
      ]
    },
    {
      "cell_type": "code",
      "source": [
        "#Q6\n",
        "def Square_generator(n):\n",
        "    i=1\n",
        "    while i <= n:\n",
        "        yield i**2\n",
        "        i += 1\n",
        "\n",
        "n = int(input(\"Enter the number : \"))\n",
        "\n",
        "sq = Square_generator(n)\n",
        "\n",
        "for i in range(n):\n",
        "    print(next(sq))\n"
      ],
      "metadata": {
        "colab": {
          "base_uri": "https://localhost:8080/"
        },
        "id": "cR5lBX00N_Bu",
        "outputId": "ed8f1c5e-0d85-4a27-d3a1-0baf9cbebedb"
      },
      "execution_count": null,
      "outputs": [
        {
          "output_type": "stream",
          "name": "stdout",
          "text": [
            "Enter the number : 5\n",
            "1\n",
            "4\n",
            "9\n",
            "16\n",
            "25\n"
          ]
        }
      ]
    },
    {
      "cell_type": "code",
      "source": [
        "#Q7\n",
        "def Palindrome_generator(n):\n",
        "    for i in range(n):\n",
        "        if str(i) == str(i)[::-1]:\n",
        "            yield i\n",
        "\n",
        "n = int(input(\"Enter the number : \"))\n",
        "pali = Palindrome_generator(n)\n",
        "\n",
        "for i in range(n):\n",
        "    if(i == n):\n",
        "        raise StopIteration\n",
        "    else:\n",
        "        print(next(pali))\n"
      ],
      "metadata": {
        "colab": {
          "base_uri": "https://localhost:8080/",
          "height": 523
        },
        "id": "ADqClMv-OVs4",
        "outputId": "5c8548d3-d225-4b7d-b3d5-e2c8141ba8ff"
      },
      "execution_count": null,
      "outputs": [
        {
          "output_type": "stream",
          "name": "stdout",
          "text": [
            "Enter the number : 100\n",
            "0\n",
            "1\n",
            "2\n",
            "3\n",
            "4\n",
            "5\n",
            "6\n",
            "7\n",
            "8\n",
            "9\n",
            "11\n",
            "22\n",
            "33\n",
            "44\n",
            "55\n",
            "66\n",
            "77\n",
            "88\n",
            "99\n"
          ]
        },
        {
          "output_type": "error",
          "ename": "StopIteration",
          "evalue": "",
          "traceback": [
            "\u001b[0;31m---------------------------------------------------------------------------\u001b[0m",
            "\u001b[0;31mStopIteration\u001b[0m                             Traceback (most recent call last)",
            "\u001b[0;32m<ipython-input-53-36cc0fcc8bfa>\u001b[0m in \u001b[0;36m<cell line: 10>\u001b[0;34m()\u001b[0m\n\u001b[1;32m     12\u001b[0m         \u001b[0;32mraise\u001b[0m \u001b[0mStopIteration\u001b[0m\u001b[0;34m\u001b[0m\u001b[0;34m\u001b[0m\u001b[0m\n\u001b[1;32m     13\u001b[0m     \u001b[0;32melse\u001b[0m\u001b[0;34m:\u001b[0m\u001b[0;34m\u001b[0m\u001b[0;34m\u001b[0m\u001b[0m\n\u001b[0;32m---> 14\u001b[0;31m         \u001b[0mprint\u001b[0m\u001b[0;34m(\u001b[0m\u001b[0mnext\u001b[0m\u001b[0;34m(\u001b[0m\u001b[0mpali\u001b[0m\u001b[0;34m)\u001b[0m\u001b[0;34m)\u001b[0m\u001b[0;34m\u001b[0m\u001b[0;34m\u001b[0m\u001b[0m\n\u001b[0m",
            "\u001b[0;31mStopIteration\u001b[0m: "
          ]
        }
      ]
    },
    {
      "cell_type": "code",
      "source": [
        "#Q8\n",
        "def Even_generator(n):\n",
        "    i = 2\n",
        "    while i <= n:\n",
        "        if(i % 2 == 0):\n",
        "            yield i\n",
        "        i += 1\n",
        "\n",
        "n = int(input(\"Enter the number : \"))\n",
        "even = Even_generator(n)\n",
        "\n",
        "for i in range(n):\n",
        "        print(next(even))"
      ],
      "metadata": {
        "colab": {
          "base_uri": "https://localhost:8080/",
          "height": 280
        },
        "id": "vaqAnKX0SAcy",
        "outputId": "4e8d1b64-0d76-48e0-e393-b4cc487a3d9a"
      },
      "execution_count": null,
      "outputs": [
        {
          "output_type": "stream",
          "name": "stdout",
          "text": [
            "Enter the number : 10\n",
            "2\n",
            "4\n",
            "6\n",
            "8\n",
            "10\n"
          ]
        },
        {
          "output_type": "error",
          "ename": "StopIteration",
          "evalue": "",
          "traceback": [
            "\u001b[0;31m---------------------------------------------------------------------------\u001b[0m",
            "\u001b[0;31mStopIteration\u001b[0m                             Traceback (most recent call last)",
            "\u001b[0;32m<ipython-input-56-489f1e1760ab>\u001b[0m in \u001b[0;36m<cell line: 12>\u001b[0;34m()\u001b[0m\n\u001b[1;32m     11\u001b[0m \u001b[0;34m\u001b[0m\u001b[0m\n\u001b[1;32m     12\u001b[0m \u001b[0;32mfor\u001b[0m \u001b[0mi\u001b[0m \u001b[0;32min\u001b[0m \u001b[0mrange\u001b[0m\u001b[0;34m(\u001b[0m\u001b[0mn\u001b[0m\u001b[0;34m)\u001b[0m\u001b[0;34m:\u001b[0m\u001b[0;34m\u001b[0m\u001b[0;34m\u001b[0m\u001b[0m\n\u001b[0;32m---> 13\u001b[0;31m         \u001b[0mprint\u001b[0m\u001b[0;34m(\u001b[0m\u001b[0mnext\u001b[0m\u001b[0;34m(\u001b[0m\u001b[0meven\u001b[0m\u001b[0;34m)\u001b[0m\u001b[0;34m)\u001b[0m\u001b[0;34m\u001b[0m\u001b[0;34m\u001b[0m\u001b[0m\n\u001b[0m",
            "\u001b[0;31mStopIteration\u001b[0m: "
          ]
        }
      ]
    },
    {
      "cell_type": "code",
      "source": [
        "#Q9\n",
        "def Power_generator(n):\n",
        "    i = 0\n",
        "    while i<=n:\n",
        "        yield 2**i\n",
        "        i += 1\n",
        "\n",
        "n = int(input(\"Enter the number : \"))\n",
        "power = Power_generator(n)\n",
        "\n",
        "for i in range(n+1):\n",
        "    print(next(power))\n"
      ],
      "metadata": {
        "colab": {
          "base_uri": "https://localhost:8080/"
        },
        "id": "t2XdNZhcTDX6",
        "outputId": "ec919d19-7447-4036-d018-71051df9ae40"
      },
      "execution_count": null,
      "outputs": [
        {
          "output_type": "stream",
          "name": "stdout",
          "text": [
            "Enter the number : 10\n",
            "1\n",
            "2\n",
            "4\n",
            "8\n",
            "16\n",
            "32\n",
            "64\n",
            "128\n",
            "256\n",
            "512\n",
            "1024\n"
          ]
        }
      ]
    },
    {
      "cell_type": "code",
      "source": [
        "#Q10\n",
        "def Prime_generator(n):\n",
        "    for i in range(2,n):\n",
        "        for j in range(2,i):\n",
        "            if(i % j == 0):\n",
        "                break\n",
        "        else:\n",
        "            yield i\n",
        "\n",
        "n = int(input(\"Enter the number : \"))\n",
        "prime = Prime_generator(n)\n",
        "\n",
        "for i in range(n):\n",
        "    print(next(prime),end = \"   \")"
      ],
      "metadata": {
        "id": "YfY_Poo9TqVz",
        "colab": {
          "base_uri": "https://localhost:8080/",
          "height": 211
        },
        "outputId": "3f7e5cca-bc95-4187-d7e1-f1e85120e8b7"
      },
      "execution_count": null,
      "outputs": [
        {
          "output_type": "stream",
          "name": "stdout",
          "text": [
            "Enter the number : 100\n",
            "2   3   5   7   11   13   17   19   23   29   31   37   41   43   47   53   59   61   67   71   73   79   83   89   97   "
          ]
        },
        {
          "output_type": "error",
          "ename": "StopIteration",
          "evalue": "",
          "traceback": [
            "\u001b[0;31m---------------------------------------------------------------------------\u001b[0m",
            "\u001b[0;31mStopIteration\u001b[0m                             Traceback (most recent call last)",
            "\u001b[0;32m<ipython-input-5-99eeb8e3174a>\u001b[0m in \u001b[0;36m<cell line: 13>\u001b[0;34m()\u001b[0m\n\u001b[1;32m     12\u001b[0m \u001b[0;34m\u001b[0m\u001b[0m\n\u001b[1;32m     13\u001b[0m \u001b[0;32mfor\u001b[0m \u001b[0mi\u001b[0m \u001b[0;32min\u001b[0m \u001b[0mrange\u001b[0m\u001b[0;34m(\u001b[0m\u001b[0mn\u001b[0m\u001b[0;34m)\u001b[0m\u001b[0;34m:\u001b[0m\u001b[0;34m\u001b[0m\u001b[0;34m\u001b[0m\u001b[0m\n\u001b[0;32m---> 14\u001b[0;31m     \u001b[0mprint\u001b[0m\u001b[0;34m(\u001b[0m\u001b[0mnext\u001b[0m\u001b[0;34m(\u001b[0m\u001b[0mprime\u001b[0m\u001b[0;34m)\u001b[0m\u001b[0;34m,\u001b[0m\u001b[0mend\u001b[0m \u001b[0;34m=\u001b[0m \u001b[0;34m\"   \"\u001b[0m\u001b[0;34m)\u001b[0m\u001b[0;34m\u001b[0m\u001b[0;34m\u001b[0m\u001b[0m\n\u001b[0m",
            "\u001b[0;31mStopIteration\u001b[0m: "
          ]
        }
      ]
    },
    {
      "cell_type": "code",
      "source": [
        "#Q11\n",
        "sum = lambda x,y : x + y\n",
        "print(sum(5,6))"
      ],
      "metadata": {
        "colab": {
          "base_uri": "https://localhost:8080/"
        },
        "id": "hjkt9hPMU25b",
        "outputId": "067892a9-ac91-4757-b77e-2084c3aa930c"
      },
      "execution_count": null,
      "outputs": [
        {
          "output_type": "stream",
          "name": "stdout",
          "text": [
            "11\n"
          ]
        }
      ]
    },
    {
      "cell_type": "code",
      "source": [
        "#Q12\n",
        "square = lambda x : x**2\n",
        "n = int(input(\"Enter the number : \"))\n",
        "print(square(n))"
      ],
      "metadata": {
        "colab": {
          "base_uri": "https://localhost:8080/"
        },
        "id": "KtSfM94eb3lv",
        "outputId": "f32f98b3-c671-4498-ab7e-4c89e2eaf78e"
      },
      "execution_count": null,
      "outputs": [
        {
          "output_type": "stream",
          "name": "stdout",
          "text": [
            "Enter the number : 5\n",
            "25\n"
          ]
        }
      ]
    },
    {
      "cell_type": "code",
      "source": [
        "#Q13\n",
        "check = lambda x : x % 2 == 0\n",
        "n = int(input(\"Enter number to check : \"))\n",
        "if(check(n)):\n",
        "    print(n,\"even\")\n",
        "else:\n",
        "    print(n,\"odd\")"
      ],
      "metadata": {
        "colab": {
          "base_uri": "https://localhost:8080/"
        },
        "id": "hgBmdH00c5cu",
        "outputId": "33f93880-b362-42c0-e9b1-12b17b911e0a"
      },
      "execution_count": null,
      "outputs": [
        {
          "output_type": "stream",
          "name": "stdout",
          "text": [
            "Enter number to check : 6\n",
            "6 even\n"
          ]
        }
      ]
    },
    {
      "cell_type": "code",
      "source": [
        "#Q15\n",
        "string_concat = lambda x,y : x + y\n",
        "print(string_concat(\"Srinath \",\"Neogi\"))"
      ],
      "metadata": {
        "colab": {
          "base_uri": "https://localhost:8080/"
        },
        "id": "KFNtzHWgfiQC",
        "outputId": "46062db2-aed2-4f97-feff-8f12939812f4"
      },
      "execution_count": null,
      "outputs": [
        {
          "output_type": "stream",
          "name": "stdout",
          "text": [
            "Srinath Neogi\n"
          ]
        }
      ]
    },
    {
      "cell_type": "code",
      "source": [
        "#Q16\n",
        "from functools import reduce\n",
        "l1 = list()\n",
        "for i in range(3):\n",
        "    x = int(input(\"Enter number : \"))\n",
        "    l1.append(x)\n",
        "\n",
        "print(\"Largest among three  :\",reduce(lambda x,y : x if x>y else y,l1))"
      ],
      "metadata": {
        "colab": {
          "base_uri": "https://localhost:8080/"
        },
        "id": "GcqJfpZQmJ18",
        "outputId": "13cfc118-9d52-47f7-a55e-3bf2adf2e8cf"
      },
      "execution_count": null,
      "outputs": [
        {
          "output_type": "stream",
          "name": "stdout",
          "text": [
            "Enter number : 100\n",
            "Enter number : 3\n",
            "Enter number : 555\n",
            "Largest among three  : 555\n"
          ]
        }
      ]
    },
    {
      "cell_type": "code",
      "source": [
        "#Q17\n",
        "l1 = [1,2,3,4,5,6,7,8,9,10]\n",
        "\n",
        "print([i**2 for i in list(filter(lambda x : x%2 == 0,l1))])"
      ],
      "metadata": {
        "colab": {
          "base_uri": "https://localhost:8080/"
        },
        "id": "J2nWGdMWmp_L",
        "outputId": "31ec3874-6e95-4524-ce35-be63e4db8b21"
      },
      "execution_count": null,
      "outputs": [
        {
          "output_type": "stream",
          "name": "stdout",
          "text": [
            "[4, 16, 36, 64, 100]\n",
            "[4, 16, 36, 64, 100]\n"
          ]
        }
      ]
    },
    {
      "cell_type": "code",
      "source": [
        "#Q18\n",
        "from functools import reduce\n",
        "l1 = [1,-2,3,-4,5,-6,-7,8,-9,10]\n",
        "\n",
        "reduce(lambda x,y:x*y if y>0 else x,l1)"
      ],
      "metadata": {
        "colab": {
          "base_uri": "https://localhost:8080/"
        },
        "id": "i_P0Dl2j13PS",
        "outputId": "04db058f-26ac-4c95-bfc6-c06a8901a6dc"
      },
      "execution_count": null,
      "outputs": [
        {
          "output_type": "execute_result",
          "data": {
            "text/plain": [
              "1200"
            ]
          },
          "metadata": {},
          "execution_count": 5
        }
      ]
    },
    {
      "cell_type": "code",
      "source": [
        "#Q19\n",
        "l1 = [1,2,3,4,5,6,7,8,9,10,11]\n",
        "\n",
        "print(list(map(lambda x:x*2 if x%2 != 0 else x,l1)))"
      ],
      "metadata": {
        "colab": {
          "base_uri": "https://localhost:8080/"
        },
        "id": "CtfHo5nR_qRq",
        "outputId": "3817016f-ddaa-40b5-f3db-30edce3e4406"
      },
      "execution_count": null,
      "outputs": [
        {
          "output_type": "stream",
          "name": "stdout",
          "text": [
            "[2, 2, 6, 4, 10, 6, 14, 8, 18, 10, 22]\n"
          ]
        }
      ]
    },
    {
      "cell_type": "markdown",
      "source": [],
      "metadata": {
        "id": "9lbZtUohR_uP"
      }
    },
    {
      "cell_type": "code",
      "source": [
        "#Q20\n",
        "from functools import reduce\n",
        "l1 = [3,3]\n",
        "l2 = list(map(lambda x : x**3,l1))\n",
        "reduce(lambda x,y : x+y,l2)"
      ],
      "metadata": {
        "colab": {
          "base_uri": "https://localhost:8080/"
        },
        "id": "AjAMl4BIlmRm",
        "outputId": "a6d68f5d-7ec3-4f86-be22-9a4457a82e4f"
      },
      "execution_count": null,
      "outputs": [
        {
          "output_type": "execute_result",
          "data": {
            "text/plain": [
              "54"
            ]
          },
          "metadata": {},
          "execution_count": 14
        }
      ]
    },
    {
      "cell_type": "code",
      "source": [
        "#Q21\n",
        "def prime(n):\n",
        "    for i in range(2,n+1):\n",
        "        for j in range(2,n):\n",
        "            if i%j == 0:\n",
        "                break\n",
        "        else:\n",
        "            return i\n",
        "\n",
        "l1 = [1,2,3,4,5,6,7,8,9,10,11]\n",
        "\n",
        "list(filter(prime,l1))"
      ],
      "metadata": {
        "colab": {
          "base_uri": "https://localhost:8080/"
        },
        "id": "bSGlEf0eOYH9",
        "outputId": "0d319e35-b22f-454b-849a-715a77df7f90"
      },
      "execution_count": null,
      "outputs": [
        {
          "output_type": "execute_result",
          "data": {
            "text/plain": [
              "[2, 3, 5, 7, 11]"
            ]
          },
          "metadata": {},
          "execution_count": 17
        }
      ]
    },
    {
      "cell_type": "code",
      "source": [
        "#Q22\n",
        "sum = lambda x,y:x+y\n",
        "sum(2,3)"
      ],
      "metadata": {
        "colab": {
          "base_uri": "https://localhost:8080/"
        },
        "id": "KjpeMTeUVYNS",
        "outputId": "49af9e23-3969-46ca-db47-cf99c259e280"
      },
      "execution_count": null,
      "outputs": [
        {
          "output_type": "execute_result",
          "data": {
            "text/plain": [
              "5"
            ]
          },
          "metadata": {},
          "execution_count": 18
        }
      ]
    },
    {
      "cell_type": "code",
      "source": [
        "#Q23\n",
        "square = lambda x : x**2\n",
        "n = int(input(\"Enter number :\"))\n",
        "square(n)"
      ],
      "metadata": {
        "colab": {
          "base_uri": "https://localhost:8080/"
        },
        "id": "NBiPhsprX5T5",
        "outputId": "53c76e97-fc97-4dde-92a6-14043e536a7a"
      },
      "execution_count": null,
      "outputs": [
        {
          "name": "stdout",
          "output_type": "stream",
          "text": [
            "Enter number :4\n"
          ]
        },
        {
          "output_type": "execute_result",
          "data": {
            "text/plain": [
              "16"
            ]
          },
          "metadata": {},
          "execution_count": 19
        }
      ]
    },
    {
      "cell_type": "code",
      "source": [
        "#Q24\n",
        "check = lambda x : x%2 == 0\n",
        "n = int(input(\"Enter n : \"))\n",
        "if check(n):\n",
        "    print(n,\"Even\")\n",
        "else:\n",
        "    print(n,\"Odd\")"
      ],
      "metadata": {
        "colab": {
          "base_uri": "https://localhost:8080/"
        },
        "id": "pcnHzliPYFXC",
        "outputId": "93563491-cfc8-452d-aa4d-bf6bbe865cf2"
      },
      "execution_count": null,
      "outputs": [
        {
          "output_type": "stream",
          "name": "stdout",
          "text": [
            "Enter n : 5\n",
            "5 Odd\n"
          ]
        }
      ]
    },
    {
      "cell_type": "code",
      "source": [
        "#Q25 is same as Q15"
      ],
      "metadata": {
        "id": "voNCjWKKYgJt"
      },
      "execution_count": null,
      "outputs": []
    },
    {
      "cell_type": "code",
      "source": [
        "#Q26 is same as Q16"
      ],
      "metadata": {
        "id": "Zj9D-z97Y3m1"
      },
      "execution_count": null,
      "outputs": []
    },
    {
      "cell_type": "code",
      "source": [
        "#Q27\n",
        "\"\"\"\n",
        "Encapsulation is a fundamental concept in object-oriented programming (OOP) that involves bundling\n",
        "data (attributes) and methods (functions) that operate on that data within a single unit called a class.\n",
        " It's like creating a protective capsule around data, controlling access to it and ensuring data integrity.\n",
        "\"\"\""
      ],
      "metadata": {
        "colab": {
          "base_uri": "https://localhost:8080/",
          "height": 70
        },
        "id": "bgOfS9QzY5zz",
        "outputId": "65785309-d9d4-4ec5-8287-6d19f4b6d234"
      },
      "execution_count": null,
      "outputs": [
        {
          "output_type": "execute_result",
          "data": {
            "text/plain": [
              "\"\\nEncapsulation is a fundamental concept in object-oriented programming (OOP) that involves bundling \\ndata (attributes) and methods (functions) that operate on that data within a single unit called a class.\\n It's like creating a protective capsule around data, controlling access to it and ensuring data integrity.\\n\""
            ],
            "application/vnd.google.colaboratory.intrinsic+json": {
              "type": "string"
            }
          },
          "metadata": {},
          "execution_count": 23
        }
      ]
    },
    {
      "cell_type": "code",
      "source": [
        "#Q28\n",
        "\"\"\"\n",
        "\n",
        "In Python, access modifiers are used to define the visibility and accessibility of class members (attributes and methods). They help to enforce encapsulation, which is one of the fundamental principles of object-oriented programming. Python has three types of access modifiers:\n",
        "\n",
        "Public Access Modifier:\n",
        "\n",
        "Members declared as public are accessible from anywhere in the program.\n",
        "By default, all members of a class are public unless specified otherwise.\n",
        "Protected Access Modifier:\n",
        "\n",
        "Members declared as protected can be accessed within the class and its subclasses. They are not intended to be accessed from outside the class hierarchy.\n",
        "In Python, protected members are prefixed with a single underscore (_).\n",
        "Private Access Modifier:\n",
        "\n",
        "Members declared as private can only be accessed within the class itself. They are not accessible from outside the class, including from its subclasses.\n",
        "In Python, private members are prefixed with a double underscore (__).\n",
        "\"\"\""
      ],
      "metadata": {
        "id": "N_DdmYihZLi0",
        "colab": {
          "base_uri": "https://localhost:8080/",
          "height": 139
        },
        "outputId": "2cd38aef-3309-46bb-d52f-0963fa4d625a"
      },
      "execution_count": null,
      "outputs": [
        {
          "output_type": "execute_result",
          "data": {
            "text/plain": [
              "'\\n\\nIn Python, access modifiers are used to define the visibility and accessibility of class members (attributes and methods). They help to enforce encapsulation, which is one of the fundamental principles of object-oriented programming. Python has three types of access modifiers:\\n\\nPublic Access Modifier:\\n\\nMembers declared as public are accessible from anywhere in the program.\\nBy default, all members of a class are public unless specified otherwise.\\nProtected Access Modifier:\\n\\nMembers declared as protected can be accessed within the class and its subclasses. They are not intended to be accessed from outside the class hierarchy.\\nIn Python, protected members are prefixed with a single underscore (_).\\nPrivate Access Modifier:\\n\\nMembers declared as private can only be accessed within the class itself. They are not accessible from outside the class, including from its subclasses.\\nIn Python, private members are prefixed with a double underscore (__).\\n'"
            ],
            "application/vnd.google.colaboratory.intrinsic+json": {
              "type": "string"
            }
          },
          "metadata": {},
          "execution_count": 1
        }
      ]
    },
    {
      "cell_type": "code",
      "source": [
        "#Q29\n",
        "\"\"\"\n",
        "Inheritance in Python is a feature of object-oriented programming that allows a class (called the subclass or derived class) to inherit attributes and methods from another class (called the superclass or base class). This enables code reuse and the creation of a hierarchical relationship between classes.\n",
        "\n",
        "Key Points:\n",
        "\n",
        "    Reusability: Inheritance allows a subclass to reuse code from a superclass, reducing redundancy.\n",
        "    Hierarchy: It establishes a parent-child relationship between classes.\n",
        "    Extensibility: Subclasses can add new attributes and methods or modify existing ones from the superclass.\n",
        "    Polymorphism: Subclasses can override methods from the superclass, allowing different behaviors.\n",
        "\"\"\""
      ],
      "metadata": {
        "colab": {
          "base_uri": "https://localhost:8080/",
          "height": 104
        },
        "id": "vw3eFH7ccwFa",
        "outputId": "56945727-52d9-4799-92d2-74ce852d803c"
      },
      "execution_count": null,
      "outputs": [
        {
          "output_type": "execute_result",
          "data": {
            "text/plain": [
              "'\\nInheritance in Python is a feature of object-oriented programming that allows a class (called the subclass or derived class) to inherit attributes and methods from another class (called the superclass or base class). This enables code reuse and the creation of a hierarchical relationship between classes.\\n\\nKey Points:\\n\\n    Reusability: Inheritance allows a subclass to reuse code from a superclass, reducing redundancy.\\n    Hierarchy: It establishes a parent-child relationship between classes.\\n    Extensibility: Subclasses can add new attributes and methods or modify existing ones from the superclass.\\n    Polymorphism: Subclasses can override methods from the superclass, allowing different behaviors.\\n'"
            ],
            "application/vnd.google.colaboratory.intrinsic+json": {
              "type": "string"
            }
          },
          "metadata": {},
          "execution_count": 3
        }
      ]
    },
    {
      "cell_type": "code",
      "source": [
        "#Q30\n",
        "\"\"\"\n",
        "Polymorphism is a core concept in object-oriented programming (OOP) that refers to the ability of different objects to respond to the same method call in a way that is specific to their class. In Python, polymorphism allows for methods to be used in a general way while still being able to perform different tasks based on the object calling the method.\n",
        "\n",
        "Key Points:\n",
        "Method Overriding: Subclasses can provide a specific implementation of a method that is already defined in their superclass.\n",
        "Method Overloading: Although Python does not support method overloading by default, it can be achieved using default arguments or variable-length arguments.\n",
        "Duck Typing: In Python, polymorphism is often implemented through duck typing, where the type or class of an object is less important than the methods it defines.\n",
        "\"\"\""
      ],
      "metadata": {
        "colab": {
          "base_uri": "https://localhost:8080/",
          "height": 122
        },
        "id": "PBGRZ1nOdcwG",
        "outputId": "28b4b465-d44f-4e27-bf97-d5bb831bfb8c"
      },
      "execution_count": null,
      "outputs": [
        {
          "output_type": "execute_result",
          "data": {
            "text/plain": [
              "'\\nPolymorphism is a core concept in object-oriented programming (OOP) that refers to the ability of different objects to respond to the same method call in a way that is specific to their class. In Python, polymorphism allows for methods to be used in a general way while still being able to perform different tasks based on the object calling the method.\\n\\nKey Points:\\nMethod Overriding: Subclasses can provide a specific implementation of a method that is already defined in their superclass.\\nMethod Overloading: Although Python does not support method overloading by default, it can be achieved using default arguments or variable-length arguments.\\nDuck Typing: In Python, polymorphism is often implemented through duck typing, where the type or class of an object is less important than the methods it defines.\\n'"
            ],
            "application/vnd.google.colaboratory.intrinsic+json": {
              "type": "string"
            }
          },
          "metadata": {},
          "execution_count": 4
        }
      ]
    },
    {
      "cell_type": "markdown",
      "source": [],
      "metadata": {
        "id": "4NJhl4aCcyz9"
      }
    },
    {
      "cell_type": "code",
      "source": [
        "#Q31\n",
        "\"\"\"\n",
        "Method overriding is a concept in object-oriented programming where a subclass provides a specific implementation for a method that is already defined in its parent class. Essentially, it allows you to customize the behavior of an inherited method.\n",
        "\n",
        "Key points:\n",
        "Same name and parameters: The overridden method in the subclass must have the same name and parameters as the method in the parent class.\n",
        "Runtime decision: Python determines which method to call (parent or child) based on the type of object being used.\n",
        "Purpose: To provide specific behavior for the subclass, while still leveraging the parent class's functionality.\n",
        "\"\"\""
      ],
      "metadata": {
        "colab": {
          "base_uri": "https://localhost:8080/",
          "height": 104
        },
        "id": "FF93mlg8ee0N",
        "outputId": "482d7e26-97a0-4396-f1f0-b859f7b4f43f"
      },
      "execution_count": null,
      "outputs": [
        {
          "output_type": "execute_result",
          "data": {
            "text/plain": [
              "\"\\nMethod overriding is a concept in object-oriented programming where a subclass provides a specific implementation for a method that is already defined in its parent class. Essentially, it allows you to customize the behavior of an inherited method. \\xa0 \\n\\nKey points:\\nSame name and parameters: The overridden method in the subclass must have the same name and parameters as the method in the parent class.\\nRuntime decision: Python determines which method to call (parent or child) based on the type of object being used.\\nPurpose: To provide specific behavior for the subclass, while still leveraging the parent class's functionality.\\n\""
            ],
            "application/vnd.google.colaboratory.intrinsic+json": {
              "type": "string"
            }
          },
          "metadata": {},
          "execution_count": 5
        }
      ]
    },
    {
      "cell_type": "code",
      "source": [
        "#Q32\n",
        "class Animal():\n",
        "    def make_sound(self):\n",
        "        print(\"Generic animal sound\")\n",
        "\n",
        "class Dog(Animal):\n",
        "    def make_sound(self):\n",
        "        print(\"woof!\")\n",
        "\n",
        "d = Dog()\n",
        "d.make_sound()"
      ],
      "metadata": {
        "id": "3lXAiqXzee2m",
        "colab": {
          "base_uri": "https://localhost:8080/"
        },
        "outputId": "b7310641-d20f-46ca-cca8-89458230e8bf"
      },
      "execution_count": null,
      "outputs": [
        {
          "output_type": "stream",
          "name": "stdout",
          "text": [
            "woof!\n"
          ]
        }
      ]
    },
    {
      "cell_type": "code",
      "source": [
        "#Q33\n",
        "class Animal():\n",
        "    def move(self):\n",
        "        print(\"Animal move\")\n",
        "\n",
        "class Dog(Animal):\n",
        "    def move(self):\n",
        "        print(\"Dog running\")\n",
        "\n",
        "animal = Animal()\n",
        "dog = Dog()\n",
        "\n",
        "animal.move()\n",
        "dog.move()"
      ],
      "metadata": {
        "id": "Q3YVGnpUee46",
        "colab": {
          "base_uri": "https://localhost:8080/"
        },
        "outputId": "cb213e90-3ee2-4c60-d6f5-89bb8d3ba8fe"
      },
      "execution_count": null,
      "outputs": [
        {
          "output_type": "stream",
          "name": "stdout",
          "text": [
            "Animal move\n",
            "Dog running\n"
          ]
        }
      ]
    },
    {
      "cell_type": "code",
      "source": [
        "#Q34\n",
        "class Animal():\n",
        "    def make_sound(self):\n",
        "        print(\"Generic animal sound\")\n",
        "class Mamal():\n",
        "    def reproduce(self):\n",
        "        print(\"Give birth to live young\")\n",
        "class Dog(Animal,Mamal):\n",
        "    pass\n",
        "\n",
        "dog = Dog()\n",
        "dog.make_sound()\n",
        "dog.reproduce()"
      ],
      "metadata": {
        "id": "Z-4BonUqee7J",
        "colab": {
          "base_uri": "https://localhost:8080/"
        },
        "outputId": "64cf24b6-e791-4716-c253-ac8c9ab87d83"
      },
      "execution_count": null,
      "outputs": [
        {
          "output_type": "stream",
          "name": "stdout",
          "text": [
            "Generic animal sound\n",
            "Give birth to live young\n"
          ]
        }
      ]
    },
    {
      "cell_type": "code",
      "source": [
        "#Q35\n",
        "class Animal():\n",
        "    def make_sound(self):\n",
        "        print(\"Generic animal sound\")\n",
        "\n",
        "class Dog(Animal):\n",
        "    def make_sound(self):\n",
        "        print(\"woof!\")\n",
        "\n",
        "class JermanSheferd(Dog):\n",
        "    def make_sound(self):\n",
        "        print(\"Bark!\")\n",
        "\n",
        "jerman = JermanSheferd()\n",
        "jerman.make_sound()"
      ],
      "metadata": {
        "id": "dDnwSKnyee9d",
        "colab": {
          "base_uri": "https://localhost:8080/"
        },
        "outputId": "7da0874f-e4de-4ffc-fb63-8ad6b0a2a7d5"
      },
      "execution_count": null,
      "outputs": [
        {
          "output_type": "stream",
          "name": "stdout",
          "text": [
            "Bark!\n"
          ]
        }
      ]
    },
    {
      "cell_type": "code",
      "source": [
        "#Q36\n",
        "class Animal:\n",
        "    def __init__(self, name):\n",
        "        self.name = name\n",
        "\n",
        "    def category(self):\n",
        "        print(\"Animal category:\", self.name)\n",
        "\n",
        "class Dog(Animal):\n",
        "    def __init__(self, breed, age):\n",
        "        name1 = ''\n",
        "        self.breed = breed\n",
        "        self.age = age\n",
        "        super().__init__(name = name1)\n",
        "\n",
        "    def dog_breed(self):\n",
        "        print(\"Category : \",self.name,\"Dog breed:\", self.breed, \"Age:\", self.age)\n",
        "\n",
        "animal = Animal(\"Creature\")\n",
        "animal.category()\n",
        "\n",
        "dog = Dog(\"German Shepherd\", 12)\n",
        "dog.dog_breed()"
      ],
      "metadata": {
        "id": "QJJ5-MIvefBV",
        "colab": {
          "base_uri": "https://localhost:8080/"
        },
        "outputId": "3fc567cc-19a2-4e8f-b0cf-6910e4c64398"
      },
      "execution_count": null,
      "outputs": [
        {
          "output_type": "stream",
          "name": "stdout",
          "text": [
            "Animal category: Creature\n",
            "Category :   Dog breed: German Shepherd Age: 12\n"
          ]
        }
      ]
    },
    {
      "cell_type": "code",
      "source": [
        "#Q37\n",
        "\"\"\"\n",
        "Abstraction is a fundamental concept in object-oriented programming (OOP)\n",
        "that involves simplifying complex systems by focusing on essential features and hiding unnecessary details.\n",
        "\"\"\"\n",
        "\n",
        "import abc\n",
        "\n",
        "# Defining the abstract class (Blueprint)\n",
        "class Shape:\n",
        "    @abc.abstractmethod\n",
        "    def area(self):\n",
        "        pass\n",
        "\n",
        "# Use it in any work\n",
        "class Triangle(Shape):\n",
        "    def __init__(self,base,height):\n",
        "        self.base = base\n",
        "        self.height = height\n",
        "\n",
        "    def area(self):\n",
        "        return 0.5*self.base*self.height\n",
        "\n",
        "t = Triangle(4,5)\n",
        "t.area()"
      ],
      "metadata": {
        "id": "dL5pzoc0efF9",
        "colab": {
          "base_uri": "https://localhost:8080/"
        },
        "outputId": "b5bedbfa-d21b-4b98-8ae2-f37b9a136175"
      },
      "execution_count": null,
      "outputs": [
        {
          "output_type": "execute_result",
          "data": {
            "text/plain": [
              "10.0"
            ]
          },
          "metadata": {},
          "execution_count": 1
        }
      ]
    },
    {
      "cell_type": "code",
      "source": [
        "#Q38\n",
        "\"\"\"\n",
        "Simplifies code: By focusing on essential details.\n",
        "Improves readability: Makes code easier to understand.\n",
        "Enhances maintainability: Isolates changes to specific parts of the code.\n",
        "Promotes code reusability: Through shared interfaces.\n",
        "\"\"\""
      ],
      "metadata": {
        "id": "h0e4k6RuefI1",
        "colab": {
          "base_uri": "https://localhost:8080/",
          "height": 52
        },
        "outputId": "e3cb727c-a4bd-463f-b108-d22e5befc471"
      },
      "execution_count": null,
      "outputs": [
        {
          "output_type": "execute_result",
          "data": {
            "text/plain": [
              "'\\nSimplifies code: By focusing on essential details.\\nImproves readability: Makes code easier to understand.\\nEnhances maintainability: Isolates changes to specific parts of the code.\\nPromotes code reusability: Through shared interfaces.\\n'"
            ],
            "application/vnd.google.colaboratory.intrinsic+json": {
              "type": "string"
            }
          },
          "metadata": {},
          "execution_count": 8
        }
      ]
    },
    {
      "cell_type": "code",
      "source": [
        "#Q39\n",
        "\"\"\"\n",
        "Declaration without implementation: They have a signature (name, parameters, return type) but no body.\n",
        "Purpose: Define a contract for subclasses to follow.\n",
        "Enforced implementation: Subclasses must provide concrete implementations for abstract methods.\n",
        "Cannot be instantiated: Classes containing abstract methods cannot be instantiated directly.\n",
        "Decorated with @abstractmethod: Requires importing the abc module and using the @abstractmethod decorator.\n",
        "\"\"\""
      ],
      "metadata": {
        "id": "EdPKgETtefLU",
        "colab": {
          "base_uri": "https://localhost:8080/",
          "height": 87
        },
        "outputId": "354bb924-4950-4cb3-e259-ddf69bba145f"
      },
      "execution_count": null,
      "outputs": [
        {
          "output_type": "execute_result",
          "data": {
            "text/plain": [
              "'\\nDeclaration without implementation: They have a signature (name, parameters, return type) but no body.\\nPurpose: Define a contract for subclasses to follow.\\nEnforced implementation: Subclasses must provide concrete implementations for abstract methods.\\nCannot be instantiated: Classes containing abstract methods cannot be instantiated directly.\\nDecorated with @abstractmethod: Requires importing the abc module and using the @abstractmethod decorator.\\n'"
            ],
            "application/vnd.google.colaboratory.intrinsic+json": {
              "type": "string"
            }
          },
          "metadata": {},
          "execution_count": 9
        }
      ]
    },
    {
      "cell_type": "code",
      "source": [
        "#Q40\n",
        "\"\"\"\n",
        "In Python, abstraction can be achieved using interfaces by employing abstract base classes (ABCs).\n",
        "The abc module in Python provides the infrastructure for defining abstract base classes and interfaces\n",
        "\"\"\""
      ],
      "metadata": {
        "id": "vIEtbXiMefN4",
        "colab": {
          "base_uri": "https://localhost:8080/",
          "height": 52
        },
        "outputId": "04dab1b0-7db7-4b0d-b226-06c8a4ce04c3"
      },
      "execution_count": null,
      "outputs": [
        {
          "output_type": "execute_result",
          "data": {
            "text/plain": [
              "'\\nIn Python, abstraction can be achieved using interfaces by employing abstract base classes (ABCs). \\nThe abc module in Python provides the infrastructure for defining abstract base classes and interfaces\\n'"
            ],
            "application/vnd.google.colaboratory.intrinsic+json": {
              "type": "string"
            }
          },
          "metadata": {},
          "execution_count": 10
        }
      ]
    },
    {
      "cell_type": "code",
      "source": [
        "#Q41\n",
        "import abc\n",
        "# Blue print is ready.\n",
        "class Car:\n",
        "    @abc.abstractmethod\n",
        "    def price(self):\n",
        "        pass\n",
        "\n",
        "# All sub classes must follow this blueprint\n",
        "class BMW(Car):\n",
        "    def __init__(self,price1):\n",
        "        self.price1 = price1\n",
        "\n",
        "    def price(self):\n",
        "        return (\"Price is :\",self.price1)\n",
        "\n",
        "class Audi(Car):\n",
        "    def __init__(self,price1):\n",
        "        self.price1 = price1\n",
        "\n",
        "    def price(self):\n",
        "        return (\"Price is :\",self.price1)\n",
        "\n",
        "bmw = BMW(100000000)\n",
        "print(bmw.price())\n",
        "audi = Audi(1200000)\n",
        "print(audi.price())"
      ],
      "metadata": {
        "id": "N_3cWE87efQQ",
        "colab": {
          "base_uri": "https://localhost:8080/"
        },
        "outputId": "da64ef40-19e6-49a2-a5e1-d3aef2aa915f"
      },
      "execution_count": null,
      "outputs": [
        {
          "output_type": "stream",
          "name": "stdout",
          "text": [
            "('Price is :', 100000000)\n",
            "('Price is :', 1200000)\n"
          ]
        }
      ]
    },
    {
      "cell_type": "code",
      "source": [
        "# Q42\n",
        "class Animal:\n",
        "    def speak(self):\n",
        "        print(\"Generic animal sound\")\n",
        "\n",
        "class Dog(Animal):\n",
        "    def speak(self):\n",
        "        print(\"Woof!\")\n",
        "\n",
        "class Cat(Animal):\n",
        "    def speak(self):\n",
        "        print(\"Meow!\")\n",
        "\n",
        "animals = [Dog(), Cat(), Animal()]\n",
        "for animal in animals:\n",
        "    animal.speak()\n"
      ],
      "metadata": {
        "id": "nlFVOfleefUz",
        "outputId": "51618bb8-8c71-4953-a566-f28b5f8cd6c3",
        "colab": {
          "base_uri": "https://localhost:8080/"
        }
      },
      "execution_count": null,
      "outputs": [
        {
          "output_type": "stream",
          "name": "stdout",
          "text": [
            "Woof!\n",
            "Meow!\n",
            "Generic animal sound\n"
          ]
        }
      ]
    },
    {
      "cell_type": "code",
      "source": [
        "# Q43\n",
        "class Car:\n",
        "    def model(self):\n",
        "        print(\"Car sound\")\n",
        "\n",
        "class BMW(Car):\n",
        "    def model(self):\n",
        "        print(\"Bmw\")\n",
        "\n",
        "b = BMW()\n",
        "b.model()"
      ],
      "metadata": {
        "id": "9hpHDazrefXO",
        "colab": {
          "base_uri": "https://localhost:8080/"
        },
        "outputId": "f94666dc-e86c-4aac-e338-a27805b463bd"
      },
      "execution_count": null,
      "outputs": [
        {
          "output_type": "stream",
          "name": "stdout",
          "text": [
            "Bmw\n"
          ]
        }
      ]
    },
    {
      "cell_type": "code",
      "source": [
        "# Q44\n",
        "class Shape:\n",
        "    def area(self):\n",
        "        print(\"Shape\")\n",
        "\n",
        "class Sphere(Shape):\n",
        "    def area(self):\n",
        "        print(\"Sphere\")\n",
        "\n",
        "class Cube(Shape):\n",
        "    def area(self):\n",
        "        print(\"Cube\")\n",
        "\n",
        "areas = [Cube(),Sphere(),Shape()]\n",
        "\n",
        "for area in areas:\n",
        "    area.area()"
      ],
      "metadata": {
        "id": "zq3OWjOtefZU",
        "colab": {
          "base_uri": "https://localhost:8080/"
        },
        "outputId": "dfb97239-548c-49d5-e618-885fe74c4927"
      },
      "execution_count": null,
      "outputs": [
        {
          "output_type": "stream",
          "name": "stdout",
          "text": [
            "Cube\n",
            "Sphere\n",
            "Shape\n"
          ]
        }
      ]
    },
    {
      "cell_type": "code",
      "source": [
        "# Q45\n",
        "\"\"\"\n",
        "Polymorphism in Python enhances code reusability by allowing you to write generic code that works with different types of objects,\n",
        "reducing duplicate code and promoting efficiency. It improves readability by enabling you to focus on high-level concepts\n",
        "rather than specific object types,\n",
        "leading to more concise and understandable code through abstraction and encapsulation of behaviors.\n",
        "\"\"\""
      ],
      "metadata": {
        "id": "zguFfjXTefbx"
      },
      "execution_count": null,
      "outputs": []
    },
    {
      "cell_type": "code",
      "source": [
        "# Q46\n",
        "# Duck Typing\n",
        "def Sound(Aminal):\n",
        "    return Aminal.Sound()\n",
        "\n",
        "class Dog:\n",
        "    def Sound(self):\n",
        "        print(\"Woof!\")\n",
        "\n",
        "class Cat:\n",
        "    def Sound(self):\n",
        "        print(\"Meow!\")\n",
        "\n",
        "sounds = [Dog(),Cat()]\n",
        "for sound in sounds:\n",
        "    Sound(sound)"
      ],
      "metadata": {
        "id": "IC7N6liEefeS",
        "colab": {
          "base_uri": "https://localhost:8080/"
        },
        "outputId": "ae342889-e42e-45c5-8436-4b6ff6c4f277"
      },
      "execution_count": null,
      "outputs": [
        {
          "output_type": "stream",
          "name": "stdout",
          "text": [
            "Woof!\n",
            "Meow!\n"
          ]
        }
      ]
    },
    {
      "cell_type": "code",
      "source": [
        "# Q47\n",
        "\"\"\"\n",
        "Encapsulation in Python is achieved primarily through conventions rather than strict enforcement.\n",
        "\n",
        "Naming conventions: Using single underscores (_) for protected attributes and double underscores (__) for private attributes signals intent to other developers.\n",
        "Getter and setter methods: Creating public methods to access and modify private attributes provides controlled access and allows for data validation.\n",
        "Class structure: Organizing data and methods within a class encapsulates the object's state and behavior, promoting data hiding.\n",
        "\"\"\""
      ],
      "metadata": {
        "id": "XLp8VExaefis",
        "colab": {
          "base_uri": "https://localhost:8080/",
          "height": 87
        },
        "outputId": "af91eee1-24a0-4982-e25a-5aa5afc45688"
      },
      "execution_count": null,
      "outputs": [
        {
          "output_type": "execute_result",
          "data": {
            "text/plain": [
              "\"\\nEncapsulation in Python is achieved primarily through conventions rather than strict enforcement. \\xa0 \\n\\nNaming conventions: Using single underscores (_) for protected attributes and double underscores (__) for private attributes signals intent to other developers. \\xa0 \\nGetter and setter methods: Creating public methods to access and modify private attributes provides controlled access and allows for data validation.\\nClass structure: Organizing data and methods within a class encapsulates the object's state and behavior, promoting data hiding.\\n\""
            ],
            "application/vnd.google.colaboratory.intrinsic+json": {
              "type": "string"
            }
          },
          "metadata": {},
          "execution_count": 5
        }
      ]
    },
    {
      "cell_type": "code",
      "source": [
        "# Q48\n",
        "\"\"\"\n",
        "Encapsulation can be bypassed -\n",
        "Direct access: Directly accessing the private attribute using its name with the double underscores (e.g., object.__private_attribute) is technically possible but strongly discouraged.\n",
        "Name mangling: Python internally renames private attributes to avoid accidental access, but you can still access them by using the mangled name (e.g., _ClassName__private_attribute). However, this is considered very bad practice and can lead to unexpected behavior and code breakage.\n",
        "\"\"\""
      ],
      "metadata": {
        "id": "wZPLs_-teflI",
        "colab": {
          "base_uri": "https://localhost:8080/",
          "height": 87
        },
        "outputId": "5d5143c6-2935-4f4e-8045-8a4b830ac45c"
      },
      "execution_count": null,
      "outputs": [
        {
          "output_type": "execute_result",
          "data": {
            "text/plain": [
              "'\\nEncapsulation can be bypassed - \\nDirect access: Directly accessing the private attribute using its name with the double underscores (e.g., object.__private_attribute) is technically possible but strongly discouraged.\\nName mangling: Python internally renames private attributes to avoid accidental access, but you can still access them by using the mangled name (e.g., _ClassName__private_attribute). However, this is considered very bad practice and can lead to unexpected behavior and code breakage.\\n'"
            ],
            "application/vnd.google.colaboratory.intrinsic+json": {
              "type": "string"
            }
          },
          "metadata": {},
          "execution_count": 6
        }
      ]
    },
    {
      "cell_type": "code",
      "source": [
        "# Q49\n",
        "class Bank():\n",
        "    def __init__(self,balance):\n",
        "        self.__balance = balance\n",
        "\n",
        "    def deposite(self,amount):\n",
        "        print(\"Present Balance : \",self.__balance)\n",
        "        self.__balance += amount\n",
        "        print(\"Balance after deposite : \",self.__balance)\n",
        "\n",
        "    def withdraw(self,amount):\n",
        "        print(\"Present Balance : \",self.__balance)\n",
        "        self.__balance -= amount\n",
        "        print(\"Balance after withdrawl : \",self.__balance)\n",
        "\n",
        "b = Bank(1000)\n",
        "b.deposite(100)\n",
        "b.withdraw(50)"
      ],
      "metadata": {
        "id": "o0dGyn_befna",
        "colab": {
          "base_uri": "https://localhost:8080/"
        },
        "outputId": "9581384a-514c-4bfa-d5a4-3034f530f515"
      },
      "execution_count": null,
      "outputs": [
        {
          "output_type": "stream",
          "name": "stdout",
          "text": [
            "Present Balance :  1000\n",
            "Balance after deposite :  1100\n",
            "Present Balance :  1100\n",
            "Balance after withdrawl :  1050\n"
          ]
        }
      ]
    },
    {
      "cell_type": "code",
      "source": [
        "# Q50\n",
        "class Person:\n",
        "    def __init__(self,name,email):\n",
        "        self.__name = name\n",
        "        self.__email = email\n",
        "\n",
        "    @property\n",
        "    def access_credentials(self):\n",
        "        return [self.__name,self.__email]\n",
        "\n",
        "    @access_credentials.setter\n",
        "    def name_modify(self,name):\n",
        "        self.__name = name\n",
        "        print(\"Name updated successfully to => \",self.__name)\n",
        "\n",
        "    @access_credentials.setter\n",
        "    def email_modify(self,email):\n",
        "        self.__email = email\n",
        "        print(\"Email updated successfully to => \",self.__email)\n",
        "\n",
        "srinath = Person(\"Srinath\",\"srinath@gmail.com\")\n",
        "print(\"Pervious credentials : \",srinath.access_credentials)\n",
        "srinath.name_modify = \"Srinath Neogi\"\n",
        "srinath.email_modify = \"srinatheogi@gmail.com\"\n",
        "new_credentials = srinath.access_credentials\n",
        "print(\"Credentials after updation : \",new_credentials)"
      ],
      "metadata": {
        "colab": {
          "base_uri": "https://localhost:8080/"
        },
        "id": "E_uE4gAPjoyk",
        "outputId": "c91011b5-cd87-4a9f-97f0-8cb653203b8d"
      },
      "execution_count": null,
      "outputs": [
        {
          "output_type": "stream",
          "name": "stdout",
          "text": [
            "Pervious credentials :  ['Srinath', 'srinath@gmail.com']\n",
            "Name updated successfully to =>  Srinath Neogi\n",
            "Email updated successfully to =>  srinatheogi@gmail.com\n",
            "Credentials after updation :  ['Srinath Neogi', 'srinatheogi@gmail.com']\n"
          ]
        }
      ]
    },
    {
      "cell_type": "code",
      "source": [
        "# Q51\n",
        "\"\"\"\n",
        "Encapsulation is a cornerstone of OOP in Python because it safeguards data integrity and promotes code reusability. By bundling data and its associated methods within a class, encapsulation protects data from accidental modification, enhances code modularity, and makes code more maintainable and understandable.\n",
        "\"\"\""
      ],
      "metadata": {
        "colab": {
          "base_uri": "https://localhost:8080/",
          "height": 70
        },
        "id": "S9fU2pSqDnUt",
        "outputId": "2ef090dc-e95b-40e9-ed39-636cdd2ca4bb"
      },
      "execution_count": null,
      "outputs": [
        {
          "output_type": "execute_result",
          "data": {
            "text/plain": [
              "'\\nEncapsulation is a cornerstone of OOP in Python because it safeguards data integrity and promotes code reusability. By bundling data and its associated methods within a class, encapsulation protects data from accidental modification, enhances code modularity, and makes code more maintainable and understandable.\\n'"
            ],
            "application/vnd.google.colaboratory.intrinsic+json": {
              "type": "string"
            }
          },
          "metadata": {},
          "execution_count": 1
        }
      ]
    },
    {
      "cell_type": "code",
      "source": [
        "# Q52\n",
        "def decorator(func):\n",
        "    def wrapper():\n",
        "        print(\"Decoration before function call\")\n",
        "        func()\n",
        "        print(\"Decoration after function call\")\n",
        "    return wrapper\n",
        "\n",
        "@decorator\n",
        "def greeting():\n",
        "    print(\"Hello World\")\n",
        "\n",
        "greeting()"
      ],
      "metadata": {
        "id": "P6UQUu6fJoYd",
        "colab": {
          "base_uri": "https://localhost:8080/"
        },
        "outputId": "61f1e2d9-bed3-42fe-a540-affb748b9adc"
      },
      "execution_count": null,
      "outputs": [
        {
          "output_type": "stream",
          "name": "stdout",
          "text": [
            "Decoration before function call\n",
            "Hello World\n",
            "Decoration after function call\n"
          ]
        }
      ]
    },
    {
      "cell_type": "code",
      "source": [
        "# Q53\n",
        "def decorator(func):\n",
        "    def wrapper():\n",
        "        print(\"Decoration before function call\")\n",
        "        print(\"Function name : \", func.__name__)\n",
        "        func()\n",
        "        print(\"Decoration after function call\")\n",
        "    return wrapper\n",
        "\n",
        "@decorator\n",
        "def greeting():\n",
        "    print(\"Hello World\")\n",
        "\n",
        "greeting()"
      ],
      "metadata": {
        "colab": {
          "base_uri": "https://localhost:8080/"
        },
        "id": "nhn0JYdrGADA",
        "outputId": "a0ad24f4-551a-4a3a-a6ba-e9eda93a67db"
      },
      "execution_count": null,
      "outputs": [
        {
          "output_type": "stream",
          "name": "stdout",
          "text": [
            "Decoration before function call\n",
            "Function name :  greeting\n",
            "Hello World\n",
            "Decoration after function call\n"
          ]
        }
      ]
    },
    {
      "cell_type": "code",
      "source": [
        "# Q54\n",
        "def decorator1(func):\n",
        "    def wrapper(*args,**kwargs):\n",
        "        print(\"Decoration of 1st decorator before function call\")\n",
        "        func(*args,**kwargs)\n",
        "        print(\"Decoration of 1st decorator after function call\")\n",
        "    return wrapper\n",
        "\n",
        "def decorator2(func):\n",
        "    def wrapper(*args,**kwargs):\n",
        "        print(\"Decoration of 2nd decorator before function call\")\n",
        "        func(*args,**kwargs)\n",
        "        print(\"Decoration of 2nd decorator after function call\")\n",
        "    return wrapper\n",
        "\n",
        "@decorator1\n",
        "@decorator2\n",
        "def function1(name):\n",
        "    print(\"My name is : Srinath\",name)\n",
        "\n",
        "function1(\"Srinath\")"
      ],
      "metadata": {
        "colab": {
          "base_uri": "https://localhost:8080/"
        },
        "id": "_SsmshPxHKp2",
        "outputId": "ccca9256-6998-409f-abdb-d464e8cd0a1e"
      },
      "execution_count": null,
      "outputs": [
        {
          "output_type": "stream",
          "name": "stdout",
          "text": [
            "Decoration of 1st decorator before function call\n",
            "Decoration of 2nd decorator before function call\n",
            "My name is : Srinath Srinath\n",
            "Decoration of 2nd decorator after function call\n",
            "Decoration of 1st decorator after function call\n"
          ]
        }
      ]
    },
    {
      "cell_type": "code",
      "source": [
        "# Q55\n",
        "def decorator1(func):\n",
        "    def wrapper(*args,**kwargs):\n",
        "        print(\"Decoration of 1st decorator before function call\")\n",
        "        func(*args,**kwargs)\n",
        "        print(\"Decoration of 1st decorator after function call\")\n",
        "    return wrapper\n",
        "\n",
        "@decorator1\n",
        "def function1(name):\n",
        "    print(\"My name is : Srinath\",name)\n",
        "\n",
        "function1(\"Srinath\")"
      ],
      "metadata": {
        "colab": {
          "base_uri": "https://localhost:8080/"
        },
        "id": "-PxOezSJKdSK",
        "outputId": "6e811220-f5dc-44ca-ee07-72e9be75139c"
      },
      "execution_count": null,
      "outputs": [
        {
          "output_type": "stream",
          "name": "stdout",
          "text": [
            "Decoration of 1st decorator before function call\n",
            "My name is : Srinath Srinath\n",
            "Decoration of 1st decorator after function call\n"
          ]
        }
      ]
    },
    {
      "cell_type": "code",
      "source": [
        "# Q56\n",
        "import functools\n",
        "\n",
        "def my_decorator(func):\n",
        "    @functools.wraps(func)\n",
        "    def wrapper(*args, **kwargs):\n",
        "        print(\"Decorator called before function\")\n",
        "        result = func(*args, **kwargs)\n",
        "        print(\"Decorator called after function\")\n",
        "        return result\n",
        "    return wrapper\n",
        "\n",
        "@my_decorator\n",
        "def my_function(x, y):\n",
        "    \"\"\"This is a docstring for my_function. This is the mata data of function.\"\"\"\n",
        "    return x + y\n",
        "\n",
        "print(\"name of the function:\",my_function.__name__)\n",
        "print(\"Mata data of the function :\",my_function.__doc__)"
      ],
      "metadata": {
        "colab": {
          "base_uri": "https://localhost:8080/"
        },
        "id": "PkDh24f7fIdd",
        "outputId": "fff90d88-edd8-4f05-e37e-5019308a7e69"
      },
      "execution_count": null,
      "outputs": [
        {
          "output_type": "stream",
          "name": "stdout",
          "text": [
            "name of the function: my_function\n",
            "Mata data of the function : This is a docstring for my_function. This is the mata data of function.\n"
          ]
        }
      ]
    },
    {
      "cell_type": "code",
      "source": [
        "# Q57\n",
        "class Calculator():\n",
        "    @staticmethod\n",
        "    def add(x,y):\n",
        "        return x+y\n",
        "\n",
        "c = Calculator()\n",
        "c.add(5,6)"
      ],
      "metadata": {
        "colab": {
          "base_uri": "https://localhost:8080/"
        },
        "id": "tg9n92aYhWm7",
        "outputId": "198bbca6-4d46-4d84-8a98-5a751989bc14"
      },
      "execution_count": null,
      "outputs": [
        {
          "output_type": "execute_result",
          "data": {
            "text/plain": [
              "11"
            ]
          },
          "metadata": {},
          "execution_count": 7
        }
      ]
    },
    {
      "cell_type": "code",
      "source": [
        "# Q58\n",
        "class Employee:\n",
        "\n",
        "    count = 0 # Class variable\n",
        "\n",
        "    def __init__(self,name,dept):\n",
        "        self.__name = name\n",
        "        self.__dept = dept\n",
        "        Employee.count += 1\n",
        "\n",
        "    @classmethod\n",
        "    def get_employee_count(cls):\n",
        "        return cls.count\n",
        "\n",
        "a = Employee(\"Srinath\",\"DS\")\n",
        "b = Employee(\"Ishika\",\"Chemistry\")\n",
        "print(\"Employee count : \",Employee.get_employee_count())"
      ],
      "metadata": {
        "colab": {
          "base_uri": "https://localhost:8080/"
        },
        "id": "JYy8iFiMilzp",
        "outputId": "4281be52-bfec-40d8-d82f-5cda671044f1"
      },
      "execution_count": null,
      "outputs": [
        {
          "output_type": "stream",
          "name": "stdout",
          "text": [
            "Employee count :  2\n"
          ]
        }
      ]
    },
    {
      "cell_type": "code",
      "source": [
        "# Q59\n",
        "class StringFormatter:\n",
        "\n",
        "    @staticmethod\n",
        "    def reverse_string(str1):\n",
        "        return str1[::-1]\n",
        "\n",
        "s = StringFormatter()\n",
        "s.reverse_string(\"Srinath\")"
      ],
      "metadata": {
        "colab": {
          "base_uri": "https://localhost:8080/",
          "height": 35
        },
        "id": "aJ88hK8YmjAK",
        "outputId": "a515ca8d-ece1-4a37-d425-41259ef4a969"
      },
      "execution_count": null,
      "outputs": [
        {
          "output_type": "execute_result",
          "data": {
            "text/plain": [
              "'htanirS'"
            ],
            "application/vnd.google.colaboratory.intrinsic+json": {
              "type": "string"
            }
          },
          "metadata": {},
          "execution_count": 14
        }
      ]
    },
    {
      "cell_type": "code",
      "source": [
        "# Q60\n",
        "class Circle:\n",
        "    @staticmethod\n",
        "    def circle_area(radii):\n",
        "        return 3.14 * radii**2\n",
        "\n",
        "c = Circle()\n",
        "c.circle_area(5)"
      ],
      "metadata": {
        "colab": {
          "base_uri": "https://localhost:8080/"
        },
        "id": "8hOnUKCbzaY0",
        "outputId": "13ebf98e-aa90-46ee-c7d7-46632c9727bf"
      },
      "execution_count": null,
      "outputs": [
        {
          "output_type": "execute_result",
          "data": {
            "text/plain": [
              "78.5"
            ]
          },
          "metadata": {},
          "execution_count": 16
        }
      ]
    },
    {
      "cell_type": "code",
      "source": [
        "# Q61\n",
        "class TemperatureConverter:\n",
        "\n",
        "    @staticmethod\n",
        "    def celsius_to_farenheite(c):\n",
        "        return (9/5)*c+32\n",
        "\n",
        "t = TemperatureConverter()\n",
        "t.celsius_to_farenheite(-40)"
      ],
      "metadata": {
        "colab": {
          "base_uri": "https://localhost:8080/"
        },
        "id": "y7Ro6BB23GXZ",
        "outputId": "2cde8236-77c6-4490-d406-4e3fa1f81b91"
      },
      "execution_count": null,
      "outputs": [
        {
          "output_type": "execute_result",
          "data": {
            "text/plain": [
              "-40.0"
            ]
          },
          "metadata": {},
          "execution_count": 17
        }
      ]
    },
    {
      "cell_type": "code",
      "source": [
        "# Q62\n",
        "\"\"\"\n",
        "The __str__ method in Python is a special method, also known as a \"dunder\" method due to the double underscores, that defines the string representation of an object. It's invoked when you use the str() function or the print() function on an object.\n",
        "\"\"\"\n",
        "class Person:\n",
        "    def __init__(self, name, age):\n",
        "        self.name = name\n",
        "        self.age = age\n",
        "\n",
        "    def __str__(self):\n",
        "        return f\"Person({self.name}, {self.age})\"\n",
        "\n",
        "person = Person(\"Srinath\", 21)\n",
        "print(person)"
      ],
      "metadata": {
        "colab": {
          "base_uri": "https://localhost:8080/"
        },
        "id": "h2NWpoF44qd-",
        "outputId": "b0a249db-7148-43ee-f144-b328ed540132"
      },
      "execution_count": null,
      "outputs": [
        {
          "output_type": "stream",
          "name": "stdout",
          "text": [
            "Person(Srinath, 21)\n"
          ]
        }
      ]
    },
    {
      "cell_type": "code",
      "source": [
        "# Q63\n",
        "\"\"\"\n",
        "The __len__ magic method in Python is used to define the behavior of the built-in len() function when applied to objects of a custom class. In essence, it determines the \"length\" or size of an object.\n",
        "\"\"\"\n",
        "class MyList:\n",
        "    def __init__(self, data):\n",
        "        self.data = data\n",
        "\n",
        "    def __len__(self):\n",
        "        return len(self.data)\n",
        "\n",
        "my_list = MyList([1, 2, 3, 4, 5])\n",
        "print(len(my_list))\n"
      ],
      "metadata": {
        "colab": {
          "base_uri": "https://localhost:8080/"
        },
        "id": "r4JYJ5qtWveY",
        "outputId": "3a5230b2-926c-4b5f-ed47-8638f58ef11d"
      },
      "execution_count": null,
      "outputs": [
        {
          "output_type": "stream",
          "name": "stdout",
          "text": [
            "5\n"
          ]
        }
      ]
    },
    {
      "cell_type": "code",
      "source": [
        "# Q64\n",
        "\"\"\"\n",
        "In Python, __add__ is a special method, also known as a magic method or dunder method (double underscore), that is invoked when the + operator is used on objects of a class. It's a core part of operator overloading, allowing you to customize the behavior of the + operator for your custom data types.\n",
        "\"\"\"\n",
        "class Vector:\n",
        "    def __init__(self, x, y):\n",
        "        self.x = x\n",
        "        self.y = y\n",
        "\n",
        "    def __add__(self, other):\n",
        "        return Vector(self.x + other.x, self.y + other.y)\n",
        "\n",
        "    def __str__(self):\n",
        "        return f\"({self.x}, {self.y})\"\n",
        "\n",
        "v1 = Vector(2, 3)\n",
        "v2 = Vector(1, 4)\n",
        "\n",
        "result = v1 + v2\n",
        "print(result)"
      ],
      "metadata": {
        "id": "7_9UFtPCXM8i",
        "colab": {
          "base_uri": "https://localhost:8080/"
        },
        "outputId": "9199186e-2724-46b7-9e9e-809cb8fc7e41"
      },
      "execution_count": null,
      "outputs": [
        {
          "output_type": "stream",
          "name": "stdout",
          "text": [
            "(3, 7)\n"
          ]
        }
      ]
    },
    {
      "cell_type": "code",
      "source": [
        "# Q65\n",
        "\"\"\"\n",
        "In Python, __getitem__ is a special method, often referred to as a \"magic method\" or \"dunder method\" due to the double underscores. It's invoked whenever you use the square bracket operator [] to access an item within an object. This means you can customize how objects of your custom classes behave when indexed.\n",
        "\"\"\"\n",
        "class MyList:\n",
        "    def __init__(self, data):\n",
        "        self.data = data\n",
        "\n",
        "    def __getitem__(self, index):\n",
        "        return self.data[index]\n",
        "\n",
        "my_list = MyList([1, 2, 3])\n",
        "print(my_list[0])"
      ],
      "metadata": {
        "colab": {
          "base_uri": "https://localhost:8080/"
        },
        "id": "oF1EJg7wGi2k",
        "outputId": "22089ed7-ec3c-4ed4-c4c0-6880a0653b9f"
      },
      "execution_count": null,
      "outputs": [
        {
          "output_type": "stream",
          "name": "stdout",
          "text": [
            "1\n"
          ]
        }
      ]
    },
    {
      "cell_type": "code",
      "source": [
        "# Q66\n",
        "\"\"\"\n",
        "Python's __iter__ and __next__ methods are fundamental to iteration. The __iter__ method is called when an object is used in a for loop or with functions like iter(). It returns an iterator object. The __next__ method is invoked on this iterator object to retrieve the next item in the sequence. It returns the next value until there are no more items, at which point it raises a StopIteration exception. For example, a custom iterator for generating even numbers might have __iter__ return itself and __next__ increment a counter and return its double.\n",
        "\"\"\"\n",
        "str1 = \"PW Skills\"\n",
        "str_iter = iter(str1)\n",
        "for i in range(len(str1)):\n",
        "    print(next(str_iter))"
      ],
      "metadata": {
        "colab": {
          "base_uri": "https://localhost:8080/"
        },
        "id": "PepiRMKiHLGo",
        "outputId": "44cd42c3-8512-4892-eab2-d962d3ec4b9a"
      },
      "execution_count": null,
      "outputs": [
        {
          "output_type": "stream",
          "name": "stdout",
          "text": [
            "P\n",
            "W\n",
            " \n",
            "S\n",
            "k\n",
            "i\n",
            "l\n",
            "l\n",
            "s\n"
          ]
        }
      ]
    },
    {
      "cell_type": "code",
      "source": [
        "# Q67\n",
        "\"\"\"\n",
        "In Python, getter methods are primarily used for data encapsulation and control. While Python doesn't strictly enforce private attributes like other languages, using getters allows you to manage attribute access and potentially perform actions before returning the value. For instance, you can validate data, calculate derived values, or log access attempts.\n",
        "\"\"\"\n",
        "class Person:\n",
        "    def __init__(self,name,age):\n",
        "        self.__age = age\n",
        "        self.__name = name\n",
        "\n",
        "    @property\n",
        "    def details(self):\n",
        "        return [self.__name,self.__age]\n",
        "\n",
        "i = Person(\"Srinath\",21)\n",
        "i.details"
      ],
      "metadata": {
        "colab": {
          "base_uri": "https://localhost:8080/"
        },
        "id": "oe1jml6ucdA2",
        "outputId": "a7e7aab4-427f-464a-cbf2-5e5a8e3b28e7"
      },
      "execution_count": null,
      "outputs": [
        {
          "output_type": "execute_result",
          "data": {
            "text/plain": [
              "['Srinath', 21]"
            ]
          },
          "metadata": {},
          "execution_count": 3
        }
      ]
    },
    {
      "cell_type": "code",
      "source": [
        "# Q68\n",
        "\"\"\"\n",
        "In Python, setter methods are primarily used for data encapsulation and control. While they aren't strictly enforced like in other languages, they provide a way to manage attribute values within a class. By defining a setter method, you can control how attribute values are assigned, perform validation, or trigger specific actions when the value changes.\n",
        "\"\"\"\n",
        "class Person:\n",
        "    def __init__(self,name,age):\n",
        "        self.__age = age\n",
        "        self.__name = name\n",
        "\n",
        "    @property\n",
        "    def details(self):\n",
        "        return self.__name,self.__age\n",
        "\n",
        "    @details.setter\n",
        "    def details(self,new_values):\n",
        "        self.__name , self.__age = new_values\n",
        "\n",
        "i = Person(\"Srinath\",21)\n",
        "i.details\n",
        "i.details = (\"Ishika\",21)\n",
        "i.details"
      ],
      "metadata": {
        "colab": {
          "base_uri": "https://localhost:8080/"
        },
        "id": "cypOM0Avdm7v",
        "outputId": "a3e2e55a-dfa0-485b-b83d-9fee13f2bc3b"
      },
      "execution_count": null,
      "outputs": [
        {
          "output_type": "execute_result",
          "data": {
            "text/plain": [
              "('Ishika', 21)"
            ]
          },
          "metadata": {},
          "execution_count": 13
        }
      ]
    },
    {
      "cell_type": "code",
      "source": [
        "# Q69\n",
        "\"\"\"\n",
        "The @property decorator in Python is used to create properties that behave like attributes but can have custom logic associated with them. This means you can access them like attributes, but behind the scenes, they might be performing calculations, validations, or other operations.\n",
        "\"\"\"\n",
        "class Circle:\n",
        "    def __init__(self, radius):\n",
        "        self._radius = radius\n",
        "\n",
        "    @property\n",
        "    def radius(self):\n",
        "        \"\"\"Getter for radius\"\"\"\n",
        "        print(\"Getting radius\")\n",
        "        return self._radius\n",
        "\n",
        "    @radius.setter\n",
        "    def radius(self, value):\n",
        "        \"\"\"Setter for radius\"\"\"\n",
        "        if value >= 0:\n",
        "            self._radius = value\n",
        "        else:\n",
        "            raise ValueError(\"Radius cannot be negative\")\n",
        "\n",
        "c = Circle(5)\n",
        "print(c.radius)\n",
        "c.radius = 7\n",
        "print(c.radius)"
      ],
      "metadata": {
        "colab": {
          "base_uri": "https://localhost:8080/"
        },
        "id": "v0WR6QbVe4K-",
        "outputId": "cbe71e8b-3ca5-4e72-8547-292e60b210e8"
      },
      "execution_count": null,
      "outputs": [
        {
          "output_type": "stream",
          "name": "stdout",
          "text": [
            "Getting radius\n",
            "5\n",
            "Getting radius\n",
            "7\n"
          ]
        }
      ]
    },
    {
      "cell_type": "code",
      "source": [
        "# Q70\n",
        "\"\"\"\n",
        "The @deleter decorator is used in conjunction with the @property decorator to define custom behavior when an attribute is deleted. It provides a way to control the deletion process, allowing you to perform specific actions before or after the attribute is removed.\n",
        "\"\"\"\n",
        "class Person:\n",
        "    def __init__(self, name, age):\n",
        "        self.__name = name\n",
        "        self.__age = age\n",
        "\n",
        "    @property\n",
        "    def Name(self):\n",
        "        try:\n",
        "            return self.__name\n",
        "        except AttributeError:\n",
        "            return \"Name attribute has been deleted.\"\n",
        "\n",
        "    @Name.setter\n",
        "    def Name(self, value):\n",
        "        self.__name = value\n",
        "\n",
        "    @Name.deleter\n",
        "    def Name(self):\n",
        "        del self.__name\n",
        "        print(\"Name deleted!\")\n",
        "\n",
        "p = Person(\"Alice\", 30)\n",
        "print(p.Name)\n",
        "p.Name = \"Bob\"\n",
        "print(p.Name)\n",
        "del p.Name\n",
        "print(p.Name)\n"
      ],
      "metadata": {
        "colab": {
          "base_uri": "https://localhost:8080/"
        },
        "id": "gS39j2iAhg7x",
        "outputId": "11a67627-079d-4852-a5a2-d8247fd5db4d"
      },
      "execution_count": null,
      "outputs": [
        {
          "output_type": "stream",
          "name": "stdout",
          "text": [
            "Alice\n",
            "Bob\n",
            "Name deleted!\n",
            "Name attribute has been deleted.\n"
          ]
        }
      ]
    },
    {
      "cell_type": "code",
      "source": [
        "# Q70\n",
        "\"\"\"Encapsulation is a fundamental principle of object-oriented programming (OOP) that involves bundling data (attributes) and methods that operate on that data within a single unit (class). This promotes data hiding and protects data integrity.\n",
        "\n",
        "Property decorators in Python provide a powerful mechanism to implement encapsulation effectively. They enable you to control access to class attributes, perform data validation, and create computed properties, all while maintaining a clean and intuitive syntax.\n",
        "\"\"\"\n",
        "class Circle:\n",
        "    def __init__(self, radius):\n",
        "        self._radius = radius\n",
        "\n",
        "    @property\n",
        "    def radius(self):\n",
        "        \"\"\"Getter for radius\"\"\"\n",
        "        print(\"Getting radius\")\n",
        "        return self._radius\n",
        "\n",
        "    @radius.setter\n",
        "    def radius(self, value):\n",
        "        \"\"\"Setter for radius\"\"\"\n",
        "        if value >= 0:\n",
        "            self._radius = value\n",
        "        else:\n",
        "            raise ValueError(\"Radius cannot be negative\")\n",
        "\n",
        "c = Circle(5)\n",
        "print(c.radius)\n",
        "c.radius = 7\n",
        "print(c.radius)"
      ],
      "metadata": {
        "colab": {
          "base_uri": "https://localhost:8080/"
        },
        "id": "WHeHDHZyk3MH",
        "outputId": "5e600360-a58a-4668-eefc-db25b2d2a804"
      },
      "execution_count": null,
      "outputs": [
        {
          "output_type": "stream",
          "name": "stdout",
          "text": [
            "Getting radius\n",
            "5\n",
            "Getting radius\n",
            "7\n"
          ]
        }
      ]
    },
    {
      "cell_type": "code",
      "source": [],
      "metadata": {
        "id": "11O_25oQmKeX"
      },
      "execution_count": null,
      "outputs": []
    }
  ]
}