{
  "nbformat": 4,
  "nbformat_minor": 0,
  "metadata": {
    "colab": {
      "provenance": [],
      "authorship_tag": "ABX9TyOI6aJFBZ8bWycaBZ7sZsC5",
      "include_colab_link": true
    },
    "kernelspec": {
      "name": "python3",
      "display_name": "Python 3"
    },
    "language_info": {
      "name": "python"
    }
  },
  "cells": [
    {
      "cell_type": "markdown",
      "metadata": {
        "id": "view-in-github",
        "colab_type": "text"
      },
      "source": [
        "<a href=\"https://colab.research.google.com/github/SrinathNeogi/PW-Skills-Data-Science-with-Generative-AI-Course/blob/main/Data_Structures_Assignment.ipynb\" target=\"_parent\"><img src=\"https://colab.research.google.com/assets/colab-badge.svg\" alt=\"Open In Colab\"/></a>"
      ]
    },
    {
      "cell_type": "code",
      "execution_count": null,
      "metadata": {
        "colab": {
          "base_uri": "https://localhost:8080/"
        },
        "id": "lmDRfxJPisqI",
        "outputId": "d4b09c99-591d-4cd4-f089-69aacf2382e0"
      },
      "outputs": [
        {
          "output_type": "stream",
          "name": "stdout",
          "text": [
            "Enter a String : Srinath\n",
            "Reverse of  Srinath  is :  htanirS\n"
          ]
        }
      ],
      "source": [
        "#Q1\n",
        "str = input(\"Enter a String : \")\n",
        "str_rev = str[::-1]\n",
        "print(\"Reverse of \", str, \" is : \", str_rev)"
      ]
    },
    {
      "cell_type": "code",
      "source": [
        "#Q2\n",
        "str = input(\"Entr a String : \")\n",
        "vowels = ['a' , 'e' , 'i' , 'o', 'u', 'A', 'E', 'I', 'O', 'U']\n",
        "count = 0\n",
        "for i in str:\n",
        "  if(i in vowels):\n",
        "    count += 1\n",
        "print(\"No of vowels in\",str,\" is : \", count)"
      ],
      "metadata": {
        "colab": {
          "base_uri": "https://localhost:8080/"
        },
        "id": "-KDuczyri-QE",
        "outputId": "a9730918-a01e-44a8-80c7-62de7d423e43"
      },
      "execution_count": null,
      "outputs": [
        {
          "output_type": "stream",
          "name": "stdout",
          "text": [
            "Entr a String : unique\n",
            "No of vowels in unique  is :  4\n"
          ]
        }
      ]
    },
    {
      "cell_type": "code",
      "source": [
        "#Q3\n",
        "str = input(\"Enter a string : \")\n",
        "str_rev = str[::-1]\n",
        "if str == str_rev:\n",
        "  print(str,\"is palindrome.\", sep=' ')\n",
        "else:\n",
        "  print(str,\"is not palindrome.\" ,sep=' ')"
      ],
      "metadata": {
        "colab": {
          "base_uri": "https://localhost:8080/"
        },
        "id": "TkLoTiPEm9t3",
        "outputId": "7a37395f-4c67-42df-c6a5-5fc6a96fa582"
      },
      "execution_count": null,
      "outputs": [
        {
          "output_type": "stream",
          "name": "stdout",
          "text": [
            "Enter a string : ata\n",
            "ata is palindrome.\n"
          ]
        }
      ]
    },
    {
      "cell_type": "code",
      "source": [
        "#Q4\n",
        "str1 = input(\"Enter String 1 : \")\n",
        "str2 = input(\"Enter String 2 : \")\n",
        "list_str1 = []\n",
        "list_str2 = []\n",
        "for i in str1.lower():\n",
        "  list_str1.append(i)\n",
        "for j in str2.lower():\n",
        "  list_str2.append(j)\n",
        "list_str1.sort()\n",
        "list_str2.sort()\n",
        "if list_str1 == list_str2:\n",
        "  print(str1,\"and\", str2,\"are anagrams of each other.\")\n",
        "else:\n",
        "  print(str1,\"and\", str2,\"are not anagrams of each other.\")"
      ],
      "metadata": {
        "colab": {
          "base_uri": "https://localhost:8080/"
        },
        "id": "QWWwJL21ncv7",
        "outputId": "6b8380bd-c6d8-4751-ae0a-c9deb7d1b97e"
      },
      "execution_count": null,
      "outputs": [
        {
          "output_type": "stream",
          "name": "stdout",
          "text": [
            "Enter String 1 : Srinath\n",
            "Enter String 2 : sRINATH\n",
            "Srinath and sRINATH are anagrams of each other.\n"
          ]
        }
      ]
    },
    {
      "cell_type": "code",
      "source": [
        "#Q5\n",
        "str = input(\"Enter a String : \")\n",
        "sub_str = input(\"Enter sub String : \")\n",
        "count = []\n",
        "index = 0\n",
        "while True:\n",
        "    index = str.find(sub_str,index)\n",
        "    if index == -1:\n",
        "        break\n",
        "    count.append(index)\n",
        "    index += 1\n",
        "print(\"Occurance of \",sub_str,\"at indexes :\",sep=\" \",end=' ')\n",
        "print(count)\n",
        "print(\"No of occurance of the sub string is : \", len(count))"
      ],
      "metadata": {
        "id": "eggWu4m6p4vB",
        "colab": {
          "base_uri": "https://localhost:8080/"
        },
        "outputId": "2271957b-ff61-4cca-9d51-ff747caa0ad4"
      },
      "execution_count": null,
      "outputs": [
        {
          "output_type": "stream",
          "name": "stdout",
          "text": [
            "Enter a String : aiaiaiaiaiai\n",
            "Enter sub String : ai\n",
            "Occurance of  ai at indexes : [0, 2, 4, 6, 8, 10]\n",
            "No of occurance of the sub string is :  6\n"
          ]
        }
      ]
    },
    {
      "cell_type": "code",
      "source": [
        "#Q6\n",
        "str1 = input(\"Enter String : \")\n",
        "replace_str = \"\"\n",
        "i=0\n",
        "while i < len(str1):\n",
        "    count = 1\n",
        "    for j in range(i+1,len(str1)):\n",
        "        if str1[i] == str1[j]:\n",
        "            count += 1\n",
        "    if count > 1:\n",
        "        replace_str += str1[i] + f\"{count}\"\n",
        "    else:\n",
        "        replace_str += str1[i]\n",
        "    str1 = str1.replace(str1[i], \"\", count)\n",
        "    i=0\n",
        "print(\"Compressed String : \",replace_str)"
      ],
      "metadata": {
        "colab": {
          "base_uri": "https://localhost:8080/"
        },
        "id": "VC4AFAE05wml",
        "outputId": "e262b0d8-22ca-45a1-df55-dbf2b8bc6c90"
      },
      "execution_count": null,
      "outputs": [
        {
          "output_type": "stream",
          "name": "stdout",
          "text": [
            "Enter String : aaabbc\n",
            "Compressed String :  a3b2c\n"
          ]
        }
      ]
    },
    {
      "cell_type": "code",
      "source": [
        "#Q7\n",
        "str_input = input(\"Enter a String : \")\n",
        "str1 = str_input.lower()\n",
        "flag = False\n",
        "for i in range(0,len(str1)):\n",
        "    for j in range(i+1,len(str1)):\n",
        "        if(str1[i] == str1[j]):\n",
        "            print(\"String -> (\",str_input,\") has duplicate characters.\")\n",
        "            flag = True\n",
        "            break\n",
        "    if flag:\n",
        "        break\n",
        "if not flag:\n",
        "    print(\"String -> (\",str_input,\") has all unique characters.\")\n"
      ],
      "metadata": {
        "colab": {
          "base_uri": "https://localhost:8080/"
        },
        "id": "tutZh5eW758b",
        "outputId": "4afd84f6-5af6-4119-d66b-1bb6102c7f6b"
      },
      "execution_count": null,
      "outputs": [
        {
          "output_type": "stream",
          "name": "stdout",
          "text": [
            "Enter a String : Srinath\n",
            "String -> ( Srinath ) has all unique characters.\n"
          ]
        }
      ]
    },
    {
      "cell_type": "code",
      "source": [
        "# Q8\n",
        "string_input = input('Enter a String : ')\n",
        "input_u_l = input(\"Enter 'U' for uppercase or 'L' for lower case : \")\n",
        "if input_u_l == 'U' or 'u':\n",
        "    print(\"Uppercase : \", string_input.upper())\n",
        "elif input_u_l == 'L' or 'l':\n",
        "    print(\"Lowercase : \", string_input.lower())\n",
        "else:\n",
        "    print(\"Wrong input!\")"
      ],
      "metadata": {
        "colab": {
          "base_uri": "https://localhost:8080/"
        },
        "id": "BP7O4QAcFd3X",
        "outputId": "9ba43d69-b34e-4e4d-ffb8-b69ef65fa6ca"
      },
      "execution_count": null,
      "outputs": [
        {
          "output_type": "stream",
          "name": "stdout",
          "text": [
            "Enter a String : Srinath\n",
            "Enter 'U' for uppercase or 'L' for lower case : u\n",
            "Uppercase :  SRINATH\n"
          ]
        }
      ]
    },
    {
      "cell_type": "code",
      "source": [
        "# Q9\n",
        "str_input = input(\"Enter a String : \")\n",
        "words = str_input.split()\n",
        "print(\"No of words in [\",str_input,\"] is : \",len(words))\n"
      ],
      "metadata": {
        "colab": {
          "base_uri": "https://localhost:8080/"
        },
        "id": "Ekopuld2nSRT",
        "outputId": "5c789067-e46d-49d3-962c-082b27737c27"
      },
      "execution_count": null,
      "outputs": [
        {
          "output_type": "stream",
          "name": "stdout",
          "text": [
            "Enter a String : Srinath\n",
            "No of words in [ Srinath ] is :  1\n"
          ]
        }
      ]
    },
    {
      "cell_type": "code",
      "source": [
        "# Q10\n",
        "str1 = 'Srinath'\n",
        "str2 = 'Neogi'\n",
        "str3 = f\"{str1}{str2}\"\n",
        "print(str3)"
      ],
      "metadata": {
        "colab": {
          "base_uri": "https://localhost:8080/"
        },
        "id": "rO32Uom9qtlH",
        "outputId": "97c6b794-a259-4e60-b3ac-853b3de7a9f0"
      },
      "execution_count": null,
      "outputs": [
        {
          "output_type": "stream",
          "name": "stdout",
          "text": [
            "SrinathNeogi\n"
          ]
        }
      ]
    },
    {
      "cell_type": "code",
      "source": [
        "# Q11\n",
        "list_cont = [1,2,1,2,1,2,3,4,4]\n",
        "unique_list = []\n",
        "for item in list_cont:\n",
        "    if item not in unique_list:\n",
        "        unique_list.append(item)\n",
        "print(unique_list)\n"
      ],
      "metadata": {
        "colab": {
          "base_uri": "https://localhost:8080/"
        },
        "id": "PHfvbHVZ-dQX",
        "outputId": "dad87e39-84d2-438a-8170-626a10c32441"
      },
      "execution_count": null,
      "outputs": [
        {
          "output_type": "stream",
          "name": "stdout",
          "text": [
            "[1, 2, 3, 4]\n"
          ]
        }
      ]
    },
    {
      "cell_type": "code",
      "source": [
        "# Q12\n",
        "given = [1,2,3,4,5,6,7]\n",
        "max = given[0]\n",
        "second_max = given[0]\n",
        "for item in given:\n",
        "    if item > max:\n",
        "        second_max = max\n",
        "        max = item\n",
        "    elif item > second_max and item < max:\n",
        "        second_max = item\n",
        "print(\"Second largest : \",second_max)\n"
      ],
      "metadata": {
        "colab": {
          "base_uri": "https://localhost:8080/"
        },
        "id": "np4nOBoV_vBx",
        "outputId": "b8bcfdc2-c6f0-424c-dbc2-6fd71a8bf690"
      },
      "execution_count": null,
      "outputs": [
        {
          "output_type": "stream",
          "name": "stdout",
          "text": [
            "Second largest :  6\n"
          ]
        }
      ]
    },
    {
      "cell_type": "code",
      "source": [
        "# Q13\n",
        "#-------------------------\n",
        "    #input main list\n",
        "list1 = []\n",
        "i=0\n",
        "length = int(input(\"Enter length of list : \"))\n",
        "while i < length:\n",
        "    element = int(input(f\"Enter {i} index list element : \"))\n",
        "    list1.append(element)\n",
        "    i += 1\n",
        "#-------------------------\n",
        "    #finding unique elements\n",
        "list2 = []\n",
        "list_unique = []\n",
        "for item in list1:\n",
        "    if item not in list_unique:\n",
        "        list_unique.append(item)\n",
        "#-------------------------\n",
        "    #finding occuracne of elements of main list and storing them in a new list\n",
        "list_occurance = []\n",
        "for item in list_unique:\n",
        "    list_occurance.append(list1.count(item))\n",
        "#-------------------------\n",
        "    #make dictionary by mixing two lits\n",
        "dict_mix_lists = {element:occuracne for element,occuracne in zip(list_unique,list_occurance)}\n",
        "#-------------------------\n",
        "print(\"The dictionary : \",dict_mix_lists)"
      ],
      "metadata": {
        "id": "HpHpQJexBWpv",
        "colab": {
          "base_uri": "https://localhost:8080/"
        },
        "outputId": "d4408ce9-aa7f-4bfa-b82b-a18aefef20d2"
      },
      "execution_count": null,
      "outputs": [
        {
          "output_type": "stream",
          "name": "stdout",
          "text": [
            "Enter length of list : 10\n",
            "Enter 0 index list element : 1\n",
            "Enter 1 index list element : 1\n",
            "Enter 2 index list element : 1\n",
            "Enter 3 index list element : 1\n",
            "Enter 4 index list element : 1\n",
            "Enter 5 index list element : 2\n",
            "Enter 6 index list element : 2\n",
            "Enter 7 index list element : 2\n",
            "Enter 8 index list element : 3\n",
            "Enter 9 index list element : 3\n",
            "The dictionary :  {1: 5, 2: 3, 3: 2}\n"
          ]
        }
      ]
    },
    {
      "cell_type": "code",
      "source": [
        "# Q14\n",
        "list1 = []\n",
        "i=0\n",
        "length = int(input(\"Enter length of list : \"))\n",
        "while i < length:\n",
        "    element = int(input(f\"Enter {i} index list element : \"))\n",
        "    list1.append(element)\n",
        "    i += 1\n",
        "list_reverse = list1[::-1]\n",
        "print(\"Reversed list : \",list_reverse)\n"
      ],
      "metadata": {
        "colab": {
          "base_uri": "https://localhost:8080/"
        },
        "id": "3-2M1w8SGj7p",
        "outputId": "b1d1271d-5001-46c9-cb91-4617c0b6c780"
      },
      "execution_count": null,
      "outputs": [
        {
          "output_type": "stream",
          "name": "stdout",
          "text": [
            "Enter length of list : 5\n",
            "Enter 0 index list element : 1\n",
            "Enter 1 index list element : 2\n",
            "Enter 2 index list element : 3\n",
            "Enter 3 index list element : 4\n",
            "Enter 4 index list element : 5\n",
            "Reversed list :  [5, 4, 3, 2, 1]\n"
          ]
        }
      ]
    },
    {
      "cell_type": "code",
      "source": [
        "# Q15\n",
        "list1 = []\n",
        "i=0\n",
        "length = int(input(\"Enter length of list : \"))\n",
        "while i < length:\n",
        "    element = int(input(f\"Enter {i} index list element : \"))\n",
        "    list1.append(element)\n",
        "    i += 1\n",
        "list_unique = list(set(list1))\n",
        "print(\"Unique list : \",list_unique)\n",
        "print(\"Duplicate element(s) : \",end=':')\n",
        "for item in list_unique:\n",
        "    counter = 1\n",
        "    counter = list1.count(item)\n",
        "    if counter > 1:\n",
        "        print(item,end=\" \")"
      ],
      "metadata": {
        "colab": {
          "base_uri": "https://localhost:8080/"
        },
        "id": "PfGPSVGfTYkf",
        "outputId": "1223b151-44c6-482d-91d0-15c96bb9aa3c"
      },
      "execution_count": null,
      "outputs": [
        {
          "output_type": "stream",
          "name": "stdout",
          "text": [
            "Enter length of list : 10\n",
            "Enter 0 index list element : 1\n",
            "Enter 1 index list element : 1\n",
            "Enter 2 index list element : 1\n",
            "Enter 3 index list element : 1\n",
            "Enter 4 index list element : 2\n",
            "Enter 5 index list element : 2\n",
            "Enter 6 index list element : 2\n",
            "Enter 7 index list element : 3\n",
            "Enter 8 index list element : 3\n",
            "Enter 9 index list element : 4\n",
            "Unique list :  [1, 2, 3, 4]\n",
            "Duplicate element(s) : :1 2 3 "
          ]
        }
      ]
    },
    {
      "cell_type": "code",
      "source": [
        "# Q16\n",
        "list1 = []\n",
        "i=0\n",
        "length = int(input(\"Enter length of list : \"))\n",
        "while i < length:\n",
        "    element = int(input(f\"Enter {i} index list element : \"))\n",
        "    list1.append(element)\n",
        "    i += 1\n",
        "list_sorted_ascending = sorted(list1)\n",
        "list_sorted_descending = sorted(list1,reverse=True)\n",
        "# print(\"Sorted list : \",list_sorted_ascending)\n",
        "# print(\"Sorted list : \",list_sorted_descending)\n",
        "if list1 == list_sorted_ascending or list1 == list_sorted_descending:\n",
        "    print(\"List is sorted.\")\n",
        "else:\n",
        "    print(\"List is not sorted.\")"
      ],
      "metadata": {
        "colab": {
          "base_uri": "https://localhost:8080/"
        },
        "id": "TdgS0urdZFv5",
        "outputId": "af7cbce7-6f33-41d0-c703-29a82d3ba728"
      },
      "execution_count": null,
      "outputs": [
        {
          "output_type": "stream",
          "name": "stdout",
          "text": [
            "Enter length of list : 4\n",
            "Enter 0 index list element : 1\n",
            "Enter 1 index list element : 2\n",
            "Enter 2 index list element : 3\n",
            "Enter 3 index list element : 4\n",
            "Sorted list :  [1, 2, 3, 4]\n",
            "Sorted list :  [4, 3, 2, 1]\n",
            "List is sorted.\n"
          ]
        }
      ]
    },
    {
      "cell_type": "code",
      "source": [
        "# Q17\n",
        "list1 = []\n",
        "i=0\n",
        "length1 = int(input(\"Enter length of list 1 : \"))\n",
        "while i < length1:\n",
        "    element1 = int(input(f\"Enter {i} index list element : \"))\n",
        "    list1.append(element1)\n",
        "    i += 1\n",
        "list2 = []\n",
        "j=0\n",
        "length2 = int(input(\"Enter length of list 2 : \"))\n",
        "while j < length2:\n",
        "    element2 = int(input(f\"Enter {j} index list element : \"))\n",
        "    list2.append(element2)\n",
        "    j += 1\n",
        "list_merged_sorted = sorted(list1 + list2)\n",
        "print(\"Merged sorted list : \",list_merged_sorted)"
      ],
      "metadata": {
        "colab": {
          "base_uri": "https://localhost:8080/"
        },
        "id": "qkoDqktKe_Qe",
        "outputId": "dcabaf84-b2ca-429a-b24b-6b8e7f21347b"
      },
      "execution_count": null,
      "outputs": [
        {
          "output_type": "stream",
          "name": "stdout",
          "text": [
            "Enter length of list 1 : 5\n",
            "Enter 0 index list element : 1\n",
            "Enter 1 index list element : 4\n",
            "Enter 2 index list element : 2\n",
            "Enter 3 index list element : 7\n",
            "Enter 4 index list element : 9\n",
            "Enter length of list 2 : 3\n",
            "Enter 0 index list element : 8\n",
            "Enter 1 index list element : 5\n",
            "Enter 2 index list element : 9\n",
            "Merged list :  [1, 2, 4, 5, 7, 8, 9, 9]\n"
          ]
        }
      ]
    },
    {
      "cell_type": "code",
      "source": [
        "# Q18\n",
        "list1 = [1,2,3,4,5,6]\n",
        "list2 = [9,8,7,6,5,4,3]\n",
        "list_intersection = list(set(list1) & set(list2))\n",
        "print(\"Intersection : \",list_intersection)"
      ],
      "metadata": {
        "colab": {
          "base_uri": "https://localhost:8080/"
        },
        "id": "pRm0UEcC_vOJ",
        "outputId": "a5970188-7edf-4b48-d2f4-fbd16f780fe2"
      },
      "execution_count": null,
      "outputs": [
        {
          "output_type": "stream",
          "name": "stdout",
          "text": [
            "Intersection :  [3, 4, 5, 6]\n"
          ]
        }
      ]
    },
    {
      "cell_type": "code",
      "source": [
        "# Q19\n",
        "list1 = [1,2,3,4,5,6]\n",
        "list2 = [9,8,7,6,5,4,3]\n",
        "list_intersection = list(set(list1) | set(list2))\n",
        "print(\"Intersection : \",list_intersection)"
      ],
      "metadata": {
        "colab": {
          "base_uri": "https://localhost:8080/"
        },
        "id": "pXEldh1tA7GP",
        "outputId": "a03a4265-791d-451c-e541-469138a257f3"
      },
      "execution_count": null,
      "outputs": [
        {
          "output_type": "stream",
          "name": "stdout",
          "text": [
            "Intersection :  [1, 2, 3, 4, 5, 6, 7, 8, 9]\n"
          ]
        }
      ]
    },
    {
      "cell_type": "code",
      "source": [
        "# Q20\n",
        "import random\n",
        "list1 = []\n",
        "i=0\n",
        "length1 = int(input(\"Enter length of list 1 : \"))\n",
        "while i < length1:\n",
        "    element1 = int(input(f\"Enter {i} index list element : \"))\n",
        "    list1.append(element1)\n",
        "    i += 1\n",
        "for i in range(0,len(list1)):\n",
        "    j = random.randint(0,i)\n",
        "    list1[i-1],list1[j] = list1[j],list1[i-1]\n",
        "print(\"Shuffled list : \",list1)"
      ],
      "metadata": {
        "colab": {
          "base_uri": "https://localhost:8080/"
        },
        "id": "pm1lHramBRij",
        "outputId": "b6b5cd4b-e3ab-43ff-910b-04f275f7fa46"
      },
      "execution_count": null,
      "outputs": [
        {
          "output_type": "stream",
          "name": "stdout",
          "text": [
            "Enter length of list 1 : 5\n",
            "Enter 0 index list element : 1\n",
            "Enter 1 index list element : 2\n",
            "Enter 2 index list element : 3\n",
            "Enter 3 index list element : 4\n",
            "Enter 4 index list element : 5\n",
            "Shuffled list :  [2, 4, 5, 3, 1]\n"
          ]
        }
      ]
    },
    {
      "cell_type": "code",
      "source": [
        "# Q21\n",
        "str1 = input(\"Enter numbers (separated by space) for tuple 1 : \")\n",
        "tuple1 = tuple(int(x) for x in str1.split())\n",
        "print(tuple1)\n",
        "str2 = input(\"Enter numbers (separated by space) for tuple 2 : \")\n",
        "tuple2 = tuple(int(y) for y in str2.split())\n",
        "print(tuple2)\n",
        "print(\"Common elements tuple : \",tuple(set(tuple1) & set(tuple2)))"
      ],
      "metadata": {
        "colab": {
          "base_uri": "https://localhost:8080/"
        },
        "id": "kG9P9UHVFE38",
        "outputId": "2c71fc00-d042-4dad-beb1-046dd9c8ed9a"
      },
      "execution_count": null,
      "outputs": [
        {
          "output_type": "stream",
          "name": "stdout",
          "text": [
            "Enter numbers (separated by space) for tuple : 1 2 3 4 5\n",
            "(1, 2, 3, 4, 5)\n",
            "Enter numbers (separated by space) for tuple : 2 3 4 1 5 6 \n",
            "(2, 3, 4, 1, 5, 6)\n",
            "Common elements tuple :  (1, 2, 3, 4, 5)\n"
          ]
        }
      ]
    },
    {
      "cell_type": "code",
      "source": [
        "# Q22\n",
        "str1 = input(\"Enter numbers (separated by space) for set 1 : \")\n",
        "set1 = set(int(x) for x in str1.split())\n",
        "print(set1)\n",
        "str2 = input(\"Enter numbers (separated by space) for set 2 : \")\n",
        "set2 = set(int(y) for y in str2.split())\n",
        "print(set2)\n",
        "print(\"Intersection of sets : \",set1 & set2)"
      ],
      "metadata": {
        "id": "dStSCrk9Rb8I",
        "colab": {
          "base_uri": "https://localhost:8080/"
        },
        "outputId": "1c1f5a77-5e2b-4355-bcad-3b918a0bea5e"
      },
      "execution_count": null,
      "outputs": [
        {
          "output_type": "stream",
          "name": "stdout",
          "text": [
            "Enter numbers (separated by space) for set 1 : 1 2 3 4 5 \n",
            "{1, 2, 3, 4, 5}\n",
            "Enter numbers (separated by space) for set 2 : 2 3 1 4 5 6 \n",
            "{1, 2, 3, 4, 5, 6}\n",
            "Intersection of sets :  {1, 2, 3, 4, 5}\n"
          ]
        }
      ]
    },
    {
      "cell_type": "code",
      "source": [
        "# Q23\n",
        "def tuple_concate(tuple1,tuple2):\n",
        "    return tuple1 + tuple2\n",
        "str1 = input(\"Enter numbers (separated by space) for tuple 1 : \")\n",
        "tuple1 = tuple(int(x) for x in str1.split())\n",
        "print(tuple1)\n",
        "str2 = input(\"Enter numbers (separated by space) for tuple 2 : \")\n",
        "tuple2 = tuple(int(y) for y in str2.split())\n",
        "print(tuple2)\n",
        "print(\"Concatenated Tuple : \",tuple_concate(tuple1,tuple2))"
      ],
      "metadata": {
        "id": "AZo_lm9bFhhR",
        "colab": {
          "base_uri": "https://localhost:8080/"
        },
        "outputId": "8eeb90e0-9786-4988-a4dc-6b1446590382"
      },
      "execution_count": null,
      "outputs": [
        {
          "output_type": "stream",
          "name": "stdout",
          "text": [
            "Enter numbers (separated by space) for tuple 1 : 1 2 3\n",
            "(1, 2, 3)\n",
            "Enter numbers (separated by space) for tuple 2 : 1 2 3\n",
            "(1, 2, 3)\n",
            "Concatenated Tuple :  (1, 2, 3, 1, 2, 3)\n"
          ]
        }
      ]
    },
    {
      "cell_type": "code",
      "source": [
        "# Q24\n",
        "set1 = set()\n",
        "set2 = set()\n",
        "set3 = set()\n",
        "length1 = int(input(\"Enter how many elements (String) you need in Set 1 : \"))\n",
        "for i in  range(length1):\n",
        "    element1 = input(f\"Enter {i} index set element : \")\n",
        "    set1.add(element1)\n",
        "length2 = int(input(\"Enter how many elements (String) you need in Set 2 : \"))\n",
        "for j in  range(length2):\n",
        "    element2 = input(f\"Enter {j} index set element : \")\n",
        "    set2.add(element2)\n",
        "for element in set1:\n",
        "    if element not in set2:\n",
        "        set3.add(element)\n",
        "print(\"Elements  present in set 1 but not in set 2 are : \",set3)"
      ],
      "metadata": {
        "colab": {
          "base_uri": "https://localhost:8080/"
        },
        "id": "h1fGnOZ_98O3",
        "outputId": "4aede3c5-b64f-41f6-a8ee-f6c4cf5d0138"
      },
      "execution_count": null,
      "outputs": [
        {
          "output_type": "stream",
          "name": "stdout",
          "text": [
            "Enter how many elements (String) you need in Set 1 : 3\n",
            "Enter 0 index set element : A\n",
            "Enter 1 index set element : B\n",
            "Enter 2 index set element : C\n",
            "Enter how many elements (String) you need in Set 2 : 3\n",
            "Enter 0 index set element : A\n",
            "Enter 1 index set element : b\n",
            "Enter 2 index set element : B\n",
            "Elements  present in set 1 but not in set 2 are :  {'C'}\n"
          ]
        }
      ]
    },
    {
      "cell_type": "code",
      "source": [
        "# Q25\n",
        "def tuple_range():\n",
        "    str1 = input(\"Enter a String (elements separated by spaces) : \")\n",
        "    tuple1 = tuple(int(x) for x in str1.split())\n",
        "    start = int(input(\"Enter start index : \"))\n",
        "    end = int(input(\"Enter end index : \"))\n",
        "    print(\"Tuple \",tuple1,\" ranges between indices \",start,' and ',end,'is : ',tuple1[start:end+1])\n",
        "tuple_range()"
      ],
      "metadata": {
        "colab": {
          "base_uri": "https://localhost:8080/"
        },
        "id": "Wd64UJWkDi4A",
        "outputId": "2580f2c3-07b9-45cf-b439-b99e77553b4d"
      },
      "execution_count": null,
      "outputs": [
        {
          "output_type": "stream",
          "name": "stdout",
          "text": [
            "Enter a String (elements separated by spaces) : 1 2 3 4 5 6 7 8\n",
            "Enter start index : 2\n",
            "Enter end index : 6\n",
            "Tuple  (1, 2, 3, 4, 5, 6, 7, 8)  ranges between indices  2  and  6 is :  (3, 4, 5, 6, 7)\n"
          ]
        }
      ]
    },
    {
      "cell_type": "code",
      "source": [
        "# Q26\n",
        "set1 = set()\n",
        "set2 = set()\n",
        "length1 = int(input(\"Enter how many elements (Characters) you need in Set 1 : \"))\n",
        "for i in  range(length1):\n",
        "    element1 = input(f\"Enter {i} index set element : \")\n",
        "    set1.add(element1)\n",
        "length2 = int(input(\"Enter how many elements (Characters) you need in Set 2 : \"))\n",
        "for j in  range(length2):\n",
        "    element2 = input(f\"Enter {j} index set element : \")\n",
        "    set2.add(element2)\n",
        "print(\"union of\",set1,'and',set2,'is : ',set1 | set2)"
      ],
      "metadata": {
        "colab": {
          "base_uri": "https://localhost:8080/"
        },
        "id": "w4KbUVWqetl_",
        "outputId": "d4fbbc63-ef49-4b0c-ee98-94c251085a92"
      },
      "execution_count": null,
      "outputs": [
        {
          "output_type": "stream",
          "name": "stdout",
          "text": [
            "Enter how many elements (Characters) you need in Set 1 : 3\n",
            "Enter 0 index set element : a\n",
            "Enter 1 index set element : s\n",
            "Enter 2 index set element : d\n",
            "Enter how many elements (Characters) you need in Set 2 : 3\n",
            "Enter 0 index set element : f\n",
            "Enter 1 index set element : g\n",
            "Enter 2 index set element : h\n",
            "union of {'a', 's', 'd'} and {'f', 'h', 'g'} is :  {'d', 'f', 's', 'a', 'h', 'g'}\n"
          ]
        }
      ]
    },
    {
      "cell_type": "code",
      "source": [
        "# Q27\n",
        "def tuple_max_min():\n",
        "    str1 = input(\"Enter a String (elements separated by spaces) of integer characters to take integer input of tuple : \")\n",
        "    tuple1 = tuple(int(x) for x in str1.split())\n",
        "    max_tuple = max(tuple1)\n",
        "    min_tuple = min(tuple1)\n",
        "    max_tuple,min_tuple = max_tuple,min_tuple\n",
        "    print(\"Max : \",max_tuple)\n",
        "    print(\"Min : \",min_tuple)\n",
        "tuple_max_min()"
      ],
      "metadata": {
        "colab": {
          "base_uri": "https://localhost:8080/"
        },
        "id": "xBcxCJOZglqR",
        "outputId": "8c1940b6-bb26-4a9e-fb61-8f83cec3dc7c"
      },
      "execution_count": null,
      "outputs": [
        {
          "output_type": "stream",
          "name": "stdout",
          "text": [
            "Enter a String (elements separated by spaces) of integer characters to take integer input of tuple :  8 5  4 6 7 \n",
            "Max :  8\n",
            "Min :  4\n"
          ]
        }
      ]
    },
    {
      "cell_type": "code",
      "source": [
        "# Q28\n",
        "set1 = set()\n",
        "set2 = set()\n",
        "length1 = int(input(\"Enter how many elements (Characters) you need in Set 1 : \"))\n",
        "for i in  range(length1):\n",
        "    element1 = input(f\"Enter set element : \")\n",
        "    set1.add(element1)\n",
        "length2 = int(input(\"Enter how many elements (Characters) you need in Set 2 : \"))\n",
        "for j in  range(length2):\n",
        "    element2 = input(f\"Enter set element : \")\n",
        "    set2.add(element2)\n",
        "print(\"union : \",set1 | set2)\n",
        "print(\"Intersection : \",set1 & set2)\n",
        "print(\"Difference of set 1 and set 2 : \",set1 - set2)"
      ],
      "metadata": {
        "colab": {
          "base_uri": "https://localhost:8080/"
        },
        "id": "GvYFP7GZi15i",
        "outputId": "52f67a7b-9b23-46a8-ff29-50d173c05cb5"
      },
      "execution_count": null,
      "outputs": [
        {
          "output_type": "stream",
          "name": "stdout",
          "text": [
            "Enter how many elements (Characters) you need in Set 1 : 3\n",
            "Enter set element : 1\n",
            "Enter set element : 2\n",
            "Enter set element : 5\n",
            "Enter how many elements (Characters) you need in Set 2 : 2\n",
            "Enter set element : 1\n",
            "Enter set element : 5\n",
            "union of {'1', '2', '5'} and {'1', '5'} is :  {'1', '5', '2'}\n",
            "Intersection :  {'1', '5'}\n",
            "Difference of set 1 and set 2 :  {'2'}\n",
            "Difference of set 2 and set 1 :  set()\n"
          ]
        }
      ]
    },
    {
      "cell_type": "code",
      "source": [
        "# Q29\n",
        "def tuple_occurance():\n",
        "    tuple1 = tuple()\n",
        "    str1 = input(\"Enter a String (elements separated by spaces) : \")\n",
        "    tuple1 = tuple(int(x) for x in str1.split())\n",
        "    element = int(input(\"Enter the element to find the occurance in Tuple : \"))\n",
        "    print(\"Occurance of \",element,\" in \",tuple1,\" is : \",tuple1.count(element))\n",
        "tuple_occurance()"
      ],
      "metadata": {
        "id": "PV5U8kT4jRxJ",
        "colab": {
          "base_uri": "https://localhost:8080/"
        },
        "outputId": "ed99dc9f-f30b-41ab-ff15-577e2a14aeca"
      },
      "execution_count": null,
      "outputs": [
        {
          "output_type": "stream",
          "name": "stdout",
          "text": [
            "Enter a String (elements separated by spaces) : 1 2 3 1 2 5 3 8 1\n",
            "Enter the element to find the occurance in Tuple : 1\n",
            "Occurance of  1  in  (1, 2, 3, 1, 2, 5, 3, 8, 1)  is :  3\n"
          ]
        }
      ]
    },
    {
      "cell_type": "code",
      "source": [
        "# Q30\n",
        "set1 = set()\n",
        "set2 = set()\n",
        "length1 = int(input(\"Enter how many elements (Characters) you need in Set 1 : \"))\n",
        "for i in  range(length1):\n",
        "    element1 = input(f\"Enter set element : \")\n",
        "    set1.add(element1)\n",
        "length2 = int(input(\"Enter how many elements (Characters) you need in Set 2 : \"))\n",
        "for j in  range(length2):\n",
        "    element2 = input(f\"Enter set element : \")\n",
        "    set2.add(element2)\n",
        "print(\"Symmetric Diffrence : \",set1 ^ set2)"
      ],
      "metadata": {
        "colab": {
          "base_uri": "https://localhost:8080/"
        },
        "id": "1hDUAx-bFzw8",
        "outputId": "0e8ac5ca-5e23-49cd-c9a6-9c3b9168e059"
      },
      "execution_count": null,
      "outputs": [
        {
          "output_type": "stream",
          "name": "stdout",
          "text": [
            "Enter how many elements (Characters) you need in Set 1 : 3\n",
            "Enter set element : A\n",
            "Enter set element : B\n",
            "Enter set element : C\n",
            "Enter how many elements (Characters) you need in Set 2 : 4\n",
            "Enter set element : A\n",
            "Enter set element : B\n",
            "Enter set element : C\n",
            "Enter set element : D\n",
            "Symmetric Diffrence :  {'D'}\n"
          ]
        }
      ]
    },
    {
      "cell_type": "code",
      "source": [
        "# Q31\n",
        "list_length = int(input(\"Enter length of list : \"))\n",
        "list1 = []\n",
        "list_unique = []\n",
        "list_occurance = []\n",
        "for i in range(list_length):\n",
        "    element = input(f\"Enter {i} index list element (word) : \")\n",
        "    list1.append(element)\n",
        "for element in list1:\n",
        "    if element not in list_unique:\n",
        "        list_unique.append(element)\n",
        "print(\"Entered List : \",list1)\n",
        "for j in list_unique:\n",
        "    list_occurance.append(list1.count(j))\n",
        "dict_occurance = {element:occurance for element,occurance in zip(list_unique,list_occurance)}\n",
        "print(\"Dictionary with element and their occurance : \",dict_occurance)"
      ],
      "metadata": {
        "colab": {
          "base_uri": "https://localhost:8080/"
        },
        "id": "mf_FsljGGGMf",
        "outputId": "4d09f9c7-7e70-4762-cea9-039cd4c8b6eb"
      },
      "execution_count": null,
      "outputs": [
        {
          "output_type": "stream",
          "name": "stdout",
          "text": [
            "Enter length of list : 2\n",
            "Enter 0 index list element (word) : A\n",
            "Enter 1 index list element (word) : A\n",
            "Entered List :  ['A', 'A']\n",
            "Dictionary with element and their occurance :  {'A': 2}\n"
          ]
        }
      ]
    },
    {
      "cell_type": "code",
      "source": [
        "from re import I\n",
        "# Q32\n",
        "def dictionary_input():\n",
        "    dict1 = dict()\n",
        "    length = int(input(\"Enter how many key,value pair you want in dictionary : \"))\n",
        "    for i in range(length):\n",
        "        key = int(input(f\"Enter {i} index key : \"))\n",
        "        value = input(f\"Enter {i} index value : \")\n",
        "        dict1[key] = value\n",
        "    return dict1\n",
        "def dictionary_merge():\n",
        "    print(\"Enter first Dictionary.\")\n",
        "    dict1 = dictionary_input()\n",
        "    print(\"Enter second Dictionary.\")\n",
        "    dict2 = dictionary_input()\n",
        "    for key in dict1:\n",
        "        if key in dict2:\n",
        "            dict1[key] = dict1[key] + dict2[key]\n",
        "        else:\n",
        "            dict1[key] = dict1[key]\n",
        "    return dict1\n",
        "print(\"Merged Dictionary : \",dictionary_merge())"
      ],
      "metadata": {
        "colab": {
          "base_uri": "https://localhost:8080/"
        },
        "id": "p4ltha-uHOlz",
        "outputId": "5e6dfc27-a07b-46ad-9714-33b510b9d0d5"
      },
      "execution_count": null,
      "outputs": [
        {
          "output_type": "stream",
          "name": "stdout",
          "text": [
            "Enter first Dictionary.\n",
            "Enter how many key,value pair you want in dictionary : 2\n",
            "Enter 0 index key : 1\n",
            "Enter 0 index value : Ishika\n",
            "Enter 1 index key : 2\n",
            "Enter 1 index value : Srinath\n",
            "Enter second Dictionary.\n",
            "Enter how many key,value pair you want in dictionary : 2\n",
            "Enter 0 index key : 1\n",
            "Enter 0 index value : Srinath\n",
            "Enter 1 index key : 2\n",
            "Enter 1 index value : Ishika\n",
            "Merged Dictionary :  {1: 'IshikaSrinath', 2: 'SrinathIshika'}\n"
          ]
        }
      ]
    },
    {
      "cell_type": "code",
      "source": [
        "# Q33\n",
        "def get_nested_value(dictionary, keys):\n",
        "    \"\"\"\n",
        "    Access a value in a nested dictionary.\n",
        "\n",
        "    Parameters:\n",
        "    dictionary (dict): The nested dictionary to access.\n",
        "    keys (list): A list of keys to traverse the dictionary.\n",
        "\n",
        "    Returns:\n",
        "    The value corresponding to the list of keys, or None if any key is not found.\n",
        "    \"\"\"\n",
        "    current_level = dictionary\n",
        "    for key in keys:\n",
        "        if isinstance(current_level, dict) and key in current_level:\n",
        "            current_level = current_level[key]\n",
        "        else:\n",
        "            return None\n",
        "    return current_level\n",
        "\n",
        "# Example usage:\n",
        "nested_dict = {\n",
        "    'a': {\n",
        "        'b': {\n",
        "            'c': 'd'\n",
        "        }\n",
        "    }\n",
        "}\n",
        "\n",
        "keys = ['a', 'b', 'c']\n",
        "print(get_nested_value(nested_dict, keys))  # Output: 'd'\n",
        "\n",
        "keys = ['a', 'x', 'c']\n",
        "print(get_nested_value(nested_dict, keys))  # Output: None"
      ],
      "metadata": {
        "id": "-KghIZHqSndK"
      },
      "execution_count": null,
      "outputs": []
    },
    {
      "cell_type": "code",
      "source": [
        "# Q34\n",
        "dict1 = dict()\n",
        "length = int(input(\"Enter how many key,value pair you want in dictionary : \"))\n",
        "for i in range(length):\n",
        "    key = int(input(f\"Enter {i} index key : \"))\n",
        "    value = input(f\"Enter {i} index value : \")\n",
        "    dict1[key] = value\n",
        "sorted_by_values = dict(sorted(dict1.items(), key=lambda item: item[1]))\n",
        "print(\"Sorted Dictionary by values : \",sorted_by_values)"
      ],
      "metadata": {
        "colab": {
          "base_uri": "https://localhost:8080/"
        },
        "id": "39Vsw5de_lMx",
        "outputId": "2b4d82eb-7e1c-48a5-c39d-5949cc9ef6e6"
      },
      "execution_count": null,
      "outputs": [
        {
          "output_type": "stream",
          "name": "stdout",
          "text": [
            "Enter how many key,value pair you want in dictionary : 3\n",
            "Enter 0 index key : 1\n",
            "Enter 0 index value : C\n",
            "Enter 1 index key : 2\n",
            "Enter 1 index value : B\n",
            "Enter 2 index key : 3\n",
            "Enter 2 index value : A\n",
            "Sorted Dictionary by values :  {3: 'A', 2: 'B', 1: 'C'}\n"
          ]
        }
      ]
    },
    {
      "cell_type": "code",
      "source": [
        "# Q35\n",
        "dict1 = dict()\n",
        "length = int(input(\"Enter how many key,value pair you want in dictionary : \"))\n",
        "for i in range(length):\n",
        "    key = int(input(f\"Enter {i} index key : \"))\n",
        "    value = input(f\"Enter {i} index value : \")\n",
        "    dict1[key] = value\n",
        "dict_inverted = dict()\n",
        "for key,valus in dict1.items():\n",
        "    if key in dict_inverted:\n",
        "        dict_inverted[valus] = key\n",
        "    else:\n",
        "        dict_inverted[value].append(key)\n",
        "print(\"Inverted Dictionary : \",dict_inverted)"
      ],
      "metadata": {
        "id": "F62YAu4s_-7p"
      },
      "execution_count": null,
      "outputs": []
    }
  ]
}