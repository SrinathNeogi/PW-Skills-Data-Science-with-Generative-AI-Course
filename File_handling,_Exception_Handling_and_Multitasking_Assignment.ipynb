{
  "nbformat": 4,
  "nbformat_minor": 0,
  "metadata": {
    "colab": {
      "provenance": [],
      "authorship_tag": "ABX9TyMtRWVvZOM/Xx5RavzgsaOm",
      "include_colab_link": true
    },
    "kernelspec": {
      "name": "python3",
      "display_name": "Python 3"
    },
    "language_info": {
      "name": "python"
    }
  },
  "cells": [
    {
      "cell_type": "markdown",
      "metadata": {
        "id": "view-in-github",
        "colab_type": "text"
      },
      "source": [
        "<a href=\"https://colab.research.google.com/github/SrinathNeogi/PW-Skills-Data-Science-with-Generative-AI-Course/blob/main/File_handling%2C_Exception_Handling_and_Multitasking_Assignment.ipynb\" target=\"_parent\"><img src=\"https://colab.research.google.com/assets/colab-badge.svg\" alt=\"Open In Colab\"/></a>"
      ]
    },
    {
      "cell_type": "code",
      "execution_count": null,
      "metadata": {
        "id": "L_k8D-GptkTk"
      },
      "outputs": [],
      "source": [
        "# Q1\n",
        "with open(\"test.txt\",'r') as file:\n",
        "        print(file.read())"
      ]
    },
    {
      "cell_type": "code",
      "source": [
        "# Q2\n",
        "with open(\"file.txt\",'w') as file:\n",
        "    file.write(\"Hello\")"
      ],
      "metadata": {
        "id": "ioeRTugL6B5t"
      },
      "execution_count": null,
      "outputs": []
    },
    {
      "cell_type": "code",
      "source": [
        "# Q3\n",
        "with open(\"file.txt\",'a') as file:\n",
        "    file.write(\"Hello\")"
      ],
      "metadata": {
        "id": "2nRKHwHy-szl"
      },
      "execution_count": null,
      "outputs": []
    },
    {
      "cell_type": "code",
      "source": [
        "# Q4\n",
        "with open(\"f_binary.bin\",\"rb\") as fb:\n",
        "    fb.read()"
      ],
      "metadata": {
        "id": "DG5VAepw-tAE"
      },
      "execution_count": null,
      "outputs": []
    },
    {
      "cell_type": "code",
      "source": [
        "# Q5\n",
        "# If we don't use with keyword with open, the file would close, its always open then. Then reading the content of file is not possible."
      ],
      "metadata": {
        "id": "zQnWbw_3-tHk"
      },
      "execution_count": null,
      "outputs": []
    },
    {
      "cell_type": "code",
      "source": [
        "# Q6\n",
        "\"\"\"\n",
        "A buffer in file handling is a temporary storage area in memory used to hold data while it is being transferred between the program and a file.\n",
        "When reading from or writing to a file, data is not immediately read or written directly to the file on disk; instead,\n",
        "it is first stored in the buffer. This buffered approach improves efficiency and performance in file handling operations.\n",
        "\"\"\""
      ],
      "metadata": {
        "colab": {
          "base_uri": "https://localhost:8080/",
          "height": 70
        },
        "id": "0YwI0Bij-tNL",
        "outputId": "485689c2-2e47-4311-abf4-276f9c62a9f5"
      },
      "execution_count": null,
      "outputs": [
        {
          "output_type": "execute_result",
          "data": {
            "text/plain": [
              "'\\nA buffer in file handling is a temporary storage area in memory used to hold data while it is being transferred between the program and a file. \\nWhen reading from or writing to a file, data is not immediately read or written directly to the file on disk; instead, \\nit is first stored in the buffer. This buffered approach improves efficiency and performance in file handling operations.\\n'"
            ],
            "application/vnd.google.colaboratory.intrinsic+json": {
              "type": "string"
            }
          },
          "metadata": {},
          "execution_count": 5
        }
      ]
    },
    {
      "cell_type": "code",
      "source": [
        "from re import A\n",
        "# Q7\n",
        "# Steps of buffer file handling :\n",
        "with open(\"file.txt\",\"wb\",buffering = 1024) as f: # Creating a file with 1024 - bytes of buffer.\n",
        "    f.write(\"PW Skills\") # Writing on the file\n",
        "    f.flush() # Flushing all on the disk, erasing the previous content.\n",
        "    print(f.read(100)) # Reading the file content of 100 -bytes"
      ],
      "metadata": {
        "id": "AYQfsBTb-tQf"
      },
      "execution_count": null,
      "outputs": []
    },
    {
      "cell_type": "code",
      "source": [
        "# Q8\n",
        "def buffer_file_reading(file_path,buffering=1024):\n",
        "    try:\n",
        "        with open(\"file_path\",\"r\") as file_buffer:\n",
        "            while True:\n",
        "                chunk = file_buffer.read(buffering):\n",
        "\n",
        "                if not chuck:\n",
        "                    break\n",
        "            content += chunk\n",
        "\n",
        "    return chunk\n",
        "\n",
        "print(buffer_file_reading(\"file.txt\",100))"
      ],
      "metadata": {
        "id": "9m_klYT2-tTb"
      },
      "execution_count": null,
      "outputs": []
    },
    {
      "cell_type": "code",
      "source": [
        "# Q9\n",
        "\"\"\"\n",
        "Buffered reading minimizes the number of disk accesses by reading larger chunks of data at once.\n",
        "Instead of making frequent small read requests to the disk (which is relatively slow),\n",
        "a buffer allows multiple small reads to be handled within memory.\n",
        "This reduces the overhead associated with disk I/O operations.\n",
        "\"\"\""
      ],
      "metadata": {
        "id": "eGryZD3h-tV1"
      },
      "execution_count": null,
      "outputs": []
    },
    {
      "cell_type": "code",
      "source": [
        "# Q10\n",
        "def append_using_buffer(file_path, text_append_,buffer_size=1024)\n",
        "\"\"\"\n",
        "    Function of append content on a text file\n",
        "\n",
        "    :args file_path : File location of the file in which the append of content will be done.\n",
        "    :args text_append : The text content that will be appended in the file\n",
        "    :args buffer_size : Size of the buffer in bytes. Default is 1024 bytes.\n",
        "\"\"\"\n",
        "    try:\n",
        "        with open(file_path,'a',buffering=buffer_size) as file:\n",
        "            file.write(text_append)\n",
        "            file.flush()\n",
        "            print(\"Successfully appended.\")\n",
        "    except FileNotFoundError:\n",
        "        print(f\"{file_path} not found.\")\n",
        "    except Exception as e:\n",
        "        print(e)"
      ],
      "metadata": {
        "id": "_A6K9vRs-tYM"
      },
      "execution_count": null,
      "outputs": []
    },
    {
      "cell_type": "code",
      "source": [
        "# Q11\n",
        "def close_func(file_path, content):\n",
        "    \"\"\"\n",
        "    Fucntion to demostrate the close() function.\n",
        "    \"\"\"\n",
        "    file = open(file_path,\"w\")\n",
        "\n",
        "    try:\n",
        "        file.write(content)\n",
        "        print(\"Written in file successfully\")\n",
        "    except Exception as e:\n",
        "        print(e)\n",
        "\n",
        "    try:\n",
        "        file.close()\n",
        "        print(\"File closed ? \", file.closed)\n",
        "    except Exception as e1:\n",
        "        print(e1)"
      ],
      "metadata": {
        "id": "8Zr19pA4-tao"
      },
      "execution_count": null,
      "outputs": []
    },
    {
      "cell_type": "code",
      "source": [
        "# Q12\n",
        "def demonstrate_detach(file_path):\n",
        "    \"\"\"\n",
        "    Demonstrates the use of the detach() method in Python.\n",
        "\n",
        "    :param file_path: Path to the file to be used for demonstration.\n",
        "    \"\"\"\n",
        "    try:\n",
        "        # Open a file in write mode to create it and then switch to read mode\n",
        "        with open(file_path, 'w') as file:\n",
        "            file.write(\"Hello, World!\\nThis is a test file.\")\n",
        "\n",
        "        # Open the file in text mode\n",
        "        with open(file_path, 'r') as file:\n",
        "            # Check the type of file (it should be TextIOWrapper)\n",
        "            print(\"Before detach:\")\n",
        "            print(\"File type:\", type(file))\n",
        "            print(\"File content:\", file.read())\n",
        "\n",
        "            # Detach the buffer (TextIOWrapper)\n",
        "            raw = file.detach()\n",
        "\n",
        "            # Now 'raw' is a BufferedReader or FileIO object\n",
        "            print(\"\\nAfter detach:\")\n",
        "            print(\"Raw file type:\", type(raw))\n",
        "\n",
        "            # Since we detached the buffer, raw is now at the start\n",
        "            # Rewind the raw stream to the start and read the content\n",
        "            raw.seek(0)\n",
        "            print(\"Raw file content:\", raw.read().decode('utf-8'))\n",
        "\n",
        "    except Exception as e:\n",
        "        print(f\"An error occurred: {e}\")"
      ],
      "metadata": {
        "id": "_s3gI7ff1Q2r"
      },
      "execution_count": null,
      "outputs": []
    },
    {
      "cell_type": "code",
      "source": [
        "# Q13\n",
        "# seek() is used to move the pointer to the any provided location.\n",
        "def seek_demo(file_path):\n",
        "    with open(file_path,'r') as file:\n",
        "        print(file.read(100))\n",
        "        file.seek(0)\n",
        "        print(file.read(50))\n",
        "        file.seek(10)\n",
        "        print(file.read(50))"
      ],
      "metadata": {
        "id": "PGqz-96D1Q4_"
      },
      "execution_count": null,
      "outputs": []
    },
    {
      "cell_type": "code",
      "source": [
        "# Q14\n",
        "# fileno() returns the file descriptor associated with an open file\n",
        "def fileno_demo(file_path):\n",
        "    with open(file_path,\"r\") as file:\n",
        "        return file.fileno()\n",
        "\n",
        "fd = fileno_demo(\"file.txt\")\n",
        "print(f\"File descriptor : {fd}\")"
      ],
      "metadata": {
        "id": "OoYymwla1Q7b"
      },
      "execution_count": null,
      "outputs": []
    },
    {
      "cell_type": "code",
      "source": [
        "# Q15\n",
        "# tell() tells the current file position of an open file\n",
        "def tell_demo(file_path):\n",
        "    with open(file_path,\"r\") as file:\n",
        "        file.read(100)\n",
        "        file.tell()"
      ],
      "metadata": {
        "id": "0VRx8-wx1Q95"
      },
      "execution_count": null,
      "outputs": []
    },
    {
      "cell_type": "code",
      "source": [
        "# Q16\n",
        "import logging\n",
        "logging.basicConfig(filename=\"text.log\",level=logging.DEBUG, format='%(asctime)s %(levelname)s %(message)s')\n",
        "\n",
        "logger = logging.getLogger(__name__)\n",
        "\n",
        "logger.debug(\"Debug\")\n",
        "logger.info(\"Info\")\n",
        "logger.warning(\"Warning\")\n",
        "logger.error(\"Error\")\n",
        "logger.critical(\"Critical\")\n",
        "logging.shutdown()"
      ],
      "metadata": {
        "colab": {
          "base_uri": "https://localhost:8080/"
        },
        "id": "Y5ygCdPI1RCk",
        "outputId": "087d017a-8804-4ff4-b4e4-d4d43c6626da"
      },
      "execution_count": null,
      "outputs": [
        {
          "output_type": "stream",
          "name": "stderr",
          "text": [
            "WARNING:__main__:Warning\n",
            "ERROR:__main__:Error\n",
            "CRITICAL:__main__:Critical\n"
          ]
        }
      ]
    },
    {
      "cell_type": "code",
      "source": [
        "# Q17\n",
        "\"\"\"\n",
        "Logging is a crucial aspect of any software application,\n",
        "providing a way to track and record events that happen during the execution of a program.\n",
        "The logging module in Python is particularly important because it offers a flexible and powerful way to generate logs,\n",
        "which can greatly enhance the maintainability,\n",
        "debuggability, and reliability of an application.\n",
        "\"\"\""
      ],
      "metadata": {
        "id": "lp2GWjR_1REz"
      },
      "execution_count": null,
      "outputs": []
    },
    {
      "cell_type": "code",
      "source": [
        "# Q18\n",
        "import logging\n",
        "logging.basicConfig(filename=\"text1.log\",level=logging.DEBUG,format='%(levelname)s %(message)s')\n",
        "\n",
        "for i in range(10):\n",
        "    logging.debug(f\"Value of i is {i}.\")\n",
        "    i += 1\n",
        "\n",
        "logging.shutdown()"
      ],
      "metadata": {
        "id": "qOCvYmrV1RHv"
      },
      "execution_count": null,
      "outputs": []
    },
    {
      "cell_type": "code",
      "source": [
        "# Q19\n",
        "\n"
      ],
      "metadata": {
        "id": "5hd99KiIDRyc"
      },
      "execution_count": null,
      "outputs": []
    },
    {
      "cell_type": "code",
      "source": [
        "# Q20\n"
      ],
      "metadata": {
        "id": "hCsFrWv4IF3-"
      },
      "execution_count": null,
      "outputs": []
    },
    {
      "cell_type": "code",
      "source": [
        "# Q21\n",
        "for i in range(1,6):\n",
        "    for j in range(0,5):\n",
        "        try:\n",
        "            print(f\"{i}/{j} = {i/j}\")\n",
        "        except Exception as e:\n",
        "            print(f\"{i}/{j} = {e}\")\n"
      ],
      "metadata": {
        "colab": {
          "base_uri": "https://localhost:8080/"
        },
        "id": "iTmq4qrwIF6s",
        "outputId": "079687e8-79f2-41c9-ff2c-8e4817db2a28"
      },
      "execution_count": null,
      "outputs": [
        {
          "output_type": "stream",
          "name": "stdout",
          "text": [
            "1/0 = division by zero\n",
            "1/1 = 1.0\n",
            "1/2 = 0.5\n",
            "1/3 = 0.3333333333333333\n",
            "1/4 = 0.25\n",
            "2/0 = division by zero\n",
            "2/1 = 2.0\n",
            "2/2 = 1.0\n",
            "2/3 = 0.6666666666666666\n",
            "2/4 = 0.5\n",
            "3/0 = division by zero\n",
            "3/1 = 3.0\n",
            "3/2 = 1.5\n",
            "3/3 = 1.0\n",
            "3/4 = 0.75\n",
            "4/0 = division by zero\n",
            "4/1 = 4.0\n",
            "4/2 = 2.0\n",
            "4/3 = 1.3333333333333333\n",
            "4/4 = 1.0\n",
            "5/0 = division by zero\n",
            "5/1 = 5.0\n",
            "5/2 = 2.5\n",
            "5/3 = 1.6666666666666667\n",
            "5/4 = 1.25\n"
          ]
        }
      ]
    },
    {
      "cell_type": "code",
      "source": [
        "# Q22\n",
        "\"\"\"\n",
        "else block will work if both try and except block will be executed without any error.\n",
        "\"\"\"\n",
        "try:\n",
        "    print(5/1)\n",
        "except Exception as e:\n",
        "    print(e)\n",
        "else:\n",
        "    print(\"No Exception\")"
      ],
      "metadata": {
        "colab": {
          "base_uri": "https://localhost:8080/"
        },
        "id": "iStvrkEpIF9F",
        "outputId": "ee29ca9a-cdd0-4ff4-8935-003735adebca"
      },
      "execution_count": null,
      "outputs": [
        {
          "output_type": "stream",
          "name": "stdout",
          "text": [
            "5.0\n",
            "No Exception\n"
          ]
        }
      ]
    },
    {
      "cell_type": "code",
      "source": [
        "# Q23\n",
        "try:\n",
        "    with open(\"file.txt\",\"r\") as file:\n",
        "        file.read()\n",
        "        print(\"File read successfully\")\n",
        "except Exception as e:\n",
        "    print(\"Error :\",e)\n",
        "else:\n",
        "    print(\"No Exception\")"
      ],
      "metadata": {
        "colab": {
          "base_uri": "https://localhost:8080/"
        },
        "id": "zjo2_O84IF_K",
        "outputId": "b2662812-318e-410b-cbe4-43becad94c4d"
      },
      "execution_count": null,
      "outputs": [
        {
          "output_type": "stream",
          "name": "stdout",
          "text": [
            "Error : [Errno 2] No such file or directory: 'file.txt'\n"
          ]
        }
      ]
    },
    {
      "cell_type": "code",
      "source": [
        "# Q24\n",
        "\"\"\"\n",
        "Finally block always execute , wither try, catch , else is executed or not. finally() block always be executed.\n",
        "\"\"\""
      ],
      "metadata": {
        "id": "mPAtbVtBIGBg"
      },
      "execution_count": null,
      "outputs": []
    },
    {
      "cell_type": "code",
      "source": [
        "# Q25\n",
        "try:\n",
        "    for i in range(1,6):\n",
        "        for j in range(5,-1,-1):\n",
        "            print(i,\"/\",j,\" = \",i/j)\n",
        "        print(\"-------------------------\")\n",
        "except Exception as e:\n",
        "    print(f\"{i} / {j} = {e} error\")\n",
        "else:\n",
        "    print(\"No Exception\")\n",
        "finally:\n",
        "    print(\"finally always executed.\")"
      ],
      "metadata": {
        "id": "h0rLDOabIGD4",
        "colab": {
          "base_uri": "https://localhost:8080/"
        },
        "outputId": "d2738408-9335-4373-ffb6-1ed716dc5818"
      },
      "execution_count": 1,
      "outputs": [
        {
          "output_type": "stream",
          "name": "stdout",
          "text": [
            "1 / 5  =  0.2\n",
            "1 / 4  =  0.25\n",
            "1 / 3  =  0.3333333333333333\n",
            "1 / 2  =  0.5\n",
            "1 / 1  =  1.0\n",
            "1 / 0 = division by zero error\n",
            "finally always executed.\n"
          ]
        }
      ]
    },
    {
      "cell_type": "code",
      "source": [
        "# Q26\n",
        "try:\n",
        "    x = int(input(\"Enter a number : \"))\n",
        "    y = int(input(\"Enter another number : \"))\n",
        "    print(f\"{x}/{y} = {x/y}\")\n",
        "except ZeroDivisionError as e:\n",
        "    print(f\"{x}/{y} = {e}\")\n",
        "except ValueError as e:\n",
        "    print(e)\n",
        "except Exception as e:\n",
        "    print(e)\n",
        "else:\n",
        "    print(\"No Error\")"
      ],
      "metadata": {
        "colab": {
          "base_uri": "https://localhost:8080/"
        },
        "id": "fBb5aWwwFUqx",
        "outputId": "5e74594a-2158-4d5b-a358-926c30a35e91"
      },
      "execution_count": 4,
      "outputs": [
        {
          "output_type": "stream",
          "name": "stdout",
          "text": [
            "Enter a number : 1\n",
            "Enter another number : 0\n",
            "1/0 = division by zero\n"
          ]
        }
      ]
    },
    {
      "cell_type": "code",
      "source": [
        "# Q27\n",
        "\"\"\"\n",
        "Custom exceptions in Python are user-defined error classes that extend the built-in Exception class.\n",
        "They allow you to create specific error types for your application,\n",
        "providing more informative and granular error handling.\n",
        "\"\"\""
      ],
      "metadata": {
        "colab": {
          "base_uri": "https://localhost:8080/",
          "height": 52
        },
        "id": "PLteW1sjGi0n",
        "outputId": "3157cc75-66dc-4647-de09-987f770b03ea"
      },
      "execution_count": 7,
      "outputs": [
        {
          "output_type": "execute_result",
          "data": {
            "text/plain": [
              "'\\nCustom exceptions in Python are user-defined error classes that extend the built-in Exception class. \\nThey allow you to create specific error types for your application, \\nproviding more informative and granular error handling.\\n'"
            ],
            "application/vnd.google.colaboratory.intrinsic+json": {
              "type": "string"
            }
          },
          "metadata": {},
          "execution_count": 7
        }
      ]
    },
    {
      "cell_type": "code",
      "source": [
        "# Q28\n",
        "class User_defined_Exception(Exception):\n",
        "    def __init__(self,msg):\n",
        "        self.msg = msg\n",
        "\n",
        "def test(variable):\n",
        "    if variable > 10:\n",
        "        raise User_defined_Exception(\"Greater than 10 value\")\n",
        "    else:\n",
        "        print(\"OK!\")\n",
        "\n",
        "try:\n",
        "    test(5)\n",
        "except User_defined_Exception as e:\n",
        "    print(e)\n",
        "\n",
        "try:\n",
        "    test(15)\n",
        "except User_defined_Exception as e:\n",
        "    print(e)"
      ],
      "metadata": {
        "colab": {
          "base_uri": "https://localhost:8080/"
        },
        "id": "50gHIR1DG8Ju",
        "outputId": "7c7ecb62-12ec-497e-f728-6cc8b5467b92"
      },
      "execution_count": 6,
      "outputs": [
        {
          "output_type": "stream",
          "name": "stdout",
          "text": [
            "OK!\n",
            "Greater than 10 value\n"
          ]
        }
      ]
    },
    {
      "cell_type": "code",
      "source": [
        "# Q29\n",
        "class User_defined_Exception(Exception):\n",
        "    def __init__(self,msg):\n",
        "        self.msg = msg\n",
        "\n",
        "def test(variable):\n",
        "    if variable > 10:\n",
        "        raise User_defined_Exception(\"Greater than 10 value\")\n",
        "    else:\n",
        "        print(\"OK!\")\n",
        "\n",
        "try:\n",
        "    test(5)\n",
        "except User_defined_Exception as e:\n",
        "    print(e)\n",
        "\n",
        "try:\n",
        "    test(15)\n",
        "except User_defined_Exception as e:\n",
        "    print(e)"
      ],
      "metadata": {
        "id": "9s5FJJ0HG82R"
      },
      "execution_count": null,
      "outputs": []
    },
    {
      "cell_type": "code",
      "source": [
        "# Q30\n",
        "class Negative_error(Exception):\n",
        "    def __init__(self,msg):\n",
        "        self.msg = msg\n",
        "\n",
        "def find_negative(num):\n",
        "    if num < 0:\n",
        "        raise Negative_error(f\"{num} is negative\")\n",
        "    else:\n",
        "        print(f\"Inputed number = {num}\")\n",
        "\n",
        "try:\n",
        "    find_negative(5)\n",
        "except Negative_error as e:\n",
        "    print(e)\n",
        "\n",
        "try:\n",
        "    find_negative(-5)\n",
        "except Negative_error as e:\n",
        "    print(e)"
      ],
      "metadata": {
        "colab": {
          "base_uri": "https://localhost:8080/"
        },
        "id": "dNOmGkAVG84n",
        "outputId": "860bc2e0-5168-4e06-babc-05dce6be4710"
      },
      "execution_count": 13,
      "outputs": [
        {
          "output_type": "stream",
          "name": "stdout",
          "text": [
            "Inputed number = 5\n",
            "-5 is negative\n"
          ]
        }
      ]
    },
    {
      "cell_type": "code",
      "source": [
        "# Q31\n",
        "\"\"\"\n",
        "try : In try the exception generating function of code smippet is given. It checks is the code snippet really throws exception or not.\n",
        "except : If exception is found in try block, it raises the exception then it is handled in except block which gives the particu;ar type of exception messgae.\n",
        "else : If no exception is found after executing try and except block, then the else block be executed.\n",
        "finally : finally block always be executed no matter what.\n",
        "\"\"\""
      ],
      "metadata": {
        "colab": {
          "base_uri": "https://localhost:8080/",
          "height": 87
        },
        "id": "bN0jfbatG860",
        "outputId": "d5744080-d9f8-448f-dcc6-347fc36b20f0"
      },
      "execution_count": 14,
      "outputs": [
        {
          "output_type": "execute_result",
          "data": {
            "text/plain": [
              "'\\ntry : In try the exception generating function of code smippet is given. It checks is the code snippet really throws exception or not.\\nexcept : If exception is found in try block, it raises the exception then it is handled in except block which gives the particu;ar type of exception messgae.\\nelse : If no exception is found after executing try and except block, then the else block be executed.\\nfinally : finally block always be executed no matter what.\\n'"
            ],
            "application/vnd.google.colaboratory.intrinsic+json": {
              "type": "string"
            }
          },
          "metadata": {},
          "execution_count": 14
        }
      ]
    },
    {
      "cell_type": "code",
      "source": [
        "# Q32\n",
        "\"\"\"\n",
        "Custom exceptions significantly improve code readability and maintainability by:\n",
        "\n",
        "Clearer Error Messages: They provide specific error messages, making it easier to understand the cause of an error.\n",
        "Better Code Organization: By encapsulating error handling logic within custom exceptions, code becomes more modular and organized.\n",
        "Improved Error Handling: Specific exceptions allow for tailored error handling, leading to more robust code.\n",
        "Enhanced Readability: Descriptive exception names make the code more self-documenting.\n",
        "Easier Debugging: Custom exceptions can provide additional context, simplifying the debugging process.\n",
        "\"\"\""
      ],
      "metadata": {
        "colab": {
          "base_uri": "https://localhost:8080/",
          "height": 104
        },
        "id": "cOSqV2IRG89G",
        "outputId": "6f360f01-762d-4f36-d540-d7ddb8036981"
      },
      "execution_count": 15,
      "outputs": [
        {
          "output_type": "execute_result",
          "data": {
            "text/plain": [
              "'\\nCustom exceptions significantly improve code readability and maintainability by:\\n\\nClearer Error Messages: They provide specific error messages, making it easier to understand the cause of an error.\\nBetter Code Organization: By encapsulating error handling logic within custom exceptions, code becomes more modular and organized.\\nImproved Error Handling: Specific exceptions allow for tailored error handling, leading to more robust code.\\nEnhanced Readability: Descriptive exception names make the code more self-documenting.\\nEasier Debugging: Custom exceptions can provide additional context, simplifying the debugging process.\\n'"
            ],
            "application/vnd.google.colaboratory.intrinsic+json": {
              "type": "string"
            }
          },
          "metadata": {},
          "execution_count": 15
        }
      ]
    },
    {
      "cell_type": "code",
      "source": [
        "# Q33\n",
        "\"\"\"\n",
        "Multithreading is a concept to process one program as a bunch of threads, which are smallest unit of process.\n",
        "\"\"\""
      ],
      "metadata": {
        "colab": {
          "base_uri": "https://localhost:8080/",
          "height": 35
        },
        "id": "u5nOt3f-G8_M",
        "outputId": "c9fb2db3-4584-4594-9e2a-39c19b8a26f2"
      },
      "execution_count": 16,
      "outputs": [
        {
          "output_type": "execute_result",
          "data": {
            "text/plain": [
              "'\\nMultithreading is a concept to process one program as a bunch of threads, which are smallest unit of process.\\n'"
            ],
            "application/vnd.google.colaboratory.intrinsic+json": {
              "type": "string"
            }
          },
          "metadata": {},
          "execution_count": 16
        }
      ]
    },
    {
      "cell_type": "code",
      "source": [
        "# Q34\n",
        "\n",
        "import threading\n",
        "import time\n",
        "\n",
        "start = time.perf_counter()\n",
        "\n",
        "def threading_test():\n",
        "    print(\"Function start\")\n",
        "    print(\"Going for sleep for 1 sec\")\n",
        "    time.sleep(1)\n",
        "    print(\"Returned from sleep\")\n",
        "\n",
        "t1 = threading.Thread(target = threading_test)\n",
        "t2 = threading.Thread(target = threading_test)\n",
        "\n",
        "t1.start()\n",
        "t2.start()\n",
        "\n",
        "t1.join()\n",
        "t2.join()\n",
        "\n",
        "end = time.perf_counter()\n",
        "\n",
        "print(f\"Run time = {end - start}\")\n"
      ],
      "metadata": {
        "colab": {
          "base_uri": "https://localhost:8080/"
        },
        "id": "gpDMFbwqG9BM",
        "outputId": "9453f0c0-6c48-45c0-ae2b-8b003ba300b0"
      },
      "execution_count": 18,
      "outputs": [
        {
          "output_type": "stream",
          "name": "stdout",
          "text": [
            "Function start\n",
            "Going for sleep for 1 sec\n",
            "Function start\n",
            "Going for sleep for 1 sec\n",
            "Returned from sleep\n",
            "Returned from sleep\n",
            "Run time = 1.007442697999977\n"
          ]
        }
      ]
    },
    {
      "cell_type": "code",
      "source": [
        "# Q36\n",
        "\"\"\"\n",
        "The GIL was introduced to simplify memory management in Python. By restricting access to Python objects to a single thread at a time, it prevents race conditions and other concurrency issues.\n",
        "\"\"\""
      ],
      "metadata": {
        "colab": {
          "base_uri": "https://localhost:8080/",
          "height": 52
        },
        "id": "Fn3UothLXRzh",
        "outputId": "bea8f9dc-e604-40f5-f3b7-0fa1879b208f"
      },
      "execution_count": 19,
      "outputs": [
        {
          "output_type": "execute_result",
          "data": {
            "text/plain": [
              "'\\nThe GIL was introduced to simplify memory management in Python. By restricting access to Python objects to a single thread at a time, it prevents race conditions and other concurrency issues.\\n'"
            ],
            "application/vnd.google.colaboratory.intrinsic+json": {
              "type": "string"
            }
          },
          "metadata": {},
          "execution_count": 19
        }
      ]
    },
    {
      "cell_type": "code",
      "source": [
        "# Q37\n",
        "\"\"\"\n",
        "When multiple threads are running, there is a main thread or main process running at the background. This main thread completes the program's\n",
        "rest part before execution of all threads, So its causes dispute or error. To recover this problem join() is used. join() method joins\n",
        "the threads , so that no main thread can run in background. When only all processes are completed then only main thread runs.\n",
        "Trough this the correctness of the program is maintained.\n",
        "\"\"\""
      ],
      "metadata": {
        "colab": {
          "base_uri": "https://localhost:8080/",
          "height": 87
        },
        "id": "L3T8LuIgsemN",
        "outputId": "587a6d12-0290-4049-af14-b040d373ba79"
      },
      "execution_count": 20,
      "outputs": [
        {
          "output_type": "execute_result",
          "data": {
            "text/plain": [
              "\"\\nWhen multiple threads are running, there is a main thread or main process running at the background. This main thread completes the program's\\nrest part before execution of all threads, So its causes dispute or error. To recover this problem join() is used. join() method joins \\nthe threads , so that no main thread can run in background. When only all processes are completed then only main thread runs.\\nTrough this the correctness of the program is maintained.\\n\""
            ],
            "application/vnd.google.colaboratory.intrinsic+json": {
              "type": "string"
            }
          },
          "metadata": {},
          "execution_count": 20
        }
      ]
    },
    {
      "cell_type": "code",
      "source": [
        "# Q38\n",
        "\"\"\"\n",
        "Scenario: A web server handling multiple client requests concurrently.\n",
        "\n",
        "Why Multithreading is Beneficial:\n",
        "\n",
        "Improved responsiveness: By using multiple threads, the server can handle multiple client requests simultaneously, preventing delays and ensuring a better user experience.\n",
        "Efficient resource utilization: While one thread is waiting for a network response or performing I/O operations, other threads can process other requests, maximizing CPU utilization.\n",
        "Scalability: As the number of concurrent connections increases, a multithreaded server can handle the load more gracefully than a single-threaded one.\n",
        "\"\"\""
      ],
      "metadata": {
        "colab": {
          "base_uri": "https://localhost:8080/",
          "height": 104
        },
        "id": "xuvY8EbHtFRI",
        "outputId": "b2f805ed-ccb3-4ba6-eeb2-62b3571dae9e"
      },
      "execution_count": 21,
      "outputs": [
        {
          "output_type": "execute_result",
          "data": {
            "text/plain": [
              "'\\nScenario: A web server handling multiple client requests concurrently.\\n\\nWhy Multithreading is Beneficial:\\n\\nImproved responsiveness: By using multiple threads, the server can handle multiple client requests simultaneously, preventing delays and ensuring a better user experience.\\nEfficient resource utilization: While one thread is waiting for a network response or performing I/O operations, other threads can process other requests, maximizing CPU utilization.\\nScalability: As the number of concurrent connections increases, a multithreaded server can handle the load more gracefully than a single-threaded one.\\n'"
            ],
            "application/vnd.google.colaboratory.intrinsic+json": {
              "type": "string"
            }
          },
          "metadata": {},
          "execution_count": 21
        }
      ]
    },
    {
      "cell_type": "code",
      "source": [
        "# Q39\n",
        "\"\"\"\n",
        "Multiprocessing in Python is a technique to utilize multiple CPU cores by running different parts of your code as separate processes. This is especially useful for CPU-bound tasks that can benefit from parallel execution. It overcomes the limitations of the Global Interpreter Lock (GIL) which prevents true multithreading in Python for CPU-bound work.\n",
        "\"\"\""
      ],
      "metadata": {
        "colab": {
          "base_uri": "https://localhost:8080/",
          "height": 70
        },
        "id": "e15hpA-FtVZX",
        "outputId": "449ffed7-1203-4201-d91f-8ed7524db163"
      },
      "execution_count": 22,
      "outputs": [
        {
          "output_type": "execute_result",
          "data": {
            "text/plain": [
              "'\\nMultiprocessing in Python is a technique to utilize multiple CPU cores by running different parts of your code as separate processes. This is especially useful for CPU-bound tasks that can benefit from parallel execution. It overcomes the limitations of the Global Interpreter Lock (GIL) which prevents true multithreading in Python for CPU-bound work.\\n'"
            ],
            "application/vnd.google.colaboratory.intrinsic+json": {
              "type": "string"
            }
          },
          "metadata": {},
          "execution_count": 22
        }
      ]
    },
    {
      "cell_type": "code",
      "source": [
        "# Q40\n",
        "\"\"\"\n",
        "Multiprocessing: Involves multiple processes, each with its own memory space. Ideal for CPU-bound tasks as it bypasses the GIL.\n",
        "Multithreading: Involves multiple threads within a single process, sharing the same memory space. Better for I/O-bound tasks due to the GIL's impact on CPU-bound operations.\n",
        "\"\"\""
      ],
      "metadata": {
        "colab": {
          "base_uri": "https://localhost:8080/",
          "height": 70
        },
        "id": "I95-46YRuaHU",
        "outputId": "b7a301b0-3fb7-4de2-d2a1-5df8e697ea74"
      },
      "execution_count": 23,
      "outputs": [
        {
          "output_type": "execute_result",
          "data": {
            "text/plain": [
              "\"\\nMultiprocessing: Involves multiple processes, each with its own memory space. Ideal for CPU-bound tasks as it bypasses the GIL.\\nMultithreading: Involves multiple threads within a single process, sharing the same memory space. Better for I/O-bound tasks due to the GIL's impact on CPU-bound operations.\\n\""
            ],
            "application/vnd.google.colaboratory.intrinsic+json": {
              "type": "string"
            }
          },
          "metadata": {},
          "execution_count": 23
        }
      ]
    },
    {
      "cell_type": "code",
      "source": [
        "# Q41\n",
        "import multiprocessing\n",
        "\n",
        "import time\n",
        "\n",
        "start = time.perf_counter()\n",
        "\n",
        "def test():\n",
        "    print(\"Hello\")\n",
        "    print(\"Sleep for 1 sec\")\n",
        "    time.sleep(1)\n",
        "    print(\"Return from sleep\")\n",
        "\n",
        "processes = list()\n",
        "for i in range(10):\n",
        "    p = multiprocessing.Process(target = test)\n",
        "    p.start()\n",
        "    processes.append(p)\n",
        "\n",
        "for process in processes:\n",
        "    process.join()\n",
        "\n",
        "end = time.perf_counter()\n",
        "\n",
        "print(\"Program finished in = \", (end - start),\"sec\")"
      ],
      "metadata": {
        "colab": {
          "base_uri": "https://localhost:8080/"
        },
        "id": "OsSU5PjAuj7u",
        "outputId": "a1fc7b0d-ca54-423f-8967-034ea6cef49d"
      },
      "execution_count": 24,
      "outputs": [
        {
          "output_type": "stream",
          "name": "stdout",
          "text": [
            "HelloHello\n",
            "\n",
            "Sleep for 1 sec\n",
            "Sleep for 1 secHelloHello\n",
            "\n",
            "\n",
            "Sleep for 1 secHelloSleep for 1 sec\n",
            "\n",
            "\n",
            "Sleep for 1 sec\n",
            "Hello\n",
            "\n",
            "\n",
            "HelloSleep for 1 secSleep for 1 sec\n",
            "Hello\n",
            "Sleep for 1 sec\n",
            "Hello\n",
            "Sleep for 1 sec\n",
            "Hello\n",
            "Sleep for 1 sec\n",
            "Return from sleep\n",
            "Return from sleep\n",
            "Return from sleep\n",
            "Return from sleep\n",
            "Return from sleep\n",
            "Return from sleep\n",
            "Return from sleep\n",
            "Return from sleep\n",
            "Return from sleep\n",
            "Return from sleep\n",
            "Program finished in =  1.3012266250007087 sec\n"
          ]
        }
      ]
    },
    {
      "cell_type": "code",
      "source": [
        "# Q42\n",
        "\"\"\"\n",
        "Pool in multiprocessing is essentially a manager for a group of worker processes. It allows you to distribute tasks across multiple cores or CPUs efficiently.\n",
        "\n",
        "Creates worker processes: You specify the number of processes you want in the pool.\n",
        "Distributes tasks: You can use methods like map, imap, apply_async, etc., to distribute tasks to these worker processes.\n",
        "Manages results: The pool handles collecting and returning results from the worker processes.\n",
        "\"\"\""
      ],
      "metadata": {
        "colab": {
          "base_uri": "https://localhost:8080/",
          "height": 87
        },
        "id": "H_uqWOpOvRyv",
        "outputId": "5fa1f4b6-2b32-49fd-fdc9-db46329ef9e4"
      },
      "execution_count": 25,
      "outputs": [
        {
          "output_type": "execute_result",
          "data": {
            "text/plain": [
              "'\\nPool in multiprocessing is essentially a manager for a group of worker processes. It allows you to distribute tasks across multiple cores or CPUs efficiently.\\n\\nCreates worker processes: You specify the number of processes you want in the pool.\\nDistributes tasks: You can use methods like map, imap, apply_async, etc., to distribute tasks to these worker processes.\\nManages results: The pool handles collecting and returning results from the worker processes.\\n'"
            ],
            "application/vnd.google.colaboratory.intrinsic+json": {
              "type": "string"
            }
          },
          "metadata": {},
          "execution_count": 25
        }
      ]
    },
    {
      "cell_type": "code",
      "source": [],
      "metadata": {
        "id": "A6RApVTUx-_j"
      },
      "execution_count": null,
      "outputs": []
    }
  ]
}