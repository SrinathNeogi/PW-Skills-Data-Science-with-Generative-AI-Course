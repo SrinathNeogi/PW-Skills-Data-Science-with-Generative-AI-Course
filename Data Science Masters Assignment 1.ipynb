{
 "cells": [
  {
   "cell_type": "code",
   "execution_count": 4,
   "id": "bb2724ae",
   "metadata": {},
   "outputs": [
    {
     "name": "stdout",
     "output_type": "stream",
     "text": [
      "1\n",
      "2\n",
      "3\n",
      "4\n",
      "5\n",
      "6\n",
      "7\n",
      "8\n",
      "9\n",
      "10\n"
     ]
    }
   ],
   "source": [
    "#Q1\n",
    "# while loop -> A while loop in Python is used when the number of iterations is not known beforehand and the loop should continue to execute as long as a certain condition is true. It's useful for situations where the loop might need to terminate based on a condition that changes dynamically during the execution of the loop.\n",
    "i = 1\n",
    "while(i < 11):\n",
    "    print(i)\n",
    "    i = i + 1\n"
   ]
  },
  {
   "cell_type": "code",
   "execution_count": 5,
   "id": "386f4ea0",
   "metadata": {},
   "outputs": [
    {
     "name": "stdout",
     "output_type": "stream",
     "text": [
      "1\n",
      "2\n",
      "3\n",
      "4\n",
      "5\n",
      "6\n",
      "7\n",
      "8\n",
      "9\n",
      "10\n"
     ]
    }
   ],
   "source": [
    "# for loop -> A for loop in Python is typically used when the number of iterations is known beforehand. It's ideal for iterating over a sequence or collection, such as a list, tuple, string, or range.\n",
    "for i in range(1,11):\n",
    "    print(i)"
   ]
  },
  {
   "cell_type": "code",
   "execution_count": 8,
   "id": "c8b627b7",
   "metadata": {},
   "outputs": [
    {
     "name": "stdout",
     "output_type": "stream",
     "text": [
      "Sum =  55\n",
      "Product =  3628800\n"
     ]
    }
   ],
   "source": [
    "# Q2\n",
    "# using for loop\n",
    "sum1 = 0\n",
    "prod = 1\n",
    "\n",
    "for i in range(1,11):\n",
    "    sum1 = sum1 + i\n",
    "    prod = prod * i\n",
    "print(\"Sum = \",sum1)\n",
    "print(\"Product = \",prod)"
   ]
  },
  {
   "cell_type": "code",
   "execution_count": 9,
   "id": "99064fe9",
   "metadata": {},
   "outputs": [
    {
     "name": "stdout",
     "output_type": "stream",
     "text": [
      "Sum =  55 Product =  3628800\n"
     ]
    }
   ],
   "source": [
    "# using while loop\n",
    "i = 1\n",
    "sum1 = 0\n",
    "prod = 1\n",
    "while(i < 11):\n",
    "    sum1 = sum1 + i\n",
    "    prod = prod * i\n",
    "    i = i + 1\n",
    "print(\"Sum = \",sum1, \"Product = \",prod)"
   ]
  },
  {
   "cell_type": "code",
   "execution_count": 14,
   "id": "21d5158d",
   "metadata": {},
   "outputs": [
    {
     "name": "stdout",
     "output_type": "stream",
     "text": [
      "Enter unit of electricity used in a month : 310\n",
      "Total electricity bill =  2250\n"
     ]
    }
   ],
   "source": [
    "# Q3\n",
    "unit = int(input(\"Enter unit of electricity used in a month : \"))\n",
    "\n",
    "if(unit <= 100):\n",
    "    rs1 = unit * 4*5\n",
    "    rs_final = rs1\n",
    "elif(unit > 100 and unit <= 200):\n",
    "    rs1 = (100) * 4.5\n",
    "    rs2 = (unit - 100) * 6\n",
    "    rs_final = rs1 + rs2\n",
    "elif(unit > 200 and unit <= 300):\n",
    "    rs1 = 100 * 4.5\n",
    "    rs2 = 100 * 6\n",
    "    rs3 = (unit - 200) * 10\n",
    "    rs_final = rs1 + rs2 + rs3\n",
    "else:\n",
    "    rs1 = 100 * 4.5\n",
    "    rs2 = 100 * 6\n",
    "    rs3 = 100 * 10\n",
    "    rs4 = (unit - 300) * 20\n",
    "    rs_final = rs1 + rs2 + rs3 + rs4\n",
    "print(\"Total electricity bill = \",int(rs_final))"
   ]
  },
  {
   "cell_type": "code",
   "execution_count": 17,
   "id": "bf15e051",
   "metadata": {},
   "outputs": [
    {
     "name": "stdout",
     "output_type": "stream",
     "text": [
      "[1, 2, 3, 4, 5, 6, 7, 8, 9, 10, 11, 12, 13, 14, 15, 16, 17, 18, 19, 20, 21, 22, 23, 24, 25, 26, 27, 28, 29, 30, 31, 32, 33, 34, 35, 36, 37, 38, 39, 40, 41, 42, 43, 44, 45, 46, 47, 48, 49, 50, 51, 52, 53, 54, 55, 56, 57, 58, 59, 60, 61, 62, 63, 64, 65, 66, 67, 68, 69, 70, 71, 72, 73, 74, 75, 76, 77, 78, 79, 80, 81, 82, 83, 84, 85, 86, 87, 88, 89, 90, 91, 92, 93, 94, 95, 96, 97, 98, 99, 100]\n",
      "Final list :  [125, 1000, 3375, 8000, 15625, 27000, 42875, 64000, 91125, 125000, 166375, 216000, 274625, 343000, 421875, 512000, 614125, 729000, 857375, 1000000]\n"
     ]
    }
   ],
   "source": [
    "# Q4\n",
    "list1 = list()\n",
    "list_final = list()\n",
    "\n",
    "for i in range(1,101):\n",
    "    list1.append(i)\n",
    "print(list1)\n",
    "\n",
    "for j in list1:\n",
    "    if(((j**3) / 4) == 0 or (j**3 % 5) == 0):\n",
    "        list_final.append(j**3)\n",
    "print(\"Final list : \", list_final)"
   ]
  },
  {
   "cell_type": "code",
   "execution_count": 21,
   "id": "cd530fce",
   "metadata": {},
   "outputs": [
    {
     "name": "stdout",
     "output_type": "stream",
     "text": [
      "No of Vowels =  12\n"
     ]
    }
   ],
   "source": [
    "# Q5\n",
    "str1 = \"I want to become a data scientist\"\n",
    "\n",
    "str_main = str1.lower()\n",
    "\n",
    "vowels = ['a','e','i','o','u']\n",
    "count = 0\n",
    "\n",
    "for i in range(0,len(str1)):\n",
    "    if str_main[i] in vowels:\n",
    "        count = count + 1\n",
    "print(\"No of Vowels = \",count)"
   ]
  },
  {
   "cell_type": "code",
   "execution_count": null,
   "id": "bef0e948",
   "metadata": {},
   "outputs": [],
   "source": []
  }
 ],
 "metadata": {
  "kernelspec": {
   "display_name": "Python 3 (ipykernel)",
   "language": "python",
   "name": "python3"
  },
  "language_info": {
   "codemirror_mode": {
    "name": "ipython",
    "version": 3
   },
   "file_extension": ".py",
   "mimetype": "text/x-python",
   "name": "python",
   "nbconvert_exporter": "python",
   "pygments_lexer": "ipython3",
   "version": "3.11.7"
  }
 },
 "nbformat": 4,
 "nbformat_minor": 5
}
