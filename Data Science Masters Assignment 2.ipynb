{
 "cells": [
  {
   "cell_type": "code",
   "execution_count": 3,
   "id": "0adafb1c",
   "metadata": {},
   "outputs": [
    {
     "data": {
      "text/plain": [
       "[1, 3, 5, 7, 9, 11, 13, 15, 17, 19, 21, 23, 25]"
      ]
     },
     "execution_count": 3,
     "metadata": {},
     "output_type": "execute_result"
    }
   ],
   "source": [
    "# Q1\n",
    "### 'def' keyword is used while declaring a function\n",
    "\n",
    "### odd numbers in range(1,26)\n",
    "\n",
    "def return_odd():\n",
    "    return [i for i in range(1,26) if i % 2 != 0]\n",
    "return_odd()"
   ]
  },
  {
   "cell_type": "markdown",
   "id": "705167d9",
   "metadata": {},
   "source": [
    "### Q2\n",
    "#### *args is used to pass a variable number of non-keyword arguments to a function.\n",
    "#### **kwargs is used to pass a variable number of keyword arguments to a function"
   ]
  },
  {
   "cell_type": "code",
   "execution_count": 4,
   "id": "c278c15f",
   "metadata": {},
   "outputs": [
    {
     "data": {
      "text/plain": [
       "[1, 2, 3, 4, 5, 6]"
      ]
     },
     "execution_count": 4,
     "metadata": {},
     "output_type": "execute_result"
    }
   ],
   "source": [
    "def print_args(*args):\n",
    "    return [i for i in args]\n",
    "print_args(1,2,3,4,5,6)"
   ]
  },
  {
   "cell_type": "code",
   "execution_count": 9,
   "id": "aa2e3302",
   "metadata": {},
   "outputs": [
    {
     "data": {
      "text/plain": [
       "{'a': 1, 'b': 2}"
      ]
     },
     "execution_count": 9,
     "metadata": {},
     "output_type": "execute_result"
    }
   ],
   "source": [
    "def print_kwargs(**kwargs):\n",
    "    return {k:v for k,v in kwargs.items()}\n",
    "print_kwargs(a=1,b=2)"
   ]
  },
  {
   "cell_type": "code",
   "execution_count": 11,
   "id": "b5f8bd1b",
   "metadata": {},
   "outputs": [
    {
     "name": "stdout",
     "output_type": "stream",
     "text": [
      "2\n",
      "4\n",
      "6\n",
      "8\n",
      "10\n"
     ]
    }
   ],
   "source": [
    "# Q3\n",
    "## In Python, an iterator is an object that contains a countable number of values and can be iterated upon, meaning that you can traverse through all the values. Iterators are implemented using two methods:\n",
    "\n",
    "## __iter__(): This method is used to initialize the iterator object. It returns the iterator object itself.\n",
    "## __next__(): This method is used for iteration. It returns the next value from the iterator. When there are no more items to return, it raises the StopIteration exception.\n",
    "\n",
    "numbers = [2, 4, 6, 8, 10, 12, 14, 16, 18, 20]\n",
    "\n",
    "iterator = iter(numbers)\n",
    "\n",
    "for i in range(5):\n",
    "    print(next(iterator))\n",
    "\n",
    "# Output:\n",
    "# 2\n",
    "# 4\n",
    "# 6\n",
    "# 8\n",
    "# 10\n"
   ]
  },
  {
   "cell_type": "code",
   "execution_count": 21,
   "id": "ff6df941",
   "metadata": {},
   "outputs": [],
   "source": [
    "# Q4\n",
    "## A generator function in Python is a special kind of function that returns an iterator, known as a generator, which can iterate over a sequence of values. Unlike regular functions that use return to send back a value and terminate, generator functions use the yield keyword to return a value and suspend the function's state, allowing it to resume where it left off when the next value is requested.\n",
    "\n",
    "def generator_fibo(n):\n",
    "    a = 0\n",
    "    b = 1\n",
    "    for i in range(n):\n",
    "        yield a\n",
    "        a , b = b , a + b"
   ]
  },
  {
   "cell_type": "code",
   "execution_count": 22,
   "id": "7cc5a390",
   "metadata": {},
   "outputs": [
    {
     "data": {
      "text/plain": [
       "<generator object generator_fibo at 0x000001F6C9053C40>"
      ]
     },
     "execution_count": 22,
     "metadata": {},
     "output_type": "execute_result"
    }
   ],
   "source": [
    "generator_fibo(10)"
   ]
  },
  {
   "cell_type": "code",
   "execution_count": 23,
   "id": "304061a8",
   "metadata": {},
   "outputs": [],
   "source": [
    "fib = generator_fibo(10)"
   ]
  },
  {
   "cell_type": "code",
   "execution_count": 24,
   "id": "4dff5bc4",
   "metadata": {},
   "outputs": [
    {
     "data": {
      "text/plain": [
       "0"
      ]
     },
     "execution_count": 24,
     "metadata": {},
     "output_type": "execute_result"
    }
   ],
   "source": [
    "next(fib)"
   ]
  },
  {
   "cell_type": "code",
   "execution_count": 25,
   "id": "2e7aabd5",
   "metadata": {},
   "outputs": [
    {
     "data": {
      "text/plain": [
       "1"
      ]
     },
     "execution_count": 25,
     "metadata": {},
     "output_type": "execute_result"
    }
   ],
   "source": [
    "next(fib)"
   ]
  },
  {
   "cell_type": "code",
   "execution_count": 30,
   "id": "930b0ad2",
   "metadata": {},
   "outputs": [
    {
     "data": {
      "text/plain": [
       "8"
      ]
     },
     "execution_count": 30,
     "metadata": {},
     "output_type": "execute_result"
    }
   ],
   "source": [
    "next(fib)"
   ]
  },
  {
   "cell_type": "code",
   "execution_count": 31,
   "id": "7ca3dcea",
   "metadata": {},
   "outputs": [
    {
     "data": {
      "text/plain": [
       "13"
      ]
     },
     "execution_count": 31,
     "metadata": {},
     "output_type": "execute_result"
    }
   ],
   "source": [
    "next(fib)"
   ]
  },
  {
   "cell_type": "code",
   "execution_count": 32,
   "id": "24449491",
   "metadata": {},
   "outputs": [
    {
     "data": {
      "text/plain": [
       "21"
      ]
     },
     "execution_count": 32,
     "metadata": {},
     "output_type": "execute_result"
    }
   ],
   "source": [
    "next(fib)"
   ]
  },
  {
   "cell_type": "code",
   "execution_count": 33,
   "id": "6007f0d3",
   "metadata": {},
   "outputs": [
    {
     "data": {
      "text/plain": [
       "34"
      ]
     },
     "execution_count": 33,
     "metadata": {},
     "output_type": "execute_result"
    }
   ],
   "source": [
    "next(fib)"
   ]
  },
  {
   "cell_type": "code",
   "execution_count": 34,
   "id": "5dccc3f3",
   "metadata": {},
   "outputs": [
    {
     "ename": "StopIteration",
     "evalue": "",
     "output_type": "error",
     "traceback": [
      "\u001b[1;31m---------------------------------------------------------------------------\u001b[0m",
      "\u001b[1;31mStopIteration\u001b[0m                             Traceback (most recent call last)",
      "Cell \u001b[1;32mIn[34], line 1\u001b[0m\n\u001b[1;32m----> 1\u001b[0m \u001b[38;5;28mnext\u001b[39m(fib)\n",
      "\u001b[1;31mStopIteration\u001b[0m: "
     ]
    }
   ],
   "source": [
    "next(fib) # StopIteration is hit"
   ]
  },
  {
   "cell_type": "code",
   "execution_count": 35,
   "id": "27a038cb",
   "metadata": {},
   "outputs": [
    {
     "name": "stdout",
     "output_type": "stream",
     "text": [
      "2\n",
      "3\n",
      "5\n",
      "7\n",
      "11\n",
      "13\n",
      "17\n",
      "19\n",
      "23\n",
      "29\n",
      "31\n",
      "37\n",
      "41\n",
      "43\n",
      "47\n",
      "53\n",
      "59\n",
      "61\n",
      "67\n",
      "71\n"
     ]
    }
   ],
   "source": [
    "# Q5\n",
    "def prime_generator(limit):\n",
    "  \"\"\"Generates prime numbers less than the given limit.\"\"\"\n",
    "  def is_prime(num):\n",
    "    if num <= 1:\n",
    "      return False\n",
    "    if num <= 3:\n",
    "      return True\n",
    "    if num % 2 == 0 or num % 3 == 0:\n",
    "      return False\n",
    "    i = 5\n",
    "    while i * i <= num:\n",
    "      if num % i == 0 or num % (i + 2) == 0:\n",
    "        return False\n",
    "      i += 6\n",
    "    return True\n",
    "\n",
    "  num = 2\n",
    "  while num < limit:\n",
    "    if is_prime(num):\n",
    "      yield num\n",
    "    num += 1\n",
    "\n",
    "prime_gen = prime_generator(1000)\n",
    "\n",
    "for _ in range(20):\n",
    "  print(next(prime_gen))\n"
   ]
  },
  {
   "cell_type": "code",
   "execution_count": 41,
   "id": "9cadf7d0",
   "metadata": {},
   "outputs": [],
   "source": [
    "# Q6\n",
    "def fibo(num):\n",
    "    a = 0\n",
    "    b = 1\n",
    "    i = 1\n",
    "    while(i <= num):\n",
    "        print(a , end = \"   \")\n",
    "        a , b = b , a + b\n",
    "        i = i + 1"
   ]
  },
  {
   "cell_type": "code",
   "execution_count": 42,
   "id": "473de892",
   "metadata": {},
   "outputs": [
    {
     "name": "stdout",
     "output_type": "stream",
     "text": [
      "0   1   1   2   3   5   8   13   21   34   "
     ]
    }
   ],
   "source": [
    "fibo(10)"
   ]
  },
  {
   "cell_type": "code",
   "execution_count": 45,
   "id": "361c1d35",
   "metadata": {},
   "outputs": [],
   "source": [
    "# Q7\n",
    "def string_separator(name):\n",
    "    return [s for s in name]"
   ]
  },
  {
   "cell_type": "code",
   "execution_count": 46,
   "id": "56e06b09",
   "metadata": {},
   "outputs": [
    {
     "data": {
      "text/plain": [
       "['P', 'W', 'S', 'K', 'I', 'L', 'L', 'S']"
      ]
     },
     "execution_count": 46,
     "metadata": {},
     "output_type": "execute_result"
    }
   ],
   "source": [
    "string_separator(\"PWSKILLS\")"
   ]
  },
  {
   "cell_type": "code",
   "execution_count": 65,
   "id": "935aefc9",
   "metadata": {},
   "outputs": [],
   "source": [
    "# Q8\n",
    "def checkPalindrome(number):\n",
    "    num = str(number)\n",
    "    first = 0\n",
    "    last = len(num) - 1\n",
    "    while(first < last):\n",
    "        if(num[first] != num[last]):\n",
    "            return \"Not a Palindrome\"\n",
    "        first += 1\n",
    "        last -= 1\n",
    "    else:\n",
    "        return \"Palindrome\""
   ]
  },
  {
   "cell_type": "code",
   "execution_count": 66,
   "id": "d09b1f15",
   "metadata": {},
   "outputs": [
    {
     "data": {
      "text/plain": [
       "'Palindrome'"
      ]
     },
     "execution_count": 66,
     "metadata": {},
     "output_type": "execute_result"
    }
   ],
   "source": [
    "checkPalindrome(131)"
   ]
  },
  {
   "cell_type": "code",
   "execution_count": null,
   "id": "438f5a9d",
   "metadata": {},
   "outputs": [],
   "source": [
    "# Q9\n",
    "list1 = [i for i in range(101)]\n",
    "\n",
    "[i for i in list1 if i ]"
   ]
  }
 ],
 "metadata": {
  "kernelspec": {
   "display_name": "Python 3 (ipykernel)",
   "language": "python",
   "name": "python3"
  },
  "language_info": {
   "codemirror_mode": {
    "name": "ipython",
    "version": 3
   },
   "file_extension": ".py",
   "mimetype": "text/x-python",
   "name": "python",
   "nbconvert_exporter": "python",
   "pygments_lexer": "ipython3",
   "version": "3.11.7"
  }
 },
 "nbformat": 4,
 "nbformat_minor": 5
}
