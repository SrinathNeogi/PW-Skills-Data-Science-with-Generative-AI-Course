{
 "cells": [
  {
   "cell_type": "markdown",
   "id": "3a31f70f",
   "metadata": {},
   "source": [
    "Loops -> Executes a block of code repeatedly as many times an user wants."
   ]
  },
  {
   "cell_type": "code",
   "execution_count": null,
   "id": "38474081",
   "metadata": {},
   "outputs": [],
   "source": [
    "#while loop -> Executes a block of code as long as condition is true."
   ]
  },
  {
   "cell_type": "code",
   "execution_count": null,
   "id": "189a057f",
   "metadata": {},
   "outputs": [],
   "source": [
    "i = 1\n",
    "while i <= 5:\n",
    "    print(i,end=\" \")\n",
    "    i += 1"
   ]
  },
  {
   "cell_type": "code",
   "execution_count": null,
   "id": "f0e4c04d",
   "metadata": {},
   "outputs": [],
   "source": [
    "count = 1\n",
    "while count <= 10:\n",
    "    print(count, end=\" \")\n",
    "    count += 1\n",
    "else:\n",
    "    print(\"Loop ended.\")"
   ]
  },
  {
   "cell_type": "code",
   "execution_count": 1,
   "id": "fd7b308a",
   "metadata": {
    "scrolled": true
   },
   "outputs": [
    {
     "name": "stdout",
     "output_type": "stream",
     "text": [
      "Enter end limit -> 10\n",
      "Enter target : 5\n",
      "0 1 2 3 4 "
     ]
    }
   ],
   "source": [
    "count = 0\n",
    "end = int(input(\"Enter end limit -> \"))\n",
    "target = int(input(\"Enter target : \"))\n",
    "if(target <= end):\n",
    "    while count <= end:\n",
    "        if (count == target):\n",
    "            break\n",
    "        else:\n",
    "            print(count, end=\" \")\n",
    "            count += 1\n",
    "else:\n",
    "    print(\"Loop ended. target out of limit\")\n",
    "    "
   ]
  },
  {
   "cell_type": "code",
   "execution_count": null,
   "id": "1a7e4ac6",
   "metadata": {},
   "outputs": [],
   "source": [
    "#continue -> It skips that particular iteration. Dont execute anything beyond continue.Restart the loop with next iteration."
   ]
  },
  {
   "cell_type": "code",
   "execution_count": 5,
   "id": "47a732ee",
   "metadata": {},
   "outputs": [
    {
     "name": "stdout",
     "output_type": "stream",
     "text": [
      "Enter target : 9\n",
      "1 2 3 4 5 6 7 8 10 "
     ]
    }
   ],
   "source": [
    "target = int(input(\"Enter target : \"))\n",
    "count = 0\n",
    "while count < 10:\n",
    "    count += 1\n",
    "    if count == target:\n",
    "        continue\n",
    "    print(count,end=\" \")\n",
    "   "
   ]
  },
  {
   "cell_type": "code",
   "execution_count": 1,
   "id": "ed46db21",
   "metadata": {},
   "outputs": [],
   "source": [
    "#for loop -> iterate over a sequence of elements. > string ot list"
   ]
  },
  {
   "cell_type": "code",
   "execution_count": 5,
   "id": "fac25fc2",
   "metadata": {},
   "outputs": [
    {
     "name": "stdout",
     "output_type": "stream",
     "text": [
      "S\n",
      "r\n",
      "i\n",
      "n\n",
      "a\n",
      "t\n",
      "h\n"
     ]
    }
   ],
   "source": [
    "a = 'Srinath'\n",
    "for char in a:\n",
    "    print(char)"
   ]
  },
  {
   "cell_type": "code",
   "execution_count": 6,
   "id": "050b223d",
   "metadata": {},
   "outputs": [
    {
     "name": "stdout",
     "output_type": "stream",
     "text": [
      "1\n",
      "2\n",
      "3\n",
      "4\n",
      "Srinath\n"
     ]
    }
   ],
   "source": [
    "list_cont = [1,2,3,4,'Srinath']\n",
    "for i in list_cont:\n",
    "    print(i)"
   ]
  },
  {
   "cell_type": "code",
   "execution_count": 7,
   "id": "74756a18",
   "metadata": {},
   "outputs": [
    {
     "name": "stdout",
     "output_type": "stream",
     "text": [
      "1\n",
      "2\n",
      "3\n",
      "4\n",
      "Srinath\n",
      "loop end\n"
     ]
    }
   ],
   "source": [
    " for i in list_cont:\n",
    "        print(i)\n",
    "else:\n",
    "   print(\"loop end\") "
   ]
  },
  {
   "cell_type": "code",
   "execution_count": 9,
   "id": "2e58386e",
   "metadata": {},
   "outputs": [
    {
     "name": "stdout",
     "output_type": "stream",
     "text": [
      "1\n",
      "2\n",
      "3\n",
      "4\n"
     ]
    }
   ],
   "source": [
    "list_cont = [1,2,3,4,'Srinath', 5, 6]\n",
    "for i in list_cont:\n",
    "    if(i == 'Srinath'):\n",
    "        break\n",
    "    print(i)"
   ]
  },
  {
   "cell_type": "code",
   "execution_count": 10,
   "id": "e7ecd77e",
   "metadata": {},
   "outputs": [
    {
     "name": "stdout",
     "output_type": "stream",
     "text": [
      "1\n",
      "2\n",
      "3\n",
      "4\n",
      "5\n",
      "6\n"
     ]
    }
   ],
   "source": [
    "list_cont = [1,2,3,4,'Srinath', 5, 6]\n",
    "for i in list_cont:\n",
    "    if(i == 'Srinath'):\n",
    "        continue\n",
    "    print(i)"
   ]
  },
  {
   "cell_type": "code",
   "execution_count": null,
   "id": "92f501cd",
   "metadata": {},
   "outputs": [],
   "source": [
    "#range => Used to generate a sequence of function"
   ]
  },
  {
   "cell_type": "code",
   "execution_count": null,
   "id": "85f9648b",
   "metadata": {},
   "outputs": [],
   "source": [
    "#range(1,10) -> 1 included ,10 excluded"
   ]
  },
  {
   "cell_type": "code",
   "execution_count": 14,
   "id": "2f6c3764",
   "metadata": {},
   "outputs": [
    {
     "data": {
      "text/plain": [
       "[1, 2, 3, 4, 5, 6, 7, 8, 9]"
      ]
     },
     "execution_count": 14,
     "metadata": {},
     "output_type": "execute_result"
    }
   ],
   "source": [
    "list(range(1,10))"
   ]
  },
  {
   "cell_type": "code",
   "execution_count": null,
   "id": "fd0658be",
   "metadata": {},
   "outputs": [],
   "source": [
    "#range sysnax range(start,stop,step)\n",
    "#step -> gap between two elements."
   ]
  },
  {
   "cell_type": "code",
   "execution_count": 16,
   "id": "472304ff",
   "metadata": {},
   "outputs": [
    {
     "data": {
      "text/plain": [
       "[1, 3, 5, 7, 9]"
      ]
     },
     "execution_count": 16,
     "metadata": {},
     "output_type": "execute_result"
    }
   ],
   "source": [
    "list(range(1,10,2))"
   ]
  },
  {
   "cell_type": "code",
   "execution_count": null,
   "id": "883a7b80",
   "metadata": {},
   "outputs": [],
   "source": [
    "#if start is not given in range then it is considered as 0"
   ]
  },
  {
   "cell_type": "markdown",
   "id": "0a05249d",
   "metadata": {},
   "source": [
    "Problems on loop"
   ]
  },
  {
   "cell_type": "code",
   "execution_count": 1,
   "id": "8d70d4de",
   "metadata": {},
   "outputs": [
    {
     "name": "stdout",
     "output_type": "stream",
     "text": [
      "* \n",
      "* * \n",
      "* * * \n",
      "* * * * \n"
     ]
    }
   ],
   "source": [
    "#triange\n",
    "row = 1\n",
    "while row <= 4:\n",
    "    col = 1\n",
    "    while col <= row:\n",
    "        print(\"*\", end=\" \")\n",
    "        col = col + 1\n",
    "    print()\n",
    "    row = row + 1"
   ]
  },
  {
   "cell_type": "code",
   "execution_count": 4,
   "id": "dc228763",
   "metadata": {},
   "outputs": [
    {
     "name": "stdout",
     "output_type": "stream",
     "text": [
      "* \n",
      "* * \n",
      "* * * \n",
      "* * * * \n"
     ]
    }
   ],
   "source": [
    "for i in range(4):\n",
    "    for j in range(i+1):\n",
    "        print(\"*\", end=\" \")\n",
    "    print()"
   ]
  },
  {
   "cell_type": "code",
   "execution_count": 8,
   "id": "311c24c4",
   "metadata": {},
   "outputs": [
    {
     "name": "stdout",
     "output_type": "stream",
     "text": [
      "1 2 4 5 6 8 9 "
     ]
    }
   ],
   "source": [
    "number = [1,2,3,4,5,6,7,8,9]\n",
    "for i in number:\n",
    "    if(i == 3) or (i == 7):\n",
    "        continue\n",
    "    print(i, end = \" \")\n",
    "    i = i + 1"
   ]
  },
  {
   "cell_type": "code",
   "execution_count": 11,
   "id": "a485ffd4",
   "metadata": {},
   "outputs": [
    {
     "name": "stdout",
     "output_type": "stream",
     "text": [
      "0\n",
      "0\n",
      "\n",
      "1\n",
      "0\n",
      "1\n",
      "\n",
      "2\n",
      "0\n",
      "1\n",
      "2\n",
      "\n",
      "3\n",
      "0\n",
      "1\n",
      "2\n",
      "3\n",
      "\n",
      "4\n",
      "0\n",
      "1\n",
      "2\n",
      "3\n",
      "4\n",
      "\n"
     ]
    }
   ],
   "source": [
    "for i in range(5):\n",
    "    print(i)\n",
    "    for j in range(i+1):\n",
    "        print(j)\n",
    "    print()"
   ]
  },
  {
   "cell_type": "code",
   "execution_count": null,
   "id": "f5294d88",
   "metadata": {},
   "outputs": [],
   "source": []
  }
 ],
 "metadata": {
  "kernelspec": {
   "display_name": "Python 3 (ipykernel)",
   "language": "python",
   "name": "python3"
  },
  "language_info": {
   "codemirror_mode": {
    "name": "ipython",
    "version": 3
   },
   "file_extension": ".py",
   "mimetype": "text/x-python",
   "name": "python",
   "nbconvert_exporter": "python",
   "pygments_lexer": "ipython3",
   "version": "3.12.3"
  }
 },
 "nbformat": 4,
 "nbformat_minor": 5
}
