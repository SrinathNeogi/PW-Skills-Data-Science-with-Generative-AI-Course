{
 "cells": [
  {
   "cell_type": "markdown",
   "id": "ccc65130",
   "metadata": {},
   "source": [
    "Operators are special keywords to perform operators to manipulate data."
   ]
  },
  {
   "cell_type": "code",
   "execution_count": 1,
   "id": "4f3927d8",
   "metadata": {},
   "outputs": [
    {
     "data": {
      "text/plain": [
       "7"
      ]
     },
     "execution_count": 1,
     "metadata": {},
     "output_type": "execute_result"
    }
   ],
   "source": [
    "#Arithmatic Operators.\n",
    "a = 5\n",
    "b = 2\n",
    "a + b"
   ]
  },
  {
   "cell_type": "code",
   "execution_count": 2,
   "id": "f1c01d27",
   "metadata": {},
   "outputs": [
    {
     "data": {
      "text/plain": [
       "3"
      ]
     },
     "execution_count": 2,
     "metadata": {},
     "output_type": "execute_result"
    }
   ],
   "source": [
    "a - b"
   ]
  },
  {
   "cell_type": "code",
   "execution_count": 3,
   "id": "1f1f8076",
   "metadata": {},
   "outputs": [
    {
     "data": {
      "text/plain": [
       "10"
      ]
     },
     "execution_count": 3,
     "metadata": {},
     "output_type": "execute_result"
    }
   ],
   "source": [
    "a * b\n"
   ]
  },
  {
   "cell_type": "code",
   "execution_count": 5,
   "id": "729b86d0",
   "metadata": {},
   "outputs": [
    {
     "data": {
      "text/plain": [
       "2"
      ]
     },
     "execution_count": 5,
     "metadata": {},
     "output_type": "execute_result"
    }
   ],
   "source": [
    "a / b"
   ]
  },
  {
   "cell_type": "code",
   "execution_count": 6,
   "id": "f04e68ee",
   "metadata": {},
   "outputs": [
    {
     "data": {
      "text/plain": [
       "1"
      ]
     },
     "execution_count": 6,
     "metadata": {},
     "output_type": "execute_result"
    }
   ],
   "source": [
    "a % b\n"
   ]
  },
  {
   "cell_type": "code",
   "execution_count": 7,
   "id": "0a700d47",
   "metadata": {},
   "outputs": [
    {
     "data": {
      "text/plain": [
       "25"
      ]
     },
     "execution_count": 7,
     "metadata": {},
     "output_type": "execute_result"
    }
   ],
   "source": [
    "#Power operator\n",
    "a ** 2"
   ]
  },
  {
   "cell_type": "code",
   "execution_count": null,
   "id": "a913e894",
   "metadata": {},
   "outputs": [],
   "source": [
    "#Comparision opetator, it returns boolean value.(True or False)\n",
    "a == b"
   ]
  },
  {
   "cell_type": "code",
   "execution_count": 10,
   "id": "533cd87a",
   "metadata": {},
   "outputs": [
    {
     "data": {
      "text/plain": [
       "True"
      ]
     },
     "execution_count": 10,
     "metadata": {},
     "output_type": "execute_result"
    }
   ],
   "source": [
    "2 == 2"
   ]
  },
  {
   "cell_type": "code",
   "execution_count": 11,
   "id": "a300a955",
   "metadata": {},
   "outputs": [
    {
     "data": {
      "text/plain": [
       "1"
      ]
     },
     "execution_count": 11,
     "metadata": {},
     "output_type": "execute_result"
    }
   ],
   "source": [
    "#Floor division operator, returns nearest integer\n",
    "4 // 3"
   ]
  },
  {
   "cell_type": "code",
   "execution_count": 12,
   "id": "e91c1d71",
   "metadata": {},
   "outputs": [
    {
     "data": {
      "text/plain": [
       "True"
      ]
     },
     "execution_count": 12,
     "metadata": {},
     "output_type": "execute_result"
    }
   ],
   "source": [
    "#Not equal pperator\n",
    "2 != 1"
   ]
  },
  {
   "cell_type": "code",
   "execution_count": 13,
   "id": "878021e8",
   "metadata": {},
   "outputs": [
    {
     "data": {
      "text/plain": [
       "True"
      ]
     },
     "execution_count": 13,
     "metadata": {},
     "output_type": "execute_result"
    }
   ],
   "source": [
    "10 > 2"
   ]
  },
  {
   "cell_type": "code",
   "execution_count": 14,
   "id": "0fd1bba5",
   "metadata": {},
   "outputs": [
    {
     "data": {
      "text/plain": [
       "False"
      ]
     },
     "execution_count": 14,
     "metadata": {},
     "output_type": "execute_result"
    }
   ],
   "source": [
    "2 < 1"
   ]
  },
  {
   "cell_type": "code",
   "execution_count": 15,
   "id": "9330522e",
   "metadata": {},
   "outputs": [
    {
     "data": {
      "text/plain": [
       "True"
      ]
     },
     "execution_count": 15,
     "metadata": {},
     "output_type": "execute_result"
    }
   ],
   "source": [
    "10 >= 8"
   ]
  },
  {
   "cell_type": "code",
   "execution_count": 16,
   "id": "bce55b4e",
   "metadata": {},
   "outputs": [
    {
     "data": {
      "text/plain": [
       "True"
      ]
     },
     "execution_count": 16,
     "metadata": {},
     "output_type": "execute_result"
    }
   ],
   "source": [
    "7 <= 15"
   ]
  },
  {
   "cell_type": "code",
   "execution_count": null,
   "id": "a26b69a0",
   "metadata": {},
   "outputs": [],
   "source": [
    "#Logical operator , AND , OR and NOT\n",
    "\n"
   ]
  },
  {
   "cell_type": "code",
   "execution_count": 21,
   "id": "bd7bed22",
   "metadata": {},
   "outputs": [
    {
     "name": "stdout",
     "output_type": "stream",
     "text": [
      "True\n",
      "False\n",
      "False\n",
      "False\n"
     ]
    }
   ],
   "source": [
    "#AND\n",
    "print(True and True)\n",
    "print(True and False)\n",
    "print(False and True)\n",
    "print(False and False)"
   ]
  },
  {
   "cell_type": "code",
   "execution_count": 22,
   "id": "a6749661",
   "metadata": {},
   "outputs": [
    {
     "name": "stdout",
     "output_type": "stream",
     "text": [
      "True\n",
      "True\n",
      "True\n",
      "False\n"
     ]
    }
   ],
   "source": [
    "#OR\n",
    "print(True or True)\n",
    "print(True or False)\n",
    "print(False or True)\n",
    "print(False or False)"
   ]
  },
  {
   "cell_type": "code",
   "execution_count": 24,
   "id": "0dbe108a",
   "metadata": {},
   "outputs": [
    {
     "name": "stdout",
     "output_type": "stream",
     "text": [
      "False\n",
      "True\n"
     ]
    }
   ],
   "source": [
    "#NOT\n",
    "print(not True)\n",
    "print(not False)"
   ]
  },
  {
   "cell_type": "code",
   "execution_count": null,
   "id": "ffa19c65",
   "metadata": {},
   "outputs": [],
   "source": [
    "#Assignment operator"
   ]
  },
  {
   "cell_type": "code",
   "execution_count": 14,
   "id": "bdf7cdb6",
   "metadata": {},
   "outputs": [
    {
     "data": {
      "text/plain": [
       "15"
      ]
     },
     "execution_count": 14,
     "metadata": {},
     "output_type": "execute_result"
    }
   ],
   "source": [
    "a = 10\n",
    "a = a + 5\n",
    "a"
   ]
  },
  {
   "cell_type": "code",
   "execution_count": 15,
   "id": "461b84f9",
   "metadata": {},
   "outputs": [
    {
     "data": {
      "text/plain": [
       "15"
      ]
     },
     "execution_count": 15,
     "metadata": {},
     "output_type": "execute_result"
    }
   ],
   "source": [
    "# Increament Decreament Operation\n",
    "a = 5\n",
    "a += 10\n",
    "a"
   ]
  },
  {
   "cell_type": "code",
   "execution_count": 16,
   "id": "392b9464",
   "metadata": {},
   "outputs": [
    {
     "data": {
      "text/plain": [
       "5.0"
      ]
     },
     "execution_count": 16,
     "metadata": {},
     "output_type": "execute_result"
    }
   ],
   "source": [
    "a = 10\n",
    "a /= 2\n",
    "a\n"
   ]
  },
  {
   "cell_type": "code",
   "execution_count": 17,
   "id": "a9e7f50d",
   "metadata": {},
   "outputs": [
    {
     "data": {
      "text/plain": [
       "200"
      ]
     },
     "execution_count": 17,
     "metadata": {},
     "output_type": "execute_result"
    }
   ],
   "source": [
    "a = 20\n",
    "a *= 10\n",
    "a"
   ]
  },
  {
   "cell_type": "code",
   "execution_count": 20,
   "id": "0625b492",
   "metadata": {},
   "outputs": [
    {
     "data": {
      "text/plain": [
       "False"
      ]
     },
     "execution_count": 20,
     "metadata": {},
     "output_type": "execute_result"
    }
   ],
   "source": [
    "#Membership operator\n",
    "#If any character present in a String thenn it boolean value\n",
    "#'in' operator and 'not in' are membership operator\n",
    "a = \"SrinathIshika\"\n",
    "'Ishika' in a"
   ]
  },
  {
   "cell_type": "code",
   "execution_count": 30,
   "id": "80493d2c",
   "metadata": {},
   "outputs": [
    {
     "data": {
      "text/plain": [
       "False"
      ]
     },
     "execution_count": 30,
     "metadata": {},
     "output_type": "execute_result"
    }
   ],
   "source": [
    "'ThirdParty' in a"
   ]
  },
  {
   "cell_type": "code",
   "execution_count": 23,
   "id": "9fab3aba",
   "metadata": {},
   "outputs": [
    {
     "data": {
      "text/plain": [
       "True"
      ]
     },
     "execution_count": 23,
     "metadata": {},
     "output_type": "execute_result"
    }
   ],
   "source": [
    "'shhjda' not in a"
   ]
  },
  {
   "cell_type": "code",
   "execution_count": 25,
   "id": "093fa508",
   "metadata": {},
   "outputs": [
    {
     "data": {
      "text/plain": [
       "True"
      ]
     },
     "execution_count": 25,
     "metadata": {},
     "output_type": "execute_result"
    }
   ],
   "source": [
    "list_container = [1,2,3, 'Srinath']\n",
    "1 in list_container"
   ]
  },
  {
   "cell_type": "code",
   "execution_count": 26,
   "id": "803c52f8",
   "metadata": {},
   "outputs": [
    {
     "data": {
      "text/plain": [
       "True"
      ]
     },
     "execution_count": 26,
     "metadata": {},
     "output_type": "execute_result"
    }
   ],
   "source": [
    "5 not in list_container"
   ]
  },
  {
   "cell_type": "code",
   "execution_count": 28,
   "id": "051634cc",
   "metadata": {},
   "outputs": [
    {
     "data": {
      "text/plain": [
       "True"
      ]
     },
     "execution_count": 28,
     "metadata": {},
     "output_type": "execute_result"
    }
   ],
   "source": [
    "#Identity operator -> Compare the memory location of two obbjects\n",
    "# 'is' operator is used.\n",
    "a = 2"
   ]
  },
  {
   "cell_type": "code",
   "execution_count": 31,
   "id": "09770549",
   "metadata": {},
   "outputs": [
    {
     "data": {
      "text/plain": [
       "True"
      ]
     },
     "execution_count": 31,
     "metadata": {},
     "output_type": "execute_result"
    }
   ],
   "source": [
    "b = a\n",
    "a is b"
   ]
  },
  {
   "cell_type": "code",
   "execution_count": 32,
   "id": "73dd3447",
   "metadata": {},
   "outputs": [
    {
     "data": {
      "text/plain": [
       "True"
      ]
     },
     "execution_count": 32,
     "metadata": {},
     "output_type": "execute_result"
    }
   ],
   "source": [
    "x = 'Srinath'\n",
    "y = x\n",
    "x is y"
   ]
  },
  {
   "cell_type": "code",
   "execution_count": 34,
   "id": "247148a0",
   "metadata": {},
   "outputs": [
    {
     "data": {
      "text/plain": [
       "False"
      ]
     },
     "execution_count": 34,
     "metadata": {},
     "output_type": "execute_result"
    }
   ],
   "source": [
    "s = 'Srinath'\n",
    "i = 'Ishika'\n",
    "s is a"
   ]
  },
  {
   "cell_type": "code",
   "execution_count": 35,
   "id": "7487ed3c",
   "metadata": {},
   "outputs": [
    {
     "data": {
      "text/plain": [
       "True"
      ]
     },
     "execution_count": 35,
     "metadata": {},
     "output_type": "execute_result"
    }
   ],
   "source": [
    "s is not a"
   ]
  },
  {
   "cell_type": "code",
   "execution_count": null,
   "id": "078c17a0",
   "metadata": {},
   "outputs": [],
   "source": [
    "#Bitwise operators -> operations at bit level\n",
    "#'&', '|', '~', '^', 'XOR', 'Shift operators'"
   ]
  },
  {
   "cell_type": "code",
   "execution_count": 36,
   "id": "cf553911",
   "metadata": {},
   "outputs": [
    {
     "data": {
      "text/plain": [
       "10"
      ]
     },
     "execution_count": 36,
     "metadata": {},
     "output_type": "execute_result"
    }
   ],
   "source": [
    "10 & 10"
   ]
  },
  {
   "cell_type": "code",
   "execution_count": 37,
   "id": "3161fbe3",
   "metadata": {},
   "outputs": [
    {
     "data": {
      "text/plain": [
       "2"
      ]
     },
     "execution_count": 37,
     "metadata": {},
     "output_type": "execute_result"
    }
   ],
   "source": [
    "18 & 3"
   ]
  },
  {
   "cell_type": "code",
   "execution_count": 43,
   "id": "efaa327a",
   "metadata": {},
   "outputs": [
    {
     "name": "stdout",
     "output_type": "stream",
     "text": [
      "0b10010\n",
      "0b11\n",
      "0b10\n"
     ]
    }
   ],
   "source": [
    "print(bin(18))\n",
    "print(bin(3))\n",
    "print(bin(2))"
   ]
  },
  {
   "cell_type": "code",
   "execution_count": 46,
   "id": "79b97e30",
   "metadata": {},
   "outputs": [
    {
     "name": "stdout",
     "output_type": "stream",
     "text": [
      "0b1100\n",
      "0b10000\n"
     ]
    }
   ],
   "source": [
    "print(bin(12))\n",
    "print(bin(16))"
   ]
  },
  {
   "cell_type": "code",
   "execution_count": 45,
   "id": "c66f5dd6",
   "metadata": {},
   "outputs": [
    {
     "data": {
      "text/plain": [
       "28"
      ]
     },
     "execution_count": 45,
     "metadata": {},
     "output_type": "execute_result"
    }
   ],
   "source": [
    "12 | 16"
   ]
  },
  {
   "cell_type": "code",
   "execution_count": 47,
   "id": "57d3e1f9",
   "metadata": {},
   "outputs": [
    {
     "data": {
      "text/plain": [
       "-7"
      ]
     },
     "execution_count": 47,
     "metadata": {},
     "output_type": "execute_result"
    }
   ],
   "source": [
    "#Negation operator \n",
    "#'~' operator -> Returns negative of the number adding 1 with that number\n",
    "~6"
   ]
  },
  {
   "cell_type": "code",
   "execution_count": 48,
   "id": "1da22670",
   "metadata": {},
   "outputs": [
    {
     "data": {
      "text/plain": [
       "-101"
      ]
     },
     "execution_count": 48,
     "metadata": {},
     "output_type": "execute_result"
    }
   ],
   "source": [
    "~100"
   ]
  },
  {
   "cell_type": "code",
   "execution_count": 38,
   "id": "69d907ae",
   "metadata": {},
   "outputs": [
    {
     "data": {
      "text/plain": [
       "'0b1010'"
      ]
     },
     "execution_count": 38,
     "metadata": {},
     "output_type": "execute_result"
    }
   ],
   "source": [
    "#'bin' operator -> returns binary  equivalent of any number \n",
    "bin(10)"
   ]
  },
  {
   "cell_type": "code",
   "execution_count": 39,
   "id": "b18e6567",
   "metadata": {},
   "outputs": [
    {
     "data": {
      "text/plain": [
       "'0b10011010010'"
      ]
     },
     "execution_count": 39,
     "metadata": {},
     "output_type": "execute_result"
    }
   ],
   "source": [
    "bin(1234)"
   ]
  },
  {
   "cell_type": "code",
   "execution_count": 49,
   "id": "e2abfb29",
   "metadata": {},
   "outputs": [
    {
     "data": {
      "text/plain": [
       "3"
      ]
     },
     "execution_count": 49,
     "metadata": {},
     "output_type": "execute_result"
    }
   ],
   "source": [
    "#Bitwise XOR -> Rerturn 1 when exactly one operator is 1\n",
    "#'^' is xor operator\n",
    "5 ^ 6"
   ]
  },
  {
   "cell_type": "code",
   "execution_count": 50,
   "id": "ea8b8fd2",
   "metadata": {},
   "outputs": [
    {
     "name": "stdout",
     "output_type": "stream",
     "text": [
      "0b101\n",
      "0b110\n",
      "0b11\n"
     ]
    }
   ],
   "source": [
    "print(bin(5))\n",
    "print(bin(6))\n",
    "print(bin(3))"
   ]
  },
  {
   "cell_type": "code",
   "execution_count": null,
   "id": "821cb396",
   "metadata": {},
   "outputs": [],
   "source": [
    "#shift operators -> 'Left Shift operator' and 'Right Shift' operator\n"
   ]
  },
  {
   "cell_type": "code",
   "execution_count": 53,
   "id": "9c03eeb0",
   "metadata": {},
   "outputs": [
    {
     "name": "stdout",
     "output_type": "stream",
     "text": [
      "0b101\n",
      "20\n",
      "0b10100\n"
     ]
    }
   ],
   "source": [
    "#Left Shift\n",
    "5 << 2\n",
    "print(bin(5))\n",
    "print(5 << 2)\n",
    "print(bin(5 << 2))"
   ]
  },
  {
   "cell_type": "code",
   "execution_count": 56,
   "id": "776b0a37",
   "metadata": {},
   "outputs": [
    {
     "name": "stdout",
     "output_type": "stream",
     "text": [
      "0b100000\n",
      "8\n",
      "0b1000\n"
     ]
    }
   ],
   "source": [
    "#Right Shift\n",
    "32 >> 2\n",
    "print(bin(32))\n",
    "print(32 >> 2)\n",
    "print(bin(32 >> 2))"
   ]
  },
  {
   "cell_type": "markdown",
   "id": "e2ff01f3",
   "metadata": {},
   "source": [
    "Order of Precedence"
   ]
  },
  {
   "cell_type": "code",
   "execution_count": 57,
   "id": "420a93f7",
   "metadata": {},
   "outputs": [
    {
     "data": {
      "text/plain": [
       "3"
      ]
     },
     "execution_count": 57,
     "metadata": {},
     "output_type": "execute_result"
    }
   ],
   "source": [
    "#Left to Right\n",
    "5 - 3 + 1"
   ]
  },
  {
   "cell_type": "code",
   "execution_count": null,
   "id": "19cd3a5a",
   "metadata": {},
   "outputs": [],
   "source": []
  }
 ],
 "metadata": {
  "kernelspec": {
   "display_name": "Python 3 (ipykernel)",
   "language": "python",
   "name": "python3"
  },
  "language_info": {
   "codemirror_mode": {
    "name": "ipython",
    "version": 3
   },
   "file_extension": ".py",
   "mimetype": "text/x-python",
   "name": "python",
   "nbconvert_exporter": "python",
   "pygments_lexer": "ipython3",
   "version": "3.10.9"
  }
 },
 "nbformat": 4,
 "nbformat_minor": 5
}
