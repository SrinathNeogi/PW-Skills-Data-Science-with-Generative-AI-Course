{
  "nbformat": 4,
  "nbformat_minor": 0,
  "metadata": {
    "colab": {
      "provenance": [],
      "authorship_tag": "ABX9TyP2MFTaundTtloQL/y+uNq9",
      "include_colab_link": true
    },
    "kernelspec": {
      "name": "python3",
      "display_name": "Python 3"
    },
    "language_info": {
      "name": "python"
    }
  },
  "cells": [
    {
      "cell_type": "markdown",
      "metadata": {
        "id": "view-in-github",
        "colab_type": "text"
      },
      "source": [
        "<a href=\"https://colab.research.google.com/github/SrinathNeogi/PW-Skills-Data-Science-with-Generative-AI-Course/blob/main/Numpy_Assignment_Solution.ipynb\" target=\"_parent\"><img src=\"https://colab.research.google.com/assets/colab-badge.svg\" alt=\"Open In Colab\"/></a>"
      ]
    },
    {
      "cell_type": "code",
      "execution_count": null,
      "metadata": {
        "id": "43IPWdMjj6jd"
      },
      "outputs": [],
      "source": [
        "#Q1\n",
        "import numpy as np"
      ]
    },
    {
      "cell_type": "code",
      "source": [
        "#Q2\n",
        "arr = np.array([1,2,3,4,5])\n",
        "print(arr.dtype)"
      ],
      "metadata": {
        "colab": {
          "base_uri": "https://localhost:8080/"
        },
        "id": "VotV8FRDkOKe",
        "outputId": "29b60eab-da8e-4c62-ed39-15b0ac146f63"
      },
      "execution_count": null,
      "outputs": [
        {
          "output_type": "stream",
          "name": "stdout",
          "text": [
            "int64\n"
          ]
        }
      ]
    },
    {
      "cell_type": "code",
      "source": [
        "#Q3\n",
        "arr = np.array([1.5, 2.6, 3.7])\n",
        "if arr.dtype == float:\n",
        "    print(\"True\")\n",
        "else:\n",
        "    print(\"False\")"
      ],
      "metadata": {
        "colab": {
          "base_uri": "https://localhost:8080/"
        },
        "id": "aW1zerV-kS6K",
        "outputId": "e8a0fdda-20a4-45d9-e041-e2a7e9c8e237"
      },
      "execution_count": null,
      "outputs": [
        {
          "output_type": "stream",
          "name": "stdout",
          "text": [
            "True\n"
          ]
        }
      ]
    },
    {
      "cell_type": "code",
      "source": [
        "#Q4\n",
        "arr1 = np.array([1+2j , 2+3j, 3+4j])\n",
        "print(arr1,\"\\n\", arr1.dtype)"
      ],
      "metadata": {
        "colab": {
          "base_uri": "https://localhost:8080/"
        },
        "id": "m_I8lYXCki3Z",
        "outputId": "966c894d-44d6-43dc-eec9-ba79baabf7c8"
      },
      "execution_count": null,
      "outputs": [
        {
          "output_type": "stream",
          "name": "stdout",
          "text": [
            "[1.+2.j 2.+3.j 3.+4.j] \n",
            " complex128\n"
          ]
        }
      ]
    },
    {
      "cell_type": "code",
      "source": [
        "#Q5\n",
        "arr = np.array([1.5, 2.6, 3.7])\n",
        "arr = arr.astype(int)\n",
        "print(arr,arr.dtype)"
      ],
      "metadata": {
        "colab": {
          "base_uri": "https://localhost:8080/"
        },
        "id": "vIr61DrXkzMt",
        "outputId": "f6af96ac-c8da-4236-e24e-da80bae44b19"
      },
      "execution_count": null,
      "outputs": [
        {
          "output_type": "stream",
          "name": "stdout",
          "text": [
            "[1 2 3] int64\n"
          ]
        }
      ]
    },
    {
      "cell_type": "code",
      "source": [
        "#Q6, 7\n",
        "arr = np.random.randint(1,5, size = (5))\n",
        "print(arr)\n",
        "def info(arr1):\n",
        "    print(f\"Shape = {arr.shape} , Size = {arr.size} , Dimension = {arr.ndim} = , DataType = {arr.dtype}\")\n",
        "\n",
        "info(arr)"
      ],
      "metadata": {
        "colab": {
          "base_uri": "https://localhost:8080/"
        },
        "id": "rl0MimePlBfb",
        "outputId": "96466fbd-4a3e-4453-fdd6-491d8f32f2b6"
      },
      "execution_count": null,
      "outputs": [
        {
          "output_type": "stream",
          "name": "stdout",
          "text": [
            "[3 2 1 1 2]\n",
            "Shape = (5,) , Size = 5 , Dimension = 1 = , DataType = int64\n"
          ]
        }
      ]
    },
    {
      "cell_type": "code",
      "source": [
        "#Q8\n",
        "def item_size_info(arr):\n",
        "    item_size = arr.itemsize\n",
        "    size = arr.nbytes\n",
        "\n",
        "    return item_size , size\n",
        "\n",
        "arr = np.random.randint(1,5 , (1))\n",
        "\n",
        "item_size , size = item_size_info(arr)\n",
        "\n",
        "print(f\"item size = {item_size} , size = {size} bytes\")"
      ],
      "metadata": {
        "colab": {
          "base_uri": "https://localhost:8080/"
        },
        "id": "Z0MAbSecmuCW",
        "outputId": "f2b0c20f-c2bf-42a4-e8a6-8018560780c8"
      },
      "execution_count": null,
      "outputs": [
        {
          "output_type": "stream",
          "name": "stdout",
          "text": [
            "item size = 8 , size = 8 bytes\n"
          ]
        }
      ]
    },
    {
      "cell_type": "code",
      "source": [
        "#Q9\n",
        "def array_strides(arr):\n",
        "    return arr.strides\n",
        "\n",
        "strides = array_strides(np.array([[1,2,3],[4,5,6]]))\n",
        "print(strides)\n",
        "print(arr.dtype)"
      ],
      "metadata": {
        "colab": {
          "base_uri": "https://localhost:8080/"
        },
        "id": "b7Ce28EvrPhY",
        "outputId": "71bccbae-c1fd-4b33-cee1-0dc1cc034bde"
      },
      "execution_count": null,
      "outputs": [
        {
          "output_type": "stream",
          "name": "stdout",
          "text": [
            "(24, 8)\n",
            "int64\n"
          ]
        }
      ]
    },
    {
      "cell_type": "code",
      "source": [
        "#Q10\n",
        "def array_strides_shape(arr):\n",
        "    print(f\"strides = {arr.strides}\")\n",
        "    print(f\"Shape = {arr.shape}\")\n",
        "\n",
        "arr = np.array([[1,2,3] , [4,5,6]])\n",
        "array_strides_shape(arr)"
      ],
      "metadata": {
        "colab": {
          "base_uri": "https://localhost:8080/"
        },
        "id": "u6bwAq2Jr6Cl",
        "outputId": "236ffbad-ef8f-4542-cb8c-fed9e8e30c7c"
      },
      "execution_count": null,
      "outputs": [
        {
          "output_type": "stream",
          "name": "stdout",
          "text": [
            "strides = (24, 8)\n",
            "Shape = (2, 3)\n"
          ]
        }
      ]
    },
    {
      "cell_type": "code",
      "source": [
        "#Q11\n",
        "import numpy as np\n",
        "def create_zeros_array(n):\n",
        "    return np.zeros(n)\n",
        "\n",
        "n = int(input())\n",
        "arr = create_zeros_array(n)\n",
        "\n",
        "print(arr)"
      ],
      "metadata": {
        "colab": {
          "base_uri": "https://localhost:8080/"
        },
        "id": "TUNSlCtGsl5P",
        "outputId": "9ce1b1fe-49ae-4224-ecd6-5ef7850b8ec0"
      },
      "execution_count": null,
      "outputs": [
        {
          "output_type": "stream",
          "name": "stdout",
          "text": [
            "5\n",
            "[0. 0. 0. 0. 0.]\n"
          ]
        }
      ]
    },
    {
      "cell_type": "code",
      "source": [
        "#Q12\n",
        "def zero_mat(row , col):\n",
        "    return np.zeros((row,col))\n",
        "\n",
        "row = int(input())\n",
        "col = int(input())\n",
        "\n",
        "mat = zero_mat(row , col)\n",
        "print(mat)"
      ],
      "metadata": {
        "colab": {
          "base_uri": "https://localhost:8080/"
        },
        "id": "eIStA2Cp1gSc",
        "outputId": "e91252d0-f101-4beb-9abc-93c370998670"
      },
      "execution_count": null,
      "outputs": [
        {
          "output_type": "stream",
          "name": "stdout",
          "text": [
            "5\n",
            "5\n",
            "[[0. 0. 0. 0. 0.]\n",
            " [0. 0. 0. 0. 0.]\n",
            " [0. 0. 0. 0. 0.]\n",
            " [0. 0. 0. 0. 0.]\n",
            " [0. 0. 0. 0. 0.]]\n"
          ]
        }
      ]
    },
    {
      "cell_type": "code",
      "source": [
        "#Q13\n",
        "def generate_range_array(start , stop , step):\n",
        "    return np.arange(start, stop, step)\n",
        "\n",
        "start = int(input(\"start \"))\n",
        "stop = int(input(\"stop \"))\n",
        "step = int(input(\"step \"))\n",
        "\n",
        "arr = generate_range_array(start, stop, step)\n",
        "print(arr)"
      ],
      "metadata": {
        "colab": {
          "base_uri": "https://localhost:8080/"
        },
        "id": "Cy4B6soJ2dXv",
        "outputId": "7f04dfc1-730c-4e37-d658-1bdbbab707b7"
      },
      "execution_count": null,
      "outputs": [
        {
          "output_type": "stream",
          "name": "stdout",
          "text": [
            "start 1\n",
            "stop 10\n",
            "step 2\n",
            "[1 3 5 7 9]\n"
          ]
        }
      ]
    },
    {
      "cell_type": "code",
      "source": [
        "#Q14\n",
        "def generate_linear_space(start , stop , num):\n",
        "    return np.linspace(start , stop , int(num))\n",
        "\n",
        "start = float(input(\"start \"))\n",
        "stop = float(input(\"stop \"))\n",
        "step = int(input(\"step \"))\n",
        "\n",
        "arr = generate_linear_space(start , stop , step)\n",
        "print(arr)"
      ],
      "metadata": {
        "colab": {
          "base_uri": "https://localhost:8080/"
        },
        "id": "CSznFpwO6Ju5",
        "outputId": "36079bb5-53e6-4209-efeb-69b598b21ee7"
      },
      "execution_count": null,
      "outputs": [
        {
          "output_type": "stream",
          "name": "stdout",
          "text": [
            "start 1\n",
            "stop 10\n",
            "step 5\n",
            "[ 1.    3.25  5.5   7.75 10.  ]\n"
          ]
        }
      ]
    },
    {
      "cell_type": "code",
      "source": [
        "#Q15\n",
        "def mat_eye(n):\n",
        "    return np.eye(n,n , dtype=int)\n",
        "\n",
        "n = int(input())\n",
        "arr = mat_eye(n)\n",
        "\n",
        "print(arr)"
      ],
      "metadata": {
        "colab": {
          "base_uri": "https://localhost:8080/"
        },
        "id": "eIcfV41d8L5h",
        "outputId": "569cbaeb-5333-43a4-e12e-c00e15f0b9dd"
      },
      "execution_count": null,
      "outputs": [
        {
          "output_type": "stream",
          "name": "stdout",
          "text": [
            "3\n",
            "[[1 0 0]\n",
            " [0 1 0]\n",
            " [0 0 1]]\n"
          ]
        }
      ]
    },
    {
      "cell_type": "code",
      "source": [
        "#Q16\n",
        "import numpy as np\n",
        "def list_to_array(l1):\n",
        "    return np.asarray(l1)\n",
        "\n",
        "l1 = [1,2,3,4,5]\n",
        "\n",
        "arr = list_to_array(l1)\n",
        "\n",
        "print(arr , type(arr))"
      ],
      "metadata": {
        "colab": {
          "base_uri": "https://localhost:8080/"
        },
        "id": "aPa7oRX4LMT8",
        "outputId": "50a69606-c77b-4040-8eef-2ce490246e14"
      },
      "execution_count": null,
      "outputs": [
        {
          "output_type": "stream",
          "name": "stdout",
          "text": [
            "[1 2 3 4 5] <class 'numpy.ndarray'>\n"
          ]
        }
      ]
    },
    {
      "cell_type": "code",
      "source": [
        "#Q17\n",
        "arr = np.array([1,2,3,4,5,6])\n",
        "print(arr)\n",
        "arr1 = arr.view(dtype = np.int8) # Previously every integer was of 8 bytes, with np.int8 every integer is given 1 bytes\n",
        "print(arr1)\n",
        "print(f\"Total size = {arr1.nbytes} bytes\")\n",
        "print(f\"Bytes per item = {arr1.itemsize} byte\")"
      ],
      "metadata": {
        "colab": {
          "base_uri": "https://localhost:8080/"
        },
        "id": "TMdN8ur8-b4h",
        "outputId": "a88c42e3-cb6f-4533-9356-cf6905b54010"
      },
      "execution_count": null,
      "outputs": [
        {
          "output_type": "stream",
          "name": "stdout",
          "text": [
            "[1 2 3 4 5 6]\n",
            "[1 0 0 0 0 0 0 0 2 0 0 0 0 0 0 0 3 0 0 0 0 0 0 0 4 0 0 0 0 0 0 0 5 0 0 0 0\n",
            " 0 0 0 6 0 0 0 0 0 0 0]\n",
            "Total size = 48 bytes\n",
            "Bytes per item = 1 byte\n"
          ]
        }
      ]
    },
    {
      "cell_type": "code",
      "source": [
        "#Q18\n",
        "arr1 = np.array([1,2,3,4,5])\n",
        "arr2 = np.array([6,7,8,9,10])\n",
        "\n",
        "print(np.concatenate((arr1 , arr2)))"
      ],
      "metadata": {
        "colab": {
          "base_uri": "https://localhost:8080/"
        },
        "id": "bLO_U4Gf-du1",
        "outputId": "78c54c90-c226-4bc7-9553-2ce304a87fee"
      },
      "execution_count": null,
      "outputs": [
        {
          "output_type": "stream",
          "name": "stdout",
          "text": [
            "[ 1  2  3  4  5  6  7  8  9 10]\n"
          ]
        }
      ]
    },
    {
      "cell_type": "code",
      "source": [
        "#Q19\n",
        "arr1 = np.array([[1,2,3],[4,5,6]])\n",
        "arr2 = np.array([[1,2,3,4],[5,6,7,8]])\n",
        "\n",
        "print(np.concatenate((arr1,arr2),1))"
      ],
      "metadata": {
        "colab": {
          "base_uri": "https://localhost:8080/"
        },
        "id": "E3XLi_hi-9sZ",
        "outputId": "c88d1fbf-30e5-4b62-9eba-46f4542fea40"
      },
      "execution_count": null,
      "outputs": [
        {
          "output_type": "stream",
          "name": "stdout",
          "text": [
            "[[1 2 3 1 2 3 4]\n",
            " [4 5 6 5 6 7 8]]\n"
          ]
        }
      ]
    },
    {
      "cell_type": "code",
      "source": [
        "#Q20\n",
        "def vertical_stack(list_arrays):\n",
        "    return np.vstack(list_arrays)\n",
        "\n",
        "arr1 = np.array([[1,2,3] , [4,5,6]])\n",
        "arr2 = np.array([[1,2,3]])\n",
        "arr3 = np.array([[7,8,9]])\n",
        "\n",
        "arr_final = vertical_stack([arr1,arr2,arr3])\n",
        "\n",
        "print(arr_final)"
      ],
      "metadata": {
        "colab": {
          "base_uri": "https://localhost:8080/"
        },
        "id": "YH9XM4XTGRHt",
        "outputId": "4bb0c172-3772-430c-c469-d08b09dad15f"
      },
      "execution_count": null,
      "outputs": [
        {
          "output_type": "stream",
          "name": "stdout",
          "text": [
            "[[1 2 3]\n",
            " [4 5 6]\n",
            " [1 2 3]\n",
            " [7 8 9]]\n"
          ]
        }
      ]
    },
    {
      "cell_type": "code",
      "source": [
        "#Q21\n",
        "def array_range(start , stop , step):\n",
        "    return np.arange(start , stop , step)\n",
        "\n",
        "start = int(input(\"Start = \"))\n",
        "stop = int(input(\"Stop = \"))\n",
        "step = int(input(\"Step = \"))\n",
        "\n",
        "arr = array_range(start , stop , step)\n",
        "\n",
        "print(arr)"
      ],
      "metadata": {
        "colab": {
          "base_uri": "https://localhost:8080/"
        },
        "id": "Txok3xE5HJ6U",
        "outputId": "c3766426-3d9f-4d10-9f5a-55d96dba15f8"
      },
      "execution_count": null,
      "outputs": [
        {
          "output_type": "stream",
          "name": "stdout",
          "text": [
            "Start = 1\n",
            "Stop = 10\n",
            "Step = 2\n",
            "[1 3 5 7 9]\n"
          ]
        }
      ]
    },
    {
      "cell_type": "code",
      "source": [
        "#Q22\n",
        "def equally_spaced_array():\n",
        "    return np.linspace(0,1,10)\n",
        "\n",
        "arr = equally_spaced_array()\n",
        "print(arr)"
      ],
      "metadata": {
        "colab": {
          "base_uri": "https://localhost:8080/"
        },
        "id": "fJW5Ael6Q6Q6",
        "outputId": "74ba46e1-a8aa-4bd9-c9d7-4d652979cf09"
      },
      "execution_count": null,
      "outputs": [
        {
          "output_type": "stream",
          "name": "stdout",
          "text": [
            "[0.         0.11111111 0.22222222 0.33333333 0.44444444 0.55555556\n",
            " 0.66666667 0.77777778 0.88888889 1.        ]\n"
          ]
        }
      ]
    },
    {
      "cell_type": "code",
      "source": [
        "#Q23\n",
        "def log_spaced():\n",
        "    return np.logspace(0,3,5)\n",
        "    #10^0 to 10^3 .....5 values. Here by default base = 10\n",
        "arr = log_spaced()\n",
        "\n",
        "print(arr)"
      ],
      "metadata": {
        "colab": {
          "base_uri": "https://localhost:8080/"
        },
        "id": "-MyQtrQuRX3z",
        "outputId": "25f7b929-debe-463e-e81f-e7dcb7f3ee9a"
      },
      "execution_count": null,
      "outputs": [
        {
          "output_type": "stream",
          "name": "stdout",
          "text": [
            "[   1.            5.62341325   31.6227766   177.827941   1000.        ]\n"
          ]
        }
      ]
    },
    {
      "cell_type": "code",
      "source": [
        "#Q24\n",
        "import numpy as np\n",
        "import pandas as pd\n",
        "mat = np.random.randint(1,100, (5,3))\n",
        "print(f\"Array {mat}\")\n",
        "df = pd.DataFrame(mat)\n",
        "print(f\"Data Frame = \\n{df}\")"
      ],
      "metadata": {
        "colab": {
          "base_uri": "https://localhost:8080/"
        },
        "id": "h2MqE5GkedFn",
        "outputId": "ec5065b1-5456-478f-f5dc-7f36c78f4fb6"
      },
      "execution_count": null,
      "outputs": [
        {
          "output_type": "stream",
          "name": "stdout",
          "text": [
            "Array [[84 21 15]\n",
            " [90 81 66]\n",
            " [13 17 27]\n",
            " [30 23 70]\n",
            " [41  5 90]]\n",
            "Data Frame = \n",
            "    0   1   2\n",
            "0  84  21  15\n",
            "1  90  81  66\n",
            "2  13  17  27\n",
            "3  30  23  70\n",
            "4  41   5  90\n"
          ]
        }
      ]
    },
    {
      "cell_type": "code",
      "source": [
        "#Q25\n",
        "def negative_to_zero(df, col):\n",
        "    if col in df.columns:\n",
        "        df[col] = np.where(df[col]<0 , 0, df[col])\n",
        "        print(f\"Updated DataFrame = \\n{df}\")\n",
        "    else:\n",
        "        print(f\"{col} not present in {df}\")\n",
        "\n",
        "df = pd.DataFrame([[1,2,3],[5,-6,7]])\n",
        "col = 2\n",
        "\n",
        "negative_to_zero(df,col)"
      ],
      "metadata": {
        "colab": {
          "base_uri": "https://localhost:8080/"
        },
        "id": "zKSSJ2iY6WiJ",
        "outputId": "9889bcca-8037-400c-c478-9e07a65e4b62"
      },
      "execution_count": null,
      "outputs": [
        {
          "output_type": "stream",
          "name": "stdout",
          "text": [
            "Updated DataFrame = \n",
            "   0  1  2\n",
            "0  1  2  3\n",
            "1  5 -6  7\n"
          ]
        }
      ]
    },
    {
      "cell_type": "code",
      "source": [
        "#Q26\n",
        "arr = np.array([10,20,30,40,50])\n",
        "\n",
        "arr[2]"
      ],
      "metadata": {
        "colab": {
          "base_uri": "https://localhost:8080/"
        },
        "id": "ZMVqwWhfAkcc",
        "outputId": "c9ab1c6b-d038-4fdd-92e3-68be52422b4b"
      },
      "execution_count": null,
      "outputs": [
        {
          "output_type": "execute_result",
          "data": {
            "text/plain": [
              "30"
            ]
          },
          "metadata": {},
          "execution_count": 8
        }
      ]
    },
    {
      "cell_type": "code",
      "source": [
        "#Q27\n",
        "arr_2d = np.array([[1, 2, 3],\n",
        "[4, 5, 6],\n",
        "[7, 8, 9]])\n",
        "arr_2d[1,2]"
      ],
      "metadata": {
        "colab": {
          "base_uri": "https://localhost:8080/"
        },
        "id": "-GvHj1KaBTAD",
        "outputId": "ee435ffa-2ad1-4198-9bd1-fe271fdda08f"
      },
      "execution_count": null,
      "outputs": [
        {
          "output_type": "execute_result",
          "data": {
            "text/plain": [
              "6"
            ]
          },
          "metadata": {},
          "execution_count": 9
        }
      ]
    },
    {
      "cell_type": "code",
      "source": [
        "#Q28\n",
        "arr = np.array([3, 8, 2, 10, 5, 7])\n",
        "arr[arr > 5]"
      ],
      "metadata": {
        "colab": {
          "base_uri": "https://localhost:8080/"
        },
        "id": "o8hLRYJsBkDJ",
        "outputId": "525c8cbd-21ed-4a40-dbb2-5fe67e0f21d3"
      },
      "execution_count": null,
      "outputs": [
        {
          "output_type": "execute_result",
          "data": {
            "text/plain": [
              "array([ 8, 10,  7])"
            ]
          },
          "metadata": {},
          "execution_count": 10
        }
      ]
    },
    {
      "cell_type": "code",
      "source": [
        "#Q29\n",
        "arr = np.array([1, 2, 3, 4, 5, 6, 7, 8, 9])\n",
        "arr[2:6]"
      ],
      "metadata": {
        "colab": {
          "base_uri": "https://localhost:8080/"
        },
        "id": "SV-ZASgFCFwS",
        "outputId": "4abf3649-ee93-456f-a18c-140b615a43b4"
      },
      "execution_count": null,
      "outputs": [
        {
          "output_type": "execute_result",
          "data": {
            "text/plain": [
              "array([3, 4, 5, 6])"
            ]
          },
          "metadata": {},
          "execution_count": 12
        }
      ]
    },
    {
      "cell_type": "code",
      "source": [
        "#Q30\n",
        "arr_2d = np.array([[1,2,3],[4,5,6],[7,8,9]])\n",
        "arr_2d[0:2 , 1:3]"
      ],
      "metadata": {
        "colab": {
          "base_uri": "https://localhost:8080/"
        },
        "id": "2HfZla2zDV0B",
        "outputId": "bebadaa1-9229-4ca7-b19e-b567dd3a4646"
      },
      "execution_count": null,
      "outputs": [
        {
          "output_type": "execute_result",
          "data": {
            "text/plain": [
              "array([[2, 3],\n",
              "       [5, 6]])"
            ]
          },
          "metadata": {},
          "execution_count": 18
        }
      ]
    },
    {
      "cell_type": "code",
      "source": [
        "#Q31\n",
        "arr2d = np.array([[1,2,3],[4,5,6],[7,8,9]])\n",
        "arrindx = np.array([0,1])\n",
        "\n",
        "for i in arrindx:\n",
        "    print(arr2d[i])"
      ],
      "metadata": {
        "colab": {
          "base_uri": "https://localhost:8080/"
        },
        "id": "pXN8e5CXDr89",
        "outputId": "dbcc72f2-97f3-4aed-8980-3955a345d991"
      },
      "execution_count": null,
      "outputs": [
        {
          "output_type": "stream",
          "name": "stdout",
          "text": [
            "[1 2 3]\n",
            "[4 5 6]\n"
          ]
        }
      ]
    },
    {
      "cell_type": "code",
      "source": [
        "#Q32\n",
        "arr = np.array([1,2,3,4,5,6,7,8,9,10])\n",
        "threshold = 4\n",
        "arr[arr>threshold]"
      ],
      "metadata": {
        "colab": {
          "base_uri": "https://localhost:8080/"
        },
        "id": "X3ScwU_zFmHB",
        "outputId": "f6b9d73b-77bc-44f5-b9fa-c5fabd6fc70e"
      },
      "execution_count": null,
      "outputs": [
        {
          "output_type": "execute_result",
          "data": {
            "text/plain": [
              "array([ 5,  6,  7,  8,  9, 10])"
            ]
          },
          "metadata": {},
          "execution_count": 22
        }
      ]
    },
    {
      "cell_type": "code",
      "source": [
        "#Q33\n",
        "arr3d = np.random.randint(1,100, size = [3,3,3])\n",
        "print(f\"3D array = \\n{arr3d}\")\n",
        "arr0 = np.array([0,1,2])\n",
        "arr1 = np.array([1,2])\n",
        "arr2 = np.array([0,1])\n",
        "\n",
        "for i in arr0:\n",
        "    for j in arr1:\n",
        "        for k in arr2:\n",
        "            print(f\"{i} row {j} column {k} height = {arr3d[i,j,k]}\")"
      ],
      "metadata": {
        "colab": {
          "base_uri": "https://localhost:8080/"
        },
        "id": "JhFFO1P5GJS7",
        "outputId": "b25e8e5a-400e-4ada-c1f5-cd8e885b5cd4"
      },
      "execution_count": null,
      "outputs": [
        {
          "output_type": "stream",
          "name": "stdout",
          "text": [
            "3D array = \n",
            "[[[15 86  4]\n",
            "  [32 32 32]\n",
            "  [95 11 46]]\n",
            "\n",
            " [[22 45 27]\n",
            "  [ 4 53 54]\n",
            "  [49 61 17]]\n",
            "\n",
            " [[ 6 13 22]\n",
            "  [25  6  9]\n",
            "  [67 78 92]]]\n",
            "0 row 1 column 0 height = 32\n",
            "0 row 1 column 1 height = 32\n",
            "0 row 2 column 0 height = 95\n",
            "0 row 2 column 1 height = 11\n",
            "1 row 1 column 0 height = 4\n",
            "1 row 1 column 1 height = 53\n",
            "1 row 2 column 0 height = 49\n",
            "1 row 2 column 1 height = 61\n",
            "2 row 1 column 0 height = 25\n",
            "2 row 1 column 1 height = 6\n",
            "2 row 2 column 0 height = 67\n",
            "2 row 2 column 1 height = 78\n"
          ]
        }
      ]
    },
    {
      "cell_type": "code",
      "source": [
        "#Q34\n",
        "arr = np.array([1,2,3,4,5,6,7])\n",
        "print(arr[(arr>2) & (arr<6)])"
      ],
      "metadata": {
        "colab": {
          "base_uri": "https://localhost:8080/"
        },
        "id": "h1Hr-Cr5GdaZ",
        "outputId": "12238991-e541-452e-e757-8f99bc66aa90"
      },
      "execution_count": null,
      "outputs": [
        {
          "output_type": "stream",
          "name": "stdout",
          "text": [
            "[3 4 5]\n"
          ]
        }
      ]
    },
    {
      "cell_type": "code",
      "source": [
        "#Q35\n",
        "def access2d(arr , row , col):\n",
        "    return arr[row,col]\n",
        "    # arr[1,0] then arr[2,1]\n",
        "    #Both values are stores in an array.\n",
        "\n",
        "row = np.array([1,2])\n",
        "col = np.array([0,1])\n",
        "\n",
        "arr2d = np.array([[1,2,3],[4,5,6],[7,8,9]])\n",
        "\n",
        "op = access2d(arr2d , row , col)\n",
        "\n",
        "print(op)\n",
        "\n"
      ],
      "metadata": {
        "colab": {
          "base_uri": "https://localhost:8080/"
        },
        "id": "hGFxkJYHICl0",
        "outputId": "1bdca959-a1e2-43c2-ae08-c0a21f0109d6"
      },
      "execution_count": null,
      "outputs": [
        {
          "output_type": "stream",
          "name": "stdout",
          "text": [
            "[4 8]\n"
          ]
        }
      ]
    },
    {
      "cell_type": "code",
      "source": [
        "#Q36\n",
        "import numpy as np\n",
        "arr = np.random.randint(1,5 , (3,3))\n",
        "print(f\"arr = \\n{arr} \\n arr + 5 after broadcasting = \\n{arr+5}\")"
      ],
      "metadata": {
        "id": "_bCFGNveLT97",
        "colab": {
          "base_uri": "https://localhost:8080/"
        },
        "outputId": "616df570-5bdd-4143-f191-7772e8611ac7"
      },
      "execution_count": null,
      "outputs": [
        {
          "output_type": "stream",
          "name": "stdout",
          "text": [
            "arr = \n",
            "[[2 4 2]\n",
            " [2 3 1]\n",
            " [1 3 1]] \n",
            " arr + 5 after broadcasting = \n",
            "[[7 9 7]\n",
            " [7 8 6]\n",
            " [6 8 6]]\n"
          ]
        }
      ]
    },
    {
      "cell_type": "code",
      "source": [
        "#Q37\n",
        "arr1 = np.random.randint(1,5 , (1,3))\n",
        "arr2 = np.random.randint(1,5 , (4,3))\n",
        "print(f\"{arr1} \\n\\n {arr2} \\n\\n\")\n",
        "print(arr1*arr2)"
      ],
      "metadata": {
        "colab": {
          "base_uri": "https://localhost:8080/"
        },
        "id": "ONBGQS-psL3f",
        "outputId": "1ea0a88f-d369-49e6-fb8d-cf20c4ca1e3d"
      },
      "execution_count": null,
      "outputs": [
        {
          "output_type": "stream",
          "name": "stdout",
          "text": [
            "[[3 3 2]] \n",
            "\n",
            " [[1 4 1]\n",
            " [1 3 2]\n",
            " [1 1 4]\n",
            " [4 2 1]] \n",
            "\n",
            "\n",
            "[[ 3 12  2]\n",
            " [ 3  9  4]\n",
            " [ 3  3  8]\n",
            " [12  6  2]]\n"
          ]
        }
      ]
    },
    {
      "cell_type": "code",
      "source": [
        "#Q38\n",
        "arr1 = np.random.randint(1,5 , (1,4))\n",
        "arr2 = np.random.randint(1,5 , (4,3))\n",
        "print(f\"{arr1} \\n\\n {arr2}\\n\\n\")\n",
        "# print(arr2 + arr1) -> Gives value error\n",
        "arr1 = arr1.reshape((4,1))\n",
        "result = arr2 + arr1\n",
        "print(f\"{arr2} \\n + \\n{arr1} = \\n\\n\")\n",
        "print(result)"
      ],
      "metadata": {
        "colab": {
          "base_uri": "https://localhost:8080/"
        },
        "id": "r4InkVSBxSyJ",
        "outputId": "71371f48-350e-4a88-b7b2-38bf7927e95a"
      },
      "execution_count": null,
      "outputs": [
        {
          "output_type": "stream",
          "name": "stdout",
          "text": [
            "[[2 2 4 2]] \n",
            "\n",
            " [[3 4 1]\n",
            " [4 3 1]\n",
            " [2 4 3]\n",
            " [4 1 2]]\n",
            "\n",
            "\n",
            "[[3 4 1]\n",
            " [4 3 1]\n",
            " [2 4 3]\n",
            " [4 1 2]] \n",
            " + \n",
            "[[2]\n",
            " [2]\n",
            " [4]\n",
            " [2]] = \n",
            "\n",
            "\n",
            "[[5 6 3]\n",
            " [6 5 3]\n",
            " [6 8 7]\n",
            " [6 3 4]]\n"
          ]
        }
      ]
    },
    {
      "cell_type": "code",
      "source": [
        "#Q39\n",
        "arr1 = np.random.randint(1,5 , (1,3))\n",
        "arr2 = np.random.randint(1,5 , (3,1))\n",
        "print(f\"{arr1} \\n\\n {arr2}\\n\\n\")\n",
        "\n",
        "print(arr1 + arr2)"
      ],
      "metadata": {
        "colab": {
          "base_uri": "https://localhost:8080/"
        },
        "id": "JQ9_G5gmx2Vj",
        "outputId": "a8c0c13c-2426-4c9a-d829-c1835774cedd"
      },
      "execution_count": null,
      "outputs": [
        {
          "output_type": "stream",
          "name": "stdout",
          "text": [
            "[[2 4 2]] \n",
            "\n",
            " [[1]\n",
            " [4]\n",
            " [3]]\n",
            "\n",
            "\n",
            "[[3 5 3]\n",
            " [6 8 6]\n",
            " [5 7 5]]\n"
          ]
        }
      ]
    },
    {
      "cell_type": "code",
      "source": [
        "#Q40\n",
        "import numpy as np\n",
        "arr1 = np.random.randint(1,5 , (2,3))\n",
        "arr2 = np.random.randint(1,5 , (2,2))\n",
        "print(f\"{arr1} \\n\\n {arr2}\\n\\n\")\n",
        "try:\n",
        "    result = arr1*arr2\n",
        "except ValueError as e:\n",
        "    print(e)\n"
      ],
      "metadata": {
        "colab": {
          "base_uri": "https://localhost:8080/"
        },
        "id": "jT0fkGhQzxjw",
        "outputId": "4e956bec-b713-45d4-dcec-2a188767ba4e"
      },
      "execution_count": null,
      "outputs": [
        {
          "output_type": "stream",
          "name": "stdout",
          "text": [
            "[[2 3 4]\n",
            " [1 2 2]] \n",
            "\n",
            " [[4 1]\n",
            " [4 4]]\n",
            "\n",
            "\n",
            "operands could not be broadcast together with shapes (2,3) (2,2) \n"
          ]
        }
      ]
    },
    {
      "cell_type": "code",
      "source": [
        "#Q41\n",
        "arr = np.array([[1, 2, 3], [4, 5, 6]])\n",
        "col_mean = np.mean(arr , axis=0)\n",
        "print(col_mean)"
      ],
      "metadata": {
        "colab": {
          "base_uri": "https://localhost:8080/"
        },
        "id": "G8ah-RV40EH5",
        "outputId": "4d002f62-2957-40a6-ba1d-4fd00f77eff1"
      },
      "execution_count": null,
      "outputs": [
        {
          "output_type": "stream",
          "name": "stdout",
          "text": [
            "[2.5 3.5 4.5]\n"
          ]
        }
      ]
    },
    {
      "cell_type": "code",
      "source": [
        "#Q42\n",
        "arr = np.array([[1, 2, 3], [4, 5, 6]])\n",
        "max_row = np.max(arr , axis=1)\n",
        "print(max_row)"
      ],
      "metadata": {
        "colab": {
          "base_uri": "https://localhost:8080/"
        },
        "id": "mn1RiEflgZyV",
        "outputId": "005b9603-fe29-4510-8467-f36186e556cf"
      },
      "execution_count": null,
      "outputs": [
        {
          "output_type": "stream",
          "name": "stdout",
          "text": [
            "[3 6]\n"
          ]
        }
      ]
    },
    {
      "cell_type": "code",
      "source": [
        "#Q43\n",
        "arr = np.array([[1, 2, 3], [4, 5, 6]])\n",
        "max_col = np.max(arr , axis=0)\n",
        "print(max_col)"
      ],
      "metadata": {
        "colab": {
          "base_uri": "https://localhost:8080/"
        },
        "id": "8-nQifUdhIXB",
        "outputId": "36fde26c-8f3a-49aa-9ad2-023c2d86129c"
      },
      "execution_count": null,
      "outputs": [
        {
          "output_type": "stream",
          "name": "stdout",
          "text": [
            "[4 5 6]\n"
          ]
        }
      ]
    },
    {
      "cell_type": "code",
      "source": [
        "#Q44\n",
        "arr = np.array([[1, 2, 3], [4, 5, 6]])\n",
        "sum_row = np.sum(arr , axis=1)\n",
        "print(sum_row)"
      ],
      "metadata": {
        "colab": {
          "base_uri": "https://localhost:8080/"
        },
        "id": "DSjGKl_yhSBx",
        "outputId": "870f0fe3-c5d4-4bcd-eb5a-e2f924ef0887"
      },
      "execution_count": null,
      "outputs": [
        {
          "output_type": "stream",
          "name": "stdout",
          "text": [
            "[ 6 15]\n"
          ]
        }
      ]
    },
    {
      "cell_type": "code",
      "source": [
        "#Q45\n",
        "arr = np.array([[2,4,6],[3,5,7]])\n",
        "sum_col = np.sum(arr , axis=0)\n",
        "print(sum_col)\n",
        "\n",
        "count = 0\n",
        "for i in sum_col:\n",
        "    if i % 2 == 0:\n",
        "        print(f\"{count} column all elements are even.\")\n",
        "    else:\n",
        "        print(f\"{count} column all elements are not even.\")\n",
        "    count = count+1"
      ],
      "metadata": {
        "colab": {
          "base_uri": "https://localhost:8080/"
        },
        "id": "jE7AZf-PiZS_",
        "outputId": "779b3cf4-ea4f-4336-d78f-985d091e0f91"
      },
      "execution_count": null,
      "outputs": [
        {
          "output_type": "stream",
          "name": "stdout",
          "text": [
            "[ 5  9 13]\n",
            "0 column all elements are not even\n",
            "1 column all elements are not even\n",
            "2 column all elements are not even\n"
          ]
        }
      ]
    },
    {
      "cell_type": "code",
      "source": [
        "#Q46\n",
        "original_array = np.array([1, 2, 3, 4, 5, 6])\n",
        "\n",
        "reshaped_array = original_array.reshape((2,-1))\n",
        "\n",
        "print(reshaped_array)"
      ],
      "metadata": {
        "colab": {
          "base_uri": "https://localhost:8080/"
        },
        "id": "_d06YW3mjQrB",
        "outputId": "3c3e89da-4883-493a-8a13-8437ec9e16c5"
      },
      "execution_count": null,
      "outputs": [
        {
          "output_type": "stream",
          "name": "stdout",
          "text": [
            "[[1 2 3]\n",
            " [4 5 6]]\n"
          ]
        }
      ]
    },
    {
      "cell_type": "code",
      "source": [
        "#Q47\n",
        "def flatten_array(arr):\n",
        "    return  arr.flatten()\n",
        "\n",
        "input_matrix = np.array([[1, 2, 3], [4, 5, 6]])\n",
        "\n",
        "flattered_array = flatten_array(input_matrix)\n",
        "\n",
        "print(flattered_array)"
      ],
      "metadata": {
        "colab": {
          "base_uri": "https://localhost:8080/"
        },
        "id": "wezhOEOGjt9F",
        "outputId": "5e9bdbe4-91ba-4d54-a6b6-ceafd395e482"
      },
      "execution_count": null,
      "outputs": [
        {
          "output_type": "stream",
          "name": "stdout",
          "text": [
            "[1 2 3 4 5 6]\n"
          ]
        }
      ]
    },
    {
      "cell_type": "code",
      "source": [
        "#Q48\n",
        "array1 = np.array([[1, 2], [3, 4]])\n",
        "array2 = np.array([[5, 6], [7, 8]])\n",
        "\n",
        "result = np.concatenate((array1,array2), axis = 1)\n",
        "print(result)"
      ],
      "metadata": {
        "colab": {
          "base_uri": "https://localhost:8080/"
        },
        "id": "6q6feOP0kAuQ",
        "outputId": "83fdd75b-88ab-44a2-c843-385fd0578a5b"
      },
      "execution_count": null,
      "outputs": [
        {
          "output_type": "stream",
          "name": "stdout",
          "text": [
            "[[1 2 5 6]\n",
            " [3 4 7 8]]\n"
          ]
        }
      ]
    },
    {
      "cell_type": "code",
      "source": [
        "#Q49\n",
        "original_array = np.array([[1, 2, 3], [4, 5, 6], [7, 8, 9]])\n",
        "\n",
        "def splitter(arr):\n",
        "    return np.split(arr , 3 , axis=0)\n",
        "\n",
        "subarrays = splitter(original_array)\n",
        "\n",
        "for subarray in subarrays:\n",
        "    print(subarray)"
      ],
      "metadata": {
        "colab": {
          "base_uri": "https://localhost:8080/"
        },
        "id": "CbqsiSFukcJW",
        "outputId": "42a937fb-b09a-4561-bade-88df25d9deac"
      },
      "execution_count": null,
      "outputs": [
        {
          "output_type": "stream",
          "name": "stdout",
          "text": [
            "[[1 2 3]]\n",
            "[[4 5 6]]\n",
            "[[7 8 9]]\n"
          ]
        }
      ]
    },
    {
      "cell_type": "code",
      "source": [
        "\n",
        "#axis=1 → Row-wise operation (sum along columns, producing one value per row).\n",
        "#axis=0 → Column-wise operation (sum along rows, producing one value per column).\n",
        "#Write it down"
      ],
      "metadata": {
        "id": "RXlXJZgblNRw"
      },
      "execution_count": null,
      "outputs": []
    },
    {
      "cell_type": "code",
      "source": [
        "#Q50\n",
        "import numpy as np\n",
        "def insert_delete(arr, index_insert , value , index_delete):\n",
        "    temp = 0\n",
        "    for index in index_insert:\n",
        "        arr = np.insert(arr , index , value[temp])\n",
        "        print(f\"After inserting {value[temp]} at index {index} array is = {arr}\")\n",
        "        temp = temp+1\n",
        "\n",
        "    for index in index_delete:\n",
        "        arr = np.delete(arr , index)\n",
        "        print(f\"Index {index} element is deleted. Array is {arr}\")\n",
        "\n",
        "\n",
        "original_array = np.array([1, 2, 3, 4, 5])\n",
        "\n",
        "indices_to_insert = [2, 4]\n",
        "values_to_insert = [10, 11]\n",
        "indices_to_delete = [1, 3]\n",
        "\n",
        "insert_delete(original_array , indices_to_insert , values_to_insert , indices_to_delete)"
      ],
      "metadata": {
        "id": "fuWY1Jc2olDI",
        "colab": {
          "base_uri": "https://localhost:8080/"
        },
        "outputId": "d385cf69-e548-4c81-b8de-e1e42666a0c5"
      },
      "execution_count": null,
      "outputs": [
        {
          "output_type": "stream",
          "name": "stdout",
          "text": [
            "After inserting 10 at index 2 array is = [ 1  2 10  3  4  5]\n",
            "After inserting 11 at index 4 array is = [ 1  2 10  3 11  4  5]\n",
            "Index 1 element is deleted. Array is [ 1 10  3 11  4  5]\n",
            "Index 3 element is deleted. Array is [ 1 10  3  4  5]\n"
          ]
        }
      ]
    },
    {
      "cell_type": "code",
      "source": [
        "#Q51\n",
        "arr1 = np.random.randint(1,10 , size = (5))\n",
        "arr2 = np.random.randint(1,10 , size = (5))\n",
        "\n",
        "print(f\"{arr1} + {arr2} = {arr1+arr2}\")"
      ],
      "metadata": {
        "colab": {
          "base_uri": "https://localhost:8080/"
        },
        "id": "2RMFdK-Yy1LA",
        "outputId": "4dab70bb-90c5-46ed-f4dd-b724acd11661"
      },
      "execution_count": null,
      "outputs": [
        {
          "output_type": "stream",
          "name": "stdout",
          "text": [
            "[7 1 5 5 2] + [3 7 4 6 4] = [10  8  9 11  6]\n"
          ]
        }
      ]
    },
    {
      "cell_type": "code",
      "source": [
        "#Q52\n",
        "arr1 = np.arange(10,1,-1)\n",
        "\n",
        "arr2 = np.arange(1,10,1)\n",
        "\n",
        "print(f\"{arr1} - {arr2} = {arr1-arr2}\")"
      ],
      "metadata": {
        "colab": {
          "base_uri": "https://localhost:8080/"
        },
        "id": "Evlu0wny2jUK",
        "outputId": "e697a175-6b2d-4670-d7f6-8ae7d2788b71"
      },
      "execution_count": null,
      "outputs": [
        {
          "output_type": "stream",
          "name": "stdout",
          "text": [
            "[10  9  8  7  6  5  4  3  2] - [1 2 3 4 5 6 7 8 9] = [ 9  7  5  3  1 -1 -3 -5 -7]\n"
          ]
        }
      ]
    },
    {
      "cell_type": "code",
      "source": [
        "#Q53\n",
        "arr1 = np.random.random_sample(5)\n",
        "arr2 = np.random.randint(1,5,5)\n",
        "print(arr1*arr2)"
      ],
      "metadata": {
        "colab": {
          "base_uri": "https://localhost:8080/"
        },
        "id": "Jpb_g_gH4HMP",
        "outputId": "9f458969-e0e9-434d-fdd4-808a5a02488e"
      },
      "execution_count": null,
      "outputs": [
        {
          "output_type": "stream",
          "name": "stdout",
          "text": [
            "[1.82403335 0.34726288 1.18469334 3.26323036 0.44792967]\n"
          ]
        }
      ]
    },
    {
      "cell_type": "code",
      "source": [
        "#Q54\n",
        "arr1 = np.arange(2,10 , 2)\n",
        "arr2 = np.arange(1,5,1)\n",
        "print(arr1,arr2)\n",
        "print(arr1/arr2)"
      ],
      "metadata": {
        "colab": {
          "base_uri": "https://localhost:8080/"
        },
        "id": "WHNqJIO85ZbP",
        "outputId": "c4973821-b47d-40ac-8145-8efc4d1aa1a8"
      },
      "execution_count": null,
      "outputs": [
        {
          "output_type": "stream",
          "name": "stdout",
          "text": [
            "[2 4 6 8] [1 2 3 4]\n",
            "[2. 2. 2. 2.]\n"
          ]
        }
      ]
    },
    {
      "cell_type": "code",
      "source": [
        "#Q55\n",
        "arr1 = np.arange(1,5,1)\n",
        "arr2 = arr1[::-1]\n",
        "print(arr1,arr2)\n",
        "print(arr1**arr2)"
      ],
      "metadata": {
        "colab": {
          "base_uri": "https://localhost:8080/"
        },
        "id": "Ozg9iGy67F1x",
        "outputId": "c3f5bfcf-9676-457c-c7e0-da223a085c60"
      },
      "execution_count": null,
      "outputs": [
        {
          "output_type": "stream",
          "name": "stdout",
          "text": [
            "[1 2 3 4] [4 3 2 1]\n",
            "[1 8 9 4]\n"
          ]
        }
      ]
    },
    {
      "cell_type": "code",
      "source": [
        "#Q56\n",
        "def count_string(strings , substring):\n",
        "    indices = np.char.count(strings, substring)\n",
        "\n",
        "    print(indices)\n",
        "    count = np.count_nonzero(indices==1)\n",
        "\n",
        "    print(f\"Count of {substring} is {count}\")\n",
        "\n",
        "\n",
        "arr = np.array(['hello', 'world', 'hello', 'numpy', 'hello'])\n",
        "\n",
        "count_string(arr, \"hello\")"
      ],
      "metadata": {
        "colab": {
          "base_uri": "https://localhost:8080/"
        },
        "id": "ETDIaZyP70Kp",
        "outputId": "221cf0a3-6e1f-4386-c3cb-5ea954d7899d"
      },
      "execution_count": null,
      "outputs": [
        {
          "output_type": "stream",
          "name": "stdout",
          "text": [
            "[1 0 1 0 1]\n",
            "Count of hello is 3\n"
          ]
        }
      ]
    },
    {
      "cell_type": "code",
      "source": [
        "#Q57\n",
        "import numpy as np\n",
        "\n",
        "def array_uppercase(strings):\n",
        "    return np.char.upper(strings)\n",
        "\n",
        "arr = np.array(['Hello', 'World', 'OpenAI', 'GPT'])\n",
        "\n",
        "strings_arr = array_uppercase(arr)\n",
        "print(strings_arr)"
      ],
      "metadata": {
        "colab": {
          "base_uri": "https://localhost:8080/"
        },
        "id": "GM2Dal4w9ubw",
        "outputId": "50523136-e2bf-4283-be6d-763af14e3132"
      },
      "execution_count": null,
      "outputs": [
        {
          "output_type": "stream",
          "name": "stdout",
          "text": [
            "['HELLO' 'WORLD' 'OPENAI' 'GPT']\n"
          ]
        }
      ]
    },
    {
      "cell_type": "code",
      "source": [
        "#Q58\n",
        "def replace(arr):\n",
        "    return np.char.replace(arr , \"apple\" , \"Srinath\")\n",
        "\n",
        "arr = np.array(['apple', 'banana', 'grape', 'pineapple'])\n",
        "\n",
        "print(replace(arr))"
      ],
      "metadata": {
        "colab": {
          "base_uri": "https://localhost:8080/"
        },
        "id": "IUMx4_wRr7Tw",
        "outputId": "0fe6c812-12ef-40da-c636-ad43585b3bc9"
      },
      "execution_count": null,
      "outputs": [
        {
          "output_type": "stream",
          "name": "stdout",
          "text": [
            "['Srinath' 'banana' 'grape' 'pineSrinath']\n"
          ]
        }
      ]
    },
    {
      "cell_type": "code",
      "source": [
        "#Q59\n",
        "def concate_string_arr(arr1 , arr2):\n",
        "    return np.char.add(arr1 , arr2)\n",
        "arr1 = np.array(['Hello', 'World'])\n",
        "arr2 = np.array(['Open', 'AI'])\n",
        "\n",
        "result = concate_string_arr(arr1 , arr2)\n",
        "print(result)"
      ],
      "metadata": {
        "colab": {
          "base_uri": "https://localhost:8080/"
        },
        "id": "_IrVyCuTsoaU",
        "outputId": "96ebd15f-8070-42ca-a209-0420f978de19"
      },
      "execution_count": null,
      "outputs": [
        {
          "output_type": "stream",
          "name": "stdout",
          "text": [
            "['HelloOpen' 'WorldAI']\n"
          ]
        }
      ]
    },
    {
      "cell_type": "code",
      "source": [
        "#Q60\n",
        "def longest_string(arr):\n",
        "    lengths = np.char.str_len(arr)\n",
        "\n",
        "    return np.max(lengths)\n",
        "\n",
        "arr = np.array(['apple', 'banana', 'grape', 'pineapple'])\n",
        "\n",
        "max = longest_string(arr)\n",
        "\n",
        "print(max)"
      ],
      "metadata": {
        "colab": {
          "base_uri": "https://localhost:8080/"
        },
        "id": "KTqKBWKJs-fW",
        "outputId": "c39db892-df66-47bb-e9f2-9c6b99700c82"
      },
      "execution_count": null,
      "outputs": [
        {
          "output_type": "stream",
          "name": "stdout",
          "text": [
            "9\n"
          ]
        }
      ]
    },
    {
      "cell_type": "code",
      "source": [
        "#Q61\n",
        "arr = np.random.randint(1,1000,100)\n",
        "mean = np.mean(arr)\n",
        "median = np.median(arr)\n",
        "variance = np.var(arr)\n",
        "sd = np.std(arr)\n",
        "print(f\"Mean = {mean}\\nMedian = {median}\\nVariance = {variance}\\nStandard Deviation = {sd}\")"
      ],
      "metadata": {
        "colab": {
          "base_uri": "https://localhost:8080/"
        },
        "id": "r9Hzaa2Rugd6",
        "outputId": "4ff85308-a27f-454a-845b-561e197d5fab"
      },
      "execution_count": null,
      "outputs": [
        {
          "output_type": "stream",
          "name": "stdout",
          "text": [
            "Mean = 497.73\n",
            "Median = 513.5\n",
            "Variance = 84737.07710000001\n",
            "Standard Deviation = 291.0963364592554\n"
          ]
        }
      ]
    },
    {
      "cell_type": "code",
      "source": [
        "#Q62\n",
        "arr = np.random.randint(1,100, 50)\n",
        "\n",
        "percentile_25 = np.percentile(arr , 25)\n",
        "percentile_75 = np.percentile(arr , 75)\n",
        "\n",
        "print(f\"25%ile = {percentile_25}\\n75%ile  ={percentile_75}\")"
      ],
      "metadata": {
        "colab": {
          "base_uri": "https://localhost:8080/"
        },
        "id": "yYw5x-2xvRdr",
        "outputId": "5c7e5b54-0d32-4ac6-ec13-4dba0827a9cc"
      },
      "execution_count": null,
      "outputs": [
        {
          "output_type": "stream",
          "name": "stdout",
          "text": [
            "25%ile = 19.0\n",
            "75%ile  =71.25\n"
          ]
        }
      ]
    },
    {
      "cell_type": "code",
      "source": [
        "#Q63\n",
        "arr1 = np.random.randint(1,10,5)\n",
        "arr2 = np.random.randint(1,5,5)\n",
        "\n",
        "print(np.corrcoef(arr1,arr2))"
      ],
      "metadata": {
        "colab": {
          "base_uri": "https://localhost:8080/"
        },
        "id": "Aol6k_vGv-6L",
        "outputId": "b74eddf5-9ea5-4847-ff0f-75c479dd81ef"
      },
      "execution_count": null,
      "outputs": [
        {
          "output_type": "stream",
          "name": "stdout",
          "text": [
            "[[1.         0.10206207]\n",
            " [0.10206207 1.        ]]\n"
          ]
        }
      ]
    },
    {
      "cell_type": "code",
      "source": [
        "#Q64\n",
        "arr1 = np.random.randint(1,10,(2,3))\n",
        "arr2 = np.random.randint(1,5,(3,2))\n",
        "\n",
        "prod = np.dot(arr1,arr2)\n",
        "\n",
        "print(prod)"
      ],
      "metadata": {
        "colab": {
          "base_uri": "https://localhost:8080/"
        },
        "id": "35NjmGWlwj5Z",
        "outputId": "1d6f6f7f-63a6-4b42-b912-bb7b8eae7369"
      },
      "execution_count": null,
      "outputs": [
        {
          "output_type": "stream",
          "name": "stdout",
          "text": [
            "[[32 17]\n",
            " [18 12]]\n"
          ]
        }
      ]
    },
    {
      "cell_type": "code",
      "source": [
        "#Q65\n",
        "random_array = np.random.randint(10, 1001, 50)\n",
        "\n",
        "percentile_10 = np.percentile(random_array, 10)\n",
        "percentile_50 = np.percentile(random_array, 50)  # Median\n",
        "percentile_90 = np.percentile(random_array, 90)\n",
        "\n",
        "# Calculate quartiles\n",
        "q1 = np.percentile(random_array, 25)  # First quartile\n",
        "q3 = np.percentile(random_array, 75)  # Third quartile\n",
        "\n",
        "print(\"10th percentile:\", percentile_10)\n",
        "print(\"50th percentile (Median):\", percentile_50)\n",
        "print(\"90th percentile:\", percentile_90)\n",
        "print(\"First quartile (Q1):\", q1)\n",
        "print(\"Third quartile (Q3):\", q3)"
      ],
      "metadata": {
        "colab": {
          "base_uri": "https://localhost:8080/"
        },
        "id": "tOfZYZRh6nFE",
        "outputId": "7951f404-f9b0-4278-e63e-71785fcd7ba2"
      },
      "execution_count": null,
      "outputs": [
        {
          "output_type": "stream",
          "name": "stdout",
          "text": [
            "10th percentile: 129.60000000000002\n",
            "50th percentile (Median): 562.0\n",
            "90th percentile: 925.2\n",
            "First quartile (Q1): 255.0\n",
            "Third quartile (Q3): 779.75\n"
          ]
        }
      ]
    },
    {
      "cell_type": "code",
      "source": [
        "#Q66\n",
        "arr = np.random.randint(1,10,10)\n",
        "print(arr)\n",
        "index = np.where(arr == 6)[0]\n",
        "# Returns an array containing all indices of specified element and with [0] we will get the first occurrence\n",
        "print(index)"
      ],
      "metadata": {
        "colab": {
          "base_uri": "https://localhost:8080/"
        },
        "id": "YxX3w16n679e",
        "outputId": "9aed70d1-e88f-4dd4-dd79-0e063885870a"
      },
      "execution_count": null,
      "outputs": [
        {
          "output_type": "stream",
          "name": "stdout",
          "text": [
            "[8 1 6 9 2 3 1 2 8 7]\n",
            "[2]\n"
          ]
        }
      ]
    },
    {
      "cell_type": "code",
      "source": [
        "#Q67\n",
        "arr = np.array([3,5,6,2,1,4,9])\n",
        "\n",
        "arr_sorted = np.sort(arr)\n",
        "\n",
        "print(arr_sorted)"
      ],
      "metadata": {
        "colab": {
          "base_uri": "https://localhost:8080/"
        },
        "id": "aGJaKkSe7Rv9",
        "outputId": "d2b706c7-799f-4a80-8f60-9abf7b31113d"
      },
      "execution_count": null,
      "outputs": [
        {
          "output_type": "stream",
          "name": "stdout",
          "text": [
            "[1 2 3 4 5 6 9]\n"
          ]
        }
      ]
    },
    {
      "cell_type": "code",
      "source": [
        "#Q68\n",
        "arr = np.array([12, 25, 6, 42, 8, 30])\n",
        "arr[arr > 20]"
      ],
      "metadata": {
        "colab": {
          "base_uri": "https://localhost:8080/"
        },
        "id": "F0eLR2_y7xjz",
        "outputId": "345d3334-6356-4128-db60-eb65b7c66f11"
      },
      "execution_count": null,
      "outputs": [
        {
          "output_type": "execute_result",
          "data": {
            "text/plain": [
              "array([25, 42, 30])"
            ]
          },
          "metadata": {},
          "execution_count": 34
        }
      ]
    },
    {
      "cell_type": "code",
      "source": [
        "#Q69\n",
        "arr = np.array([1, 5, 8, 12, 15])\n",
        "arr[arr%3 == 0]"
      ],
      "metadata": {
        "colab": {
          "base_uri": "https://localhost:8080/"
        },
        "id": "hg4of1YR7765",
        "outputId": "13fddfcb-9baf-46ef-d547-6b77cb4a8b6e"
      },
      "execution_count": null,
      "outputs": [
        {
          "output_type": "execute_result",
          "data": {
            "text/plain": [
              "array([12, 15])"
            ]
          },
          "metadata": {},
          "execution_count": 35
        }
      ]
    },
    {
      "cell_type": "code",
      "source": [
        "#Q70\n",
        "arr = np.array([10, 20, 30, 40, 50])\n",
        "arr1 = arr[arr>=20]\n",
        "arr2 = arr1[arr1<=40]\n",
        "print(arr2)"
      ],
      "metadata": {
        "colab": {
          "base_uri": "https://localhost:8080/"
        },
        "id": "cqPgAlOC8HtC",
        "outputId": "493060dc-a2b5-43f8-b1ae-057f25574c2b"
      },
      "execution_count": null,
      "outputs": [
        {
          "output_type": "stream",
          "name": "stdout",
          "text": [
            "[20 30 40]\n"
          ]
        }
      ]
    },
    {
      "cell_type": "code",
      "source": [
        "#Q71\n",
        "arr = np.array([1, 2, 3])\n",
        "byte_order = arr.dtype.byteorder\n",
        "print(byte_order) # little endian"
      ],
      "metadata": {
        "colab": {
          "base_uri": "https://localhost:8080/"
        },
        "id": "PZERVW6T8oLK",
        "outputId": "de62dfc7-ff8e-433c-8211-64bd796194e9"
      },
      "execution_count": null,
      "outputs": [
        {
          "output_type": "stream",
          "name": "stdout",
          "text": [
            "=\n"
          ]
        }
      ]
    },
    {
      "cell_type": "code",
      "source": [
        "#Q72\n",
        "import numpy as np\n",
        "\n",
        "arr = np.array([1, 2, 3, 4], dtype='>i4')  # Big-endian\n",
        "arr.byteswap(True)  # Swaps in-place\n",
        "print(arr.dtype.byteorder)  # Output: little"
      ],
      "metadata": {
        "colab": {
          "base_uri": "https://localhost:8080/"
        },
        "id": "QOsX9WF-9bC2",
        "outputId": "6304b96f-ce4a-4a4d-a986-71bd100b1b29"
      },
      "execution_count": null,
      "outputs": [
        {
          "output_type": "stream",
          "name": "stdout",
          "text": [
            ">\n"
          ]
        }
      ]
    },
    {
      "cell_type": "code",
      "source": [
        "#Q73\n",
        "import numpy as np\n",
        "\n",
        "arr = np.array([1, 2, 3, 4], dtype='>i4')  # Big-endian\n",
        "new_arr = arr.newbyteorder('<')  # Create a new array with little-endian\n",
        "print(new_arr.dtype.byteorder)  # Output: little"
      ],
      "metadata": {
        "colab": {
          "base_uri": "https://localhost:8080/"
        },
        "id": "0md3WPsp-i-v",
        "outputId": "0488ea2e-e70b-4990-c7e6-f2a21dea424c"
      },
      "execution_count": null,
      "outputs": [
        {
          "output_type": "stream",
          "name": "stdout",
          "text": [
            "<\n"
          ]
        }
      ]
    },
    {
      "cell_type": "code",
      "source": [
        "#Q74\n",
        "import numpy as np\n",
        "\n",
        "arr = np.array([1, 2, 3, 4])\n",
        "\n",
        "if arr.dtype.byteorder == '>':  # If big-endian\n",
        "    new_arr = arr.newbyteorder('<')  # Convert to little-endian\n",
        "else:\n",
        "    new_arr = arr.copy()  # No need to swap\n",
        "\n",
        "print(new_arr.dtype.byteorder)"
      ],
      "metadata": {
        "colab": {
          "base_uri": "https://localhost:8080/"
        },
        "id": "6XMOaW_x-nIU",
        "outputId": "5fd612be-5650-456d-d393-57d356168401"
      },
      "execution_count": null,
      "outputs": [
        {
          "output_type": "stream",
          "name": "stdout",
          "text": [
            "=\n"
          ]
        }
      ]
    },
    {
      "cell_type": "code",
      "source": [
        "#Q75\n",
        "import numpy as np\n",
        "import sys\n",
        "arr = np.array([1, 2, 3, 4])\n",
        "\n",
        "if arr.dtype.byteorder != sys.byteorder:\n",
        "    print(\"Byte swapping is necessary.\")\n",
        "else:\n",
        "    print(\"Byte swapping is not necessary.\")"
      ],
      "metadata": {
        "colab": {
          "base_uri": "https://localhost:8080/"
        },
        "id": "sTby_17x-77o",
        "outputId": "ea34145e-7781-42d6-a6bd-9f6068be8f13"
      },
      "execution_count": null,
      "outputs": [
        {
          "output_type": "stream",
          "name": "stdout",
          "text": [
            "Byte swapping is necessary.\n"
          ]
        }
      ]
    },
    {
      "cell_type": "code",
      "source": [
        "#Q76\n",
        "import numpy as np\n",
        "\n",
        "arr1 = np.array([1, 2, 3, 4, 5])\n",
        "copy_arr = arr1.copy()\n",
        "\n",
        "copy_arr[0] = 10\n",
        "\n",
        "print(arr1)  # Original array remains unchanged\n",
        "print(copy_arr)"
      ],
      "metadata": {
        "colab": {
          "base_uri": "https://localhost:8080/"
        },
        "id": "xMwhWzFM-6Vg",
        "outputId": "074b630c-bfa9-4edf-8772-dc2215ef26e6"
      },
      "execution_count": null,
      "outputs": [
        {
          "output_type": "stream",
          "name": "stdout",
          "text": [
            "[1 2 3 4 5]\n",
            "[10  2  3  4  5]\n"
          ]
        }
      ]
    },
    {
      "cell_type": "code",
      "source": [
        "#Q77\n",
        "import numpy as np\n",
        "\n",
        "matrix = np.array([[1, 2, 3], [4, 5, 6], [7, 8, 9]])\n",
        "view_slice = matrix[1:, 1:]\n",
        "\n",
        "view_slice[0, 0] = 100\n",
        "\n",
        "print(matrix)  # Original matrix is modified\n",
        "print(view_slice)"
      ],
      "metadata": {
        "colab": {
          "base_uri": "https://localhost:8080/"
        },
        "id": "cT0Usq3J_PHv",
        "outputId": "0f19426b-3569-4f5e-f44d-ed167b75fddd"
      },
      "execution_count": null,
      "outputs": [
        {
          "output_type": "stream",
          "name": "stdout",
          "text": [
            "[[  1   2   3]\n",
            " [  4 100   6]\n",
            " [  7   8   9]]\n",
            "[[100   6]\n",
            " [  8   9]]\n"
          ]
        }
      ]
    },
    {
      "cell_type": "code",
      "source": [
        "#Q78\n",
        "import numpy as np\n",
        "\n",
        "array_a = np.arange(1, 13).reshape(4, 3)\n",
        "view_b = array_a[1:]\n",
        "\n",
        "view_b += 5\n",
        "\n",
        "print(array_a)  # Original array is modified"
      ],
      "metadata": {
        "colab": {
          "base_uri": "https://localhost:8080/"
        },
        "id": "fQY04zbX_Tl1",
        "outputId": "e9bd64f4-a7c6-44ef-b6af-060b47e3f72d"
      },
      "execution_count": null,
      "outputs": [
        {
          "output_type": "stream",
          "name": "stdout",
          "text": [
            "[[ 1  2  3]\n",
            " [ 9 10 11]\n",
            " [12 13 14]\n",
            " [15 16 17]]\n"
          ]
        }
      ]
    },
    {
      "cell_type": "code",
      "source": [
        "#Q79\n",
        "import numpy as np\n",
        "\n",
        "orig_array = np.arange(1, 9).reshape(2, 4)\n",
        "reshaped_view = orig_array.reshape(4, 2)\n",
        "\n",
        "reshaped_view[0, 0] = 100\n",
        "\n",
        "print(orig_array)  # Original array is modified\n",
        "print(reshaped_view)"
      ],
      "metadata": {
        "colab": {
          "base_uri": "https://localhost:8080/"
        },
        "id": "2hmvbTLD_tHD",
        "outputId": "18f17f9e-98e0-4d32-fc08-3a9799813854"
      },
      "execution_count": null,
      "outputs": [
        {
          "output_type": "stream",
          "name": "stdout",
          "text": [
            "[[100   2   3   4]\n",
            " [  5   6   7   8]]\n",
            "[[100   2]\n",
            " [  3   4]\n",
            " [  5   6]\n",
            " [  7   8]]\n"
          ]
        }
      ]
    },
    {
      "cell_type": "code",
      "source": [
        "#Q80\n",
        "import numpy as np\n",
        "\n",
        "data = np.random.randint(1, 10, (3, 4))\n",
        "data_copy = data[data > 5].copy()\n",
        "\n",
        "data_copy[0] = 100\n",
        "\n",
        "print(data)  # Original data is unchanged\n",
        "print(data_copy)"
      ],
      "metadata": {
        "colab": {
          "base_uri": "https://localhost:8080/"
        },
        "id": "t8Jh9PWe_1Ud",
        "outputId": "3e00bc0a-6014-4935-8e6d-5ead25b0f57f"
      },
      "execution_count": null,
      "outputs": [
        {
          "output_type": "stream",
          "name": "stdout",
          "text": [
            "[[8 6 8 2]\n",
            " [4 8 8 3]\n",
            " [4 6 3 8]]\n",
            "[100   6   8   8   8   6   8]\n"
          ]
        }
      ]
    },
    {
      "cell_type": "code",
      "source": [
        "#Q81\n",
        "import numpy as np\n",
        "\n",
        "A = np.array([[1, 2], [3, 4]])\n",
        "B = np.array([[5, 6], [7, 8]])\n",
        "\n",
        "sum_matrix = A + B\n",
        "diff_matrix = A - B\n",
        "\n",
        "print(sum_matrix)\n",
        "print(diff_matrix)"
      ],
      "metadata": {
        "colab": {
          "base_uri": "https://localhost:8080/"
        },
        "id": "PM1HjFB__8VH",
        "outputId": "96a7bd48-d620-4d56-a1f5-73ee2f674cd1"
      },
      "execution_count": null,
      "outputs": [
        {
          "output_type": "stream",
          "name": "stdout",
          "text": [
            "[[ 6  8]\n",
            " [10 12]]\n",
            "[[-4 -4]\n",
            " [-4 -4]]\n"
          ]
        }
      ]
    },
    {
      "cell_type": "code",
      "source": [
        "#Q82\n",
        "import numpy as np\n",
        "\n",
        "C = np.array([[1, 2], [3, 4], [5, 6]])\n",
        "D = np.array([[7, 8, 9, 10], [11, 12, 13, 14]])\n",
        "\n",
        "product = np.dot(C, D)\n",
        "print(product)"
      ],
      "metadata": {
        "colab": {
          "base_uri": "https://localhost:8080/"
        },
        "id": "H5GqftUmAB7v",
        "outputId": "76cd218b-12a5-463b-e36f-b353175c3ca9"
      },
      "execution_count": null,
      "outputs": [
        {
          "output_type": "stream",
          "name": "stdout",
          "text": [
            "[[ 29  32  35  38]\n",
            " [ 65  72  79  86]\n",
            " [101 112 123 134]]\n"
          ]
        }
      ]
    },
    {
      "cell_type": "code",
      "source": [
        "#Q83\n",
        "import numpy as np\n",
        "\n",
        "E = np.array([[1, 2, 3], [4, 5, 6]])\n",
        "transpose_E = E.T\n",
        "\n",
        "print(transpose_E)"
      ],
      "metadata": {
        "colab": {
          "base_uri": "https://localhost:8080/"
        },
        "id": "dmVWFEV2AFDn",
        "outputId": "a4b69430-c6ef-45d6-b21c-5986eb25c25a"
      },
      "execution_count": null,
      "outputs": [
        {
          "output_type": "stream",
          "name": "stdout",
          "text": [
            "[[1 4]\n",
            " [2 5]\n",
            " [3 6]]\n"
          ]
        }
      ]
    },
    {
      "cell_type": "code",
      "source": [
        "#Q84\n",
        "import numpy as np\n",
        "\n",
        "F = np.array([[1, 2], [3, 4]])\n",
        "det_F = np.linalg.det(F)\n",
        "\n",
        "print(det_F)"
      ],
      "metadata": {
        "colab": {
          "base_uri": "https://localhost:8080/"
        },
        "id": "we640pe1AHfz",
        "outputId": "fa2349cb-6968-43db-f226-7d873cfdc39d"
      },
      "execution_count": null,
      "outputs": [
        {
          "output_type": "stream",
          "name": "stdout",
          "text": [
            "-2.0000000000000004\n"
          ]
        }
      ]
    },
    {
      "cell_type": "code",
      "source": [
        "#Q85\n",
        "import numpy as np\n",
        "\n",
        "# Create a square matrix G\n",
        "G = np.array([[1, 2], [3, 4]])\n",
        "\n",
        "# Find the inverse of G\n",
        "inverse_G = np.linalg.inv(G)\n",
        "\n",
        "print(inverse_G)"
      ],
      "metadata": {
        "colab": {
          "base_uri": "https://localhost:8080/"
        },
        "id": "yd-Z8JiLALe4",
        "outputId": "0037bdd8-dc55-4adc-de35-38f7b9b5c744"
      },
      "execution_count": null,
      "outputs": [
        {
          "output_type": "stream",
          "name": "stdout",
          "text": [
            "[[-2.   1. ]\n",
            " [ 1.5 -0.5]]\n"
          ]
        }
      ]
    },
    {
      "cell_type": "code",
      "source": [],
      "metadata": {
        "id": "ZP1ncieJASs0"
      },
      "execution_count": null,
      "outputs": []
    }
  ]
}