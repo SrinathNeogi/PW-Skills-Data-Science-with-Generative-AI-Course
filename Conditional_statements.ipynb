{
 "cells": [
  {
   "cell_type": "markdown",
   "id": "1cf07946",
   "metadata": {},
   "source": [
    "Conditional Statemet -> Coding decesions based on statements."
   ]
  },
  {
   "cell_type": "code",
   "execution_count": 3,
   "id": "62003065",
   "metadata": {},
   "outputs": [
    {
     "name": "stdout",
     "output_type": "stream",
     "text": [
      "Enter age : 44\n",
      "Adult\n"
     ]
    }
   ],
   "source": [
    "a = int(input(\"Enter age : \"))\n",
    "if(a >= 18):\n",
    "    print(\"Adult\")\n",
    "else:\n",
    "    print(\"Not Adult\")"
   ]
  },
  {
   "cell_type": "code",
   "execution_count": 5,
   "id": "6c3e5097",
   "metadata": {},
   "outputs": [
    {
     "name": "stdout",
     "output_type": "stream",
     "text": [
      "Enter number -> 5\n",
      "5 is Odd.\n"
     ]
    }
   ],
   "source": [
    "num = int(input(\"Enter number -> \"))\n",
    "if (num % 2 == 0):\n",
    "    print(num , \"is Even.\", sep=' ')\n",
    "else:\n",
    "    print(num, \"is Odd.\", sep=' ')\n"
   ]
  },
  {
   "cell_type": "code",
   "execution_count": 11,
   "id": "b4333b45",
   "metadata": {},
   "outputs": [
    {
     "name": "stdout",
     "output_type": "stream",
     "text": [
      "Enter your age : 18\n",
      "Eligible for driving.\n"
     ]
    }
   ],
   "source": [
    "#if-elif-else\n",
    "age = int(input(\"Enter your age : \"))\n",
    "if age < 18:\n",
    "    print(\"Not eligible for driving.\")\n",
    "elif age in range (18,66):\n",
    "    print(\"Eligible for driving.\")\n",
    "else:\n",
    "    print(\"Not eligible for driving.\")"
   ]
  },
  {
   "cell_type": "code",
   "execution_count": 17,
   "id": "df828079",
   "metadata": {},
   "outputs": [
    {
     "name": "stdout",
     "output_type": "stream",
     "text": [
      "Enter your marks -> 99\n"
     ]
    },
    {
     "ename": "SyntaxError",
     "evalue": "'break' outside loop (1736130333.py, line 11)",
     "output_type": "error",
     "traceback": [
      "\u001b[1;36m  Cell \u001b[1;32mIn[17], line 11\u001b[1;36m\u001b[0m\n\u001b[1;33m    break;\u001b[0m\n\u001b[1;37m    ^\u001b[0m\n\u001b[1;31mSyntaxError\u001b[0m\u001b[1;31m:\u001b[0m 'break' outside loop\n"
     ]
    }
   ],
   "source": [
    "#Nested if else.\n",
    "marks = int(input(\"Enter your marks -> \"))\n",
    "if marks >= 30:\n",
    "    if marks >= 40:\n",
    "        if marks >= 50:\n",
    "            if marks >= 60:\n",
    "                if marks >= 70:\n",
    "                    if marks >= 80:\n",
    "                        if marks >= 90:\n",
    "                            print(\"O grade.\")\n",
    "                        print(\"E grade.\")\n",
    "                    print(\"A grade.\")\n",
    "                print(\"B grade.\")\n",
    "            print(\"C grade.\")\n",
    "        print(\"D grade.\")\n",
    "    print(\"F grade.\")\n",
    "else:\n",
    "    print(\"Failed.\")\n",
    "#Giving error"
   ]
  },
  {
   "cell_type": "code",
   "execution_count": 19,
   "id": "df00f8dd",
   "metadata": {},
   "outputs": [
    {
     "name": "stdout",
     "output_type": "stream",
     "text": [
      "Enter x : 2\n",
      "Enter y : 3\n",
      "Neither x nor y greater than 5.\n"
     ]
    }
   ],
   "source": [
    "x = int(input(\"Enter x : \"))\n",
    "y = int(input(\"Enter y : \"))\n",
    "if x > 5:\n",
    "    if y > 5:\n",
    "        print(\"x and y both greater than 5.\")\n",
    "    else:\n",
    "        print(\"x is greater than 5 but y not.\")\n",
    "else:\n",
    "    print(\"Neither x nor y greater than 5.\")"
   ]
  },
  {
   "cell_type": "code",
   "execution_count": 22,
   "id": "7c805d32",
   "metadata": {},
   "outputs": [
    {
     "name": "stdout",
     "output_type": "stream",
     "text": [
      "Enter your name : sre\n",
      "Enter your Email : @\n",
      "Enter your age : 16\n",
      "Enter the password : sdf\n",
      "Under aged candidate.\n"
     ]
    }
   ],
   "source": [
    "name = input(\"Enter your name : \")\n",
    "email = input(\"Enter your Email : \")\n",
    "age = int(input(\"Enter your age : \"))\n",
    "password = input(\"Enter the password : \")\n",
    "if name == \"\":\n",
    "    print(\"Name field can't be empty.\")\n",
    "else:\n",
    "    if '@' not in email:\n",
    "        print(\"Invalid email.\")\n",
    "    elif age < 18:\n",
    "        print(\"Under aged candidate.\")\n",
    "    elif len(password) <= 0:\n",
    "        print(\"Invalid password.\")\n",
    "    else:\n",
    "        print(\"Registration is successful.\")\n",
    "    "
   ]
  },
  {
   "cell_type": "code",
   "execution_count": null,
   "id": "258c70bd",
   "metadata": {},
   "outputs": [],
   "source": []
  }
 ],
 "metadata": {
  "kernelspec": {
   "display_name": "Python 3 (ipykernel)",
   "language": "python",
   "name": "python3"
  },
  "language_info": {
   "codemirror_mode": {
    "name": "ipython",
    "version": 3
   },
   "file_extension": ".py",
   "mimetype": "text/x-python",
   "name": "python",
   "nbconvert_exporter": "python",
   "pygments_lexer": "ipython3",
   "version": "3.10.9"
  }
 },
 "nbformat": 4,
 "nbformat_minor": 5
}
