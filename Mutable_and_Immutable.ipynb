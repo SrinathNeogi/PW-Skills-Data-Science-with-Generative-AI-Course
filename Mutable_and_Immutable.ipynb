{
 "cells": [
  {
   "cell_type": "code",
   "execution_count": 1,
   "id": "41cc6e90",
   "metadata": {},
   "outputs": [
    {
     "name": "stdout",
     "output_type": "stream",
     "text": [
      "Srinath\n"
     ]
    }
   ],
   "source": [
    "# s is a container\n",
    "s = \"Srinath\"\n",
    "#Srinath\n",
    "#Indexing -> \n",
    "# 0 1 2 3 4 5 6\n",
    "#-7-6-5-4-3-2-1\n",
    "print(s)"
   ]
  },
  {
   "cell_type": "code",
   "execution_count": 4,
   "id": "c4b91da6",
   "metadata": {},
   "outputs": [
    {
     "data": {
      "text/plain": [
       "'S'"
      ]
     },
     "execution_count": 4,
     "metadata": {},
     "output_type": "execute_result"
    }
   ],
   "source": [
    "s[-7]"
   ]
  },
  {
   "cell_type": "code",
   "execution_count": 2,
   "id": "26bb0226",
   "metadata": {},
   "outputs": [
    {
     "data": {
      "text/plain": [
       "'i'"
      ]
     },
     "execution_count": 2,
     "metadata": {},
     "output_type": "execute_result"
    }
   ],
   "source": [
    "s[2]"
   ]
  },
  {
   "cell_type": "code",
   "execution_count": 3,
   "id": "757c5fd4",
   "metadata": {},
   "outputs": [
    {
     "data": {
      "text/plain": [
       "'h'"
      ]
     },
     "execution_count": 3,
     "metadata": {},
     "output_type": "execute_result"
    }
   ],
   "source": [
    "s[-1]"
   ]
  },
  {
   "cell_type": "code",
   "execution_count": 11,
   "id": "54eee03a",
   "metadata": {},
   "outputs": [
    {
     "name": "stdout",
     "output_type": "stream",
     "text": [
      "[1, 2, 3, 4, 'srinath', 'Ishika', (5+7j)]\n"
     ]
    }
   ],
   "source": [
    "# list is another type of container\n",
    "list_container = [1,2,3,4,\"srinath\", \"Ishika\", 5+7j]\n",
    "print(list_container)"
   ]
  },
  {
   "cell_type": "code",
   "execution_count": 12,
   "id": "ca1efbe8",
   "metadata": {},
   "outputs": [
    {
     "data": {
      "text/plain": [
       "list"
      ]
     },
     "execution_count": 12,
     "metadata": {},
     "output_type": "execute_result"
    }
   ],
   "source": [
    "type(list_container)"
   ]
  },
  {
   "cell_type": "code",
   "execution_count": 14,
   "id": "3c3ac4be",
   "metadata": {},
   "outputs": [
    {
     "data": {
      "text/plain": [
       "2"
      ]
     },
     "execution_count": 14,
     "metadata": {},
     "output_type": "execute_result"
    }
   ],
   "source": [
    "list_container[1]"
   ]
  },
  {
   "cell_type": "code",
   "execution_count": 18,
   "id": "10b8a318",
   "metadata": {},
   "outputs": [],
   "source": [
    "#Changing list item\n",
    "list_container[5] = \"Ishika Nandi\""
   ]
  },
  {
   "cell_type": "code",
   "execution_count": 19,
   "id": "5d27e2a4",
   "metadata": {},
   "outputs": [
    {
     "data": {
      "text/plain": [
       "[1, 2, 3, 4, 'srinath', 'Ishika Nandi', (5+7j)]"
      ]
     },
     "execution_count": 19,
     "metadata": {},
     "output_type": "execute_result"
    }
   ],
   "source": [
    "list_container\n"
   ]
  },
  {
   "cell_type": "markdown",
   "id": "2e47452d",
   "metadata": {},
   "source": [
    "Objects or Containers whose state or values could be changed after it is created are called Mutable Objects or Mutable Containers"
   ]
  },
  {
   "cell_type": "code",
   "execution_count": 20,
   "id": "112a1fb2",
   "metadata": {},
   "outputs": [
    {
     "data": {
      "text/plain": [
       "'Srinath'"
      ]
     },
     "execution_count": 20,
     "metadata": {},
     "output_type": "execute_result"
    }
   ],
   "source": [
    "s = \"Srinath\"\n",
    "s\n"
   ]
  },
  {
   "cell_type": "code",
   "execution_count": 21,
   "id": "6bc5c92e",
   "metadata": {},
   "outputs": [
    {
     "data": {
      "text/plain": [
       "'n'"
      ]
     },
     "execution_count": 21,
     "metadata": {},
     "output_type": "execute_result"
    }
   ],
   "source": [
    "s[3]\n"
   ]
  },
  {
   "cell_type": "code",
   "execution_count": 22,
   "id": "1ec424ed",
   "metadata": {},
   "outputs": [
    {
     "ename": "TypeError",
     "evalue": "'str' object does not support item assignment",
     "output_type": "error",
     "traceback": [
      "\u001b[1;31m---------------------------------------------------------------------------\u001b[0m",
      "\u001b[1;31mTypeError\u001b[0m                                 Traceback (most recent call last)",
      "Cell \u001b[1;32mIn[22], line 1\u001b[0m\n\u001b[1;32m----> 1\u001b[0m s[\u001b[38;5;241m3\u001b[39m] \u001b[38;5;241m=\u001b[39m \u001b[38;5;124m'\u001b[39m\u001b[38;5;124mN\u001b[39m\u001b[38;5;124m'\u001b[39m\n",
      "\u001b[1;31mTypeError\u001b[0m: 'str' object does not support item assignment"
     ]
    }
   ],
   "source": [
    "s[3] = 'N'"
   ]
  },
  {
   "cell_type": "markdown",
   "id": "953a7eab",
   "metadata": {},
   "source": [
    "Normal String objects are immutable as the elements or values are can't be changed further, as they are created.\n",
    "{'str' object does not support item assignment.} this error will be thrown. "
   ]
  }
 ],
 "metadata": {
  "kernelspec": {
   "display_name": "Python 3 (ipykernel)",
   "language": "python",
   "name": "python3"
  },
  "language_info": {
   "codemirror_mode": {
    "name": "ipython",
    "version": 3
   },
   "file_extension": ".py",
   "mimetype": "text/x-python",
   "name": "python",
   "nbconvert_exporter": "python",
   "pygments_lexer": "ipython3",
   "version": "3.10.9"
  }
 },
 "nbformat": 4,
 "nbformat_minor": 5
}
